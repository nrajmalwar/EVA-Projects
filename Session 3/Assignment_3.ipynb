{
  "nbformat": 4,
  "nbformat_minor": 0,
  "metadata": {
    "colab": {
      "name": "Assignment 3_EVA.ipynb",
      "version": "0.3.2",
      "provenance": [],
      "collapsed_sections": [],
      "include_colab_link": true
    },
    "kernelspec": {
      "name": "python3",
      "display_name": "Python 3"
    },
    "accelerator": "GPU"
  },
  "cells": [
    {
      "cell_type": "markdown",
      "metadata": {
        "id": "view-in-github",
        "colab_type": "text"
      },
      "source": [
        "<a href=\"https://colab.research.google.com/github/nrajmalwar/Project/blob/master/Session%203/Assignment_3.ipynb\" target=\"_parent\"><img src=\"https://colab.research.google.com/assets/colab-badge.svg\" alt=\"Open In Colab\"/></a>"
      ]
    },
    {
      "cell_type": "markdown",
      "metadata": {
        "id": "KLaS9qHarzVC",
        "colab_type": "text"
      },
      "source": [
        "Nishad Rajmalwar, Batch F6, nrajmalwar@gmail.com"
      ]
    },
    {
      "cell_type": "markdown",
      "metadata": {
        "id": "aNyZv-Ec52ot",
        "colab_type": "text"
      },
      "source": [
        "# **Import Libraries and modules**"
      ]
    },
    {
      "cell_type": "markdown",
      "metadata": {
        "id": "x2yrkAO1r4n5",
        "colab_type": "text"
      },
      "source": [
        "Install and import keras library"
      ]
    },
    {
      "cell_type": "code",
      "metadata": {
        "id": "3m3w1Cw49Zkt",
        "colab_type": "code",
        "colab": {}
      },
      "source": [
        "# https://keras.io/\n",
        "!pip install -q keras\n",
        "import keras"
      ],
      "execution_count": 0,
      "outputs": []
    },
    {
      "cell_type": "markdown",
      "metadata": {
        "id": "NZixXfX3r7PO",
        "colab_type": "text"
      },
      "source": [
        "Important important APIs, functions and libraries"
      ]
    },
    {
      "cell_type": "code",
      "metadata": {
        "id": "Eso6UHE080D4",
        "colab_type": "code",
        "colab": {}
      },
      "source": [
        "import numpy as np\n",
        "\n",
        "from keras.models import Sequential\n",
        "from keras.layers import Dense, Dropout, Activation, Flatten, Add\n",
        "from keras.layers import Convolution2D, MaxPooling2D, GlobalAveragePooling2D, SeparableConv2D\n",
        "from keras.utils import np_utils\n",
        "from keras.preprocessing.image import ImageDataGenerator\n",
        "from keras.datasets import mnist\n",
        "from keras.models import load_model\n",
        "from keras.callbacks import ModelCheckpoint"
      ],
      "execution_count": 0,
      "outputs": []
    },
    {
      "cell_type": "markdown",
      "metadata": {
        "id": "zByEi95J86RD",
        "colab_type": "text"
      },
      "source": [
        "### Load pre-shuffled MNIST data into train and test sets"
      ]
    },
    {
      "cell_type": "markdown",
      "metadata": {
        "id": "kTflyJG_sBDu",
        "colab_type": "text"
      },
      "source": [
        "Load and split the data into training and test set"
      ]
    },
    {
      "cell_type": "code",
      "metadata": {
        "id": "7eRM0QWN83PV",
        "colab_type": "code",
        "colab": {}
      },
      "source": [
        "(X_train, y_train), (X_test, y_test) = mnist.load_data()"
      ],
      "execution_count": 0,
      "outputs": []
    },
    {
      "cell_type": "markdown",
      "metadata": {
        "id": "1Hvs3DaXsGzv",
        "colab_type": "text"
      },
      "source": [
        "Print the shape of X_train (examples of the dataset) and plot the first image"
      ]
    },
    {
      "cell_type": "code",
      "metadata": {
        "id": "4a4Be72j8-ZC",
        "colab_type": "code",
        "outputId": "e6bdbb11-ab62-453a-8350-bd844d507d76",
        "colab": {
          "base_uri": "https://localhost:8080/",
          "height": 304
        }
      },
      "source": [
        "print (X_train.shape)\n",
        "from matplotlib import pyplot as plt\n",
        "%matplotlib inline\n",
        "plt.imshow(X_train[0])"
      ],
      "execution_count": 39,
      "outputs": [
        {
          "output_type": "stream",
          "text": [
            "(60000, 28, 28)\n"
          ],
          "name": "stdout"
        },
        {
          "output_type": "execute_result",
          "data": {
            "text/plain": [
              "<matplotlib.image.AxesImage at 0x7fb1c0fee8d0>"
            ]
          },
          "metadata": {
            "tags": []
          },
          "execution_count": 39
        },
        {
          "output_type": "display_data",
          "data": {
            "image/png": "[encoded data removed]",
            "text/plain": [
              "<Figure size 432x288 with 1 Axes>"
            ]
          },
          "metadata": {
            "tags": []
          }
        }
      ]
    },
    {
      "cell_type": "markdown",
      "metadata": {
        "id": "NfF0dCyfsSZ4",
        "colab_type": "text"
      },
      "source": [
        "Reshape the X_train and X_test to (m,  28, 28, 1) tensor"
      ]
    },
    {
      "cell_type": "code",
      "metadata": {
        "id": "dkmprriw9AnZ",
        "colab_type": "code",
        "colab": {}
      },
      "source": [
        "X_train = X_train.reshape(X_train.shape[0], 28, 28,1)\n",
        "X_test = X_test.reshape(X_test.shape[0], 28, 28,1)"
      ],
      "execution_count": 0,
      "outputs": []
    },
    {
      "cell_type": "markdown",
      "metadata": {
        "id": "gZBh78EBsZdX",
        "colab_type": "text"
      },
      "source": [
        "Change the values of X_train, X_test to float32 and normalize them between 0 and 255"
      ]
    },
    {
      "cell_type": "code",
      "metadata": {
        "id": "X2m4YS4E9CRh",
        "colab_type": "code",
        "colab": {}
      },
      "source": [
        "X_train = X_train.astype('float32')\n",
        "X_test = X_test.astype('float32')\n",
        "X_train /= 255\n",
        "X_test /= 255"
      ],
      "execution_count": 0,
      "outputs": []
    },
    {
      "cell_type": "markdown",
      "metadata": {
        "id": "Iawmitd5sftJ",
        "colab_type": "text"
      },
      "source": [
        "Print the first 10 elements of y_train which contains the class labels for X_train"
      ]
    },
    {
      "cell_type": "code",
      "metadata": {
        "id": "0Mn0vAYD9DvB",
        "colab_type": "code",
        "outputId": "5f4006bf-d095-400c-f049-8da041fa9fea",
        "colab": {
          "base_uri": "https://localhost:8080/",
          "height": 35
        }
      },
      "source": [
        "y_train[:10]"
      ],
      "execution_count": 42,
      "outputs": [
        {
          "output_type": "execute_result",
          "data": {
            "text/plain": [
              "array([5, 0, 4, 1, 9, 2, 1, 3, 1, 4], dtype=uint8)"
            ]
          },
          "metadata": {
            "tags": []
          },
          "execution_count": 42
        }
      ]
    },
    {
      "cell_type": "markdown",
      "metadata": {
        "id": "khh_eB46szz2",
        "colab_type": "text"
      },
      "source": [
        "Convert the values of Y_train and Y_test to one-hot vectors"
      ]
    },
    {
      "cell_type": "code",
      "metadata": {
        "id": "ZG8JiXR39FHC",
        "colab_type": "code",
        "colab": {}
      },
      "source": [
        "# Convert 1-dimensional class arrays to 10-dimensional class matrices\n",
        "Y_train = np_utils.to_categorical(y_train, 10)\n",
        "Y_test = np_utils.to_categorical(y_test, 10)"
      ],
      "execution_count": 0,
      "outputs": []
    },
    {
      "cell_type": "code",
      "metadata": {
        "id": "fYlFRvKS9HMB",
        "colab_type": "code",
        "outputId": "e8d3b362-3e27-48cf-dd88-c5bb8a015ebf",
        "colab": {
          "base_uri": "https://localhost:8080/",
          "height": 191
        }
      },
      "source": [
        "Y_train[:10]\n"
      ],
      "execution_count": 44,
      "outputs": [
        {
          "output_type": "execute_result",
          "data": {
            "text/plain": [
              "array([[0., 0., 0., 0., 0., 1., 0., 0., 0., 0.],\n",
              "       [1., 0., 0., 0., 0., 0., 0., 0., 0., 0.],\n",
              "       [0., 0., 0., 0., 1., 0., 0., 0., 0., 0.],\n",
              "       [0., 1., 0., 0., 0., 0., 0., 0., 0., 0.],\n",
              "       [0., 0., 0., 0., 0., 0., 0., 0., 0., 1.],\n",
              "       [0., 0., 1., 0., 0., 0., 0., 0., 0., 0.],\n",
              "       [0., 1., 0., 0., 0., 0., 0., 0., 0., 0.],\n",
              "       [0., 0., 0., 1., 0., 0., 0., 0., 0., 0.],\n",
              "       [0., 1., 0., 0., 0., 0., 0., 0., 0., 0.],\n",
              "       [0., 0., 0., 0., 1., 0., 0., 0., 0., 0.]], dtype=float32)"
            ]
          },
          "metadata": {
            "tags": []
          },
          "execution_count": 44
        }
      ]
    },
    {
      "cell_type": "markdown",
      "metadata": {
        "id": "c92r-IJsHVfl",
        "colab_type": "text"
      },
      "source": [
        "#Image Augmentation"
      ]
    },
    {
      "cell_type": "markdown",
      "metadata": {
        "id": "OWo46asz1Efk",
        "colab_type": "text"
      },
      "source": [
        "Apply image augmentation like rotation, width and height shift, shear and zoom"
      ]
    },
    {
      "cell_type": "code",
      "metadata": {
        "id": "ytYWegnIHYsH",
        "colab_type": "code",
        "colab": {}
      },
      "source": [
        "datagen = ImageDataGenerator(\n",
        "    rotation_range=20,\n",
        "    width_shift_range=0.10,\n",
        "    height_shift_range=0.10,\n",
        "    shear_range=0.10,\n",
        "    zoom_range=0.10)"
      ],
      "execution_count": 0,
      "outputs": []
    },
    {
      "cell_type": "markdown",
      "metadata": {
        "id": "KZAZ_CIXzqWQ",
        "colab_type": "text"
      },
      "source": [
        "#Model Building"
      ]
    },
    {
      "cell_type": "markdown",
      "metadata": {
        "id": "8bUW3bHFs4sw",
        "colab_type": "text"
      },
      "source": [
        "Build a simple convolution model"
      ]
    },
    {
      "cell_type": "code",
      "metadata": {
        "id": "osKqT73Q9JJB",
        "colab_type": "code",
        "outputId": "500c4392-07a5-4fe5-9158-65cb4faff797",
        "colab": {
          "base_uri": "https://localhost:8080/",
          "height": 211
        }
      },
      "source": [
        "from keras.layers import Activation\n",
        "model = Sequential()\n",
        "\n",
        "model.add(Convolution2D(32, 3, 3, activation='relu', input_shape=(28,28,1)))\n",
        "model.add(SeparableConv2D(64, 3, 3, activation='relu'))\n",
        "model.add(SeparableConv2D(64, 3, 3, activation='relu'))\n",
        "model.add(MaxPooling2D(pool_size=(2,2)))\n",
        "model.add(Convolution2D(32, 1, activation='relu'))\n",
        "model.add(SeparableConv2D(64, 3, 3, activation='relu'))\n",
        "model.add(SeparableConv2D(64, 3, 3, activation='relu'))\n",
        "model.add(Convolution2D(10, 1))\n",
        "model.add(GlobalAveragePooling2D())\n",
        "model.add(Activation('softmax'))"
      ],
      "execution_count": 46,
      "outputs": [
        {
          "output_type": "stream",
          "text": [
            "/usr/local/lib/python3.6/dist-packages/ipykernel_launcher.py:5: UserWarning: Update your `Conv2D` call to the Keras 2 API: `Conv2D(32, (3, 3), activation=\"relu\", input_shape=(28, 28, 1...)`\n",
            "  \"\"\"\n",
            "/usr/local/lib/python3.6/dist-packages/ipykernel_launcher.py:6: UserWarning: Update your `SeparableConv2D` call to the Keras 2 API: `SeparableConv2D(64, (3, 3), activation=\"relu\")`\n",
            "  \n",
            "/usr/local/lib/python3.6/dist-packages/ipykernel_launcher.py:7: UserWarning: Update your `SeparableConv2D` call to the Keras 2 API: `SeparableConv2D(64, (3, 3), activation=\"relu\")`\n",
            "  import sys\n",
            "/usr/local/lib/python3.6/dist-packages/ipykernel_launcher.py:10: UserWarning: Update your `SeparableConv2D` call to the Keras 2 API: `SeparableConv2D(64, (3, 3), activation=\"relu\")`\n",
            "  # Remove the CWD from sys.path while we load stuff.\n",
            "/usr/local/lib/python3.6/dist-packages/ipykernel_launcher.py:11: UserWarning: Update your `SeparableConv2D` call to the Keras 2 API: `SeparableConv2D(64, (3, 3), activation=\"relu\")`\n",
            "  # This is added back by InteractiveShellApp.init_path()\n"
          ],
          "name": "stderr"
        }
      ]
    },
    {
      "cell_type": "markdown",
      "metadata": {
        "id": "3YsOCVEGtDcN",
        "colab_type": "text"
      },
      "source": [
        "Print the model summary"
      ]
    },
    {
      "cell_type": "code",
      "metadata": {
        "id": "TzdAYg1k9K7Z",
        "colab_type": "code",
        "outputId": "c600b780-352b-42a0-d2b9-fa67a9768809",
        "colab": {
          "base_uri": "https://localhost:8080/",
          "height": 485
        }
      },
      "source": [
        "model.summary()"
      ],
      "execution_count": 47,
      "outputs": [
        {
          "output_type": "stream",
          "text": [
            "_________________________________________________________________\n",
            "Layer (type)                 Output Shape              Param #   \n",
            "=================================================================\n",
            "conv2d_24 (Conv2D)           (None, 26, 26, 32)        320       \n",
            "_________________________________________________________________\n",
            "separable_conv2d_28 (Separab (None, 24, 24, 64)        2400      \n",
            "_________________________________________________________________\n",
            "separable_conv2d_29 (Separab (None, 22, 22, 64)        4736      \n",
            "_________________________________________________________________\n",
            "max_pooling2d_8 (MaxPooling2 (None, 11, 11, 64)        0         \n",
            "_________________________________________________________________\n",
            "conv2d_25 (Conv2D)           (None, 11, 11, 32)        2080      \n",
            "_________________________________________________________________\n",
            "separable_conv2d_30 (Separab (None, 9, 9, 64)          2400      \n",
            "_________________________________________________________________\n",
            "separable_conv2d_31 (Separab (None, 7, 7, 64)          4736      \n",
            "_________________________________________________________________\n",
            "conv2d_26 (Conv2D)           (None, 7, 7, 10)          650       \n",
            "_________________________________________________________________\n",
            "global_average_pooling2d_8 ( (None, 10)                0         \n",
            "_________________________________________________________________\n",
            "activation_8 (Activation)    (None, 10)                0         \n",
            "=================================================================\n",
            "Total params: 17,322\n",
            "Trainable params: 17,322\n",
            "Non-trainable params: 0\n",
            "_________________________________________________________________\n"
          ],
          "name": "stdout"
        }
      ]
    },
    {
      "cell_type": "markdown",
      "metadata": {
        "id": "F6EKlf6ptE_O",
        "colab_type": "text"
      },
      "source": [
        "Compile the model with the loss function, the optimizer and the metrics used"
      ]
    },
    {
      "cell_type": "code",
      "metadata": {
        "id": "Zp6SuGrL9M3h",
        "colab_type": "code",
        "colab": {}
      },
      "source": [
        "model.compile(loss='categorical_crossentropy',\n",
        "             optimizer='adam',\n",
        "             metrics=['accuracy'])"
      ],
      "execution_count": 0,
      "outputs": []
    },
    {
      "cell_type": "markdown",
      "metadata": {
        "id": "QEFclHAy0VAt",
        "colab_type": "text"
      },
      "source": [
        "Use Google drive to save the model"
      ]
    },
    {
      "cell_type": "code",
      "metadata": {
        "id": "fkn9jgHzgSIv",
        "colab_type": "code",
        "colab": {
          "base_uri": "https://localhost:8080/",
          "height": 35
        },
        "outputId": "a3ee3784-34f5-4bdd-9aaf-ecaf6860bd80"
      },
      "source": [
        "from google.colab import drive\n",
        "drive.mount('/content/drive', force_remount=True)"
      ],
      "execution_count": 49,
      "outputs": [
        {
          "output_type": "stream",
          "text": [
            "Mounted at /content/drive\n"
          ],
          "name": "stdout"
        }
      ]
    },
    {
      "cell_type": "markdown",
      "metadata": {
        "id": "hEVv6Kh10Zun",
        "colab_type": "text"
      },
      "source": [
        "Use checkpointer as a callback"
      ]
    },
    {
      "cell_type": "code",
      "metadata": {
        "id": "dMM7x4b7gcyp",
        "colab_type": "code",
        "colab": {}
      },
      "source": [
        "checkpoint = ModelCheckpoint('/content/drive/My Drive/Colab Notebooks/EVA_Asgn_3.hdf5', monitor='acc', verbose=1, save_best_only=True, save_weights_only=False, mode='auto', period=1)"
      ],
      "execution_count": 0,
      "outputs": []
    },
    {
      "cell_type": "markdown",
      "metadata": {
        "id": "8YCwPhFVzwdD",
        "colab_type": "text"
      },
      "source": [
        "#Model Training"
      ]
    },
    {
      "cell_type": "markdown",
      "metadata": {
        "id": "cfeVPqhttK3u",
        "colab_type": "text"
      },
      "source": [
        "Fit the model on X_train and Y_train for 30 epochs with a batch size of 256"
      ]
    },
    {
      "cell_type": "code",
      "metadata": {
        "id": "f4BHAyTXg_7L",
        "colab_type": "code",
        "outputId": "17903af8-625e-415b-f282-b0efd98c4890",
        "colab": {
          "base_uri": "https://localhost:8080/",
          "height": 2115
        }
      },
      "source": [
        "model.fit_generator(datagen.flow(X_train, Y_train, batch_size=256),\n",
        "                    steps_per_epoch=len(X_train) / 32, epochs=30, verbose=1, callbacks=[checkpoint])"
      ],
      "execution_count": 51,
      "outputs": [
        {
          "output_type": "stream",
          "text": [
            "Epoch 1/30\n",
            "1875/1875 [==============================] - 124s 66ms/step - loss: 0.7966 - acc: 0.7258\n",
            "\n",
            "Epoch 00001: acc improved from -inf to 0.72575, saving model to /content/drive/My Drive/Colab Notebooks/EVA_Asgn_3.hdf5\n",
            "Epoch 2/30\n",
            "1875/1875 [==============================] - 125s 67ms/step - loss: 0.1894 - acc: 0.9438\n",
            "\n",
            "Epoch 00002: acc improved from 0.72575 to 0.94381, saving model to /content/drive/My Drive/Colab Notebooks/EVA_Asgn_3.hdf5\n",
            "Epoch 3/30\n",
            "1875/1875 [==============================] - 124s 66ms/step - loss: 0.1322 - acc: 0.9603\n",
            "\n",
            "Epoch 00003: acc improved from 0.94381 to 0.96033, saving model to /content/drive/My Drive/Colab Notebooks/EVA_Asgn_3.hdf5\n",
            "Epoch 4/30\n",
            "1875/1875 [==============================] - 125s 67ms/step - loss: 0.1021 - acc: 0.9690\n",
            "\n",
            "Epoch 00004: acc improved from 0.96033 to 0.96900, saving model to /content/drive/My Drive/Colab Notebooks/EVA_Asgn_3.hdf5\n",
            "Epoch 5/30\n",
            "1875/1875 [==============================] - 124s 66ms/step - loss: 0.0825 - acc: 0.9749\n",
            "\n",
            "Epoch 00005: acc improved from 0.96900 to 0.97485, saving model to /content/drive/My Drive/Colab Notebooks/EVA_Asgn_3.hdf5\n",
            "Epoch 6/30\n",
            "1875/1875 [==============================] - 123s 66ms/step - loss: 0.0690 - acc: 0.9790\n",
            "\n",
            "Epoch 00006: acc improved from 0.97485 to 0.97899, saving model to /content/drive/My Drive/Colab Notebooks/EVA_Asgn_3.hdf5\n",
            "Epoch 7/30\n",
            "1875/1875 [==============================] - 125s 66ms/step - loss: 0.0591 - acc: 0.9818\n",
            "\n",
            "Epoch 00007: acc improved from 0.97899 to 0.98183, saving model to /content/drive/My Drive/Colab Notebooks/EVA_Asgn_3.hdf5\n",
            "Epoch 8/30\n",
            "1875/1875 [==============================] - 122s 65ms/step - loss: 0.0522 - acc: 0.9839\n",
            "\n",
            "Epoch 00008: acc improved from 0.98183 to 0.98393, saving model to /content/drive/My Drive/Colab Notebooks/EVA_Asgn_3.hdf5\n",
            "Epoch 9/30\n",
            "1875/1875 [==============================] - 123s 66ms/step - loss: 0.0462 - acc: 0.9858\n",
            "\n",
            "Epoch 00009: acc improved from 0.98393 to 0.98581, saving model to /content/drive/My Drive/Colab Notebooks/EVA_Asgn_3.hdf5\n",
            "Epoch 10/30\n",
            "1875/1875 [==============================] - 127s 68ms/step - loss: 0.0426 - acc: 0.9870\n",
            "\n",
            "Epoch 00010: acc improved from 0.98581 to 0.98696, saving model to /content/drive/My Drive/Colab Notebooks/EVA_Asgn_3.hdf5\n",
            "Epoch 11/30\n",
            "1875/1875 [==============================] - 126s 67ms/step - loss: 0.0390 - acc: 0.9881\n",
            "\n",
            "Epoch 00011: acc improved from 0.98696 to 0.98811, saving model to /content/drive/My Drive/Colab Notebooks/EVA_Asgn_3.hdf5\n",
            "Epoch 12/30\n",
            "1875/1875 [==============================] - 126s 67ms/step - loss: 0.0363 - acc: 0.9889\n",
            "\n",
            "Epoch 00012: acc improved from 0.98811 to 0.98894, saving model to /content/drive/My Drive/Colab Notebooks/EVA_Asgn_3.hdf5\n",
            "Epoch 13/30\n",
            "1875/1875 [==============================] - 127s 68ms/step - loss: 0.0335 - acc: 0.9896\n",
            "\n",
            "Epoch 00013: acc improved from 0.98894 to 0.98960, saving model to /content/drive/My Drive/Colab Notebooks/EVA_Asgn_3.hdf5\n",
            "Epoch 14/30\n",
            "1875/1875 [==============================] - 127s 68ms/step - loss: 0.0313 - acc: 0.9903\n",
            "\n",
            "Epoch 00014: acc improved from 0.98960 to 0.99027, saving model to /content/drive/My Drive/Colab Notebooks/EVA_Asgn_3.hdf5\n",
            "Epoch 15/30\n",
            "1875/1875 [==============================] - 125s 67ms/step - loss: 0.0292 - acc: 0.9908\n",
            "\n",
            "Epoch 00015: acc improved from 0.99027 to 0.99082, saving model to /content/drive/My Drive/Colab Notebooks/EVA_Asgn_3.hdf5\n",
            "Epoch 16/30\n",
            "1875/1875 [==============================] - 126s 67ms/step - loss: 0.0274 - acc: 0.9915\n",
            "\n",
            "Epoch 00016: acc improved from 0.99082 to 0.99147, saving model to /content/drive/My Drive/Colab Notebooks/EVA_Asgn_3.hdf5\n",
            "Epoch 17/30\n",
            "1875/1875 [==============================] - 125s 67ms/step - loss: 0.0261 - acc: 0.9918\n",
            "\n",
            "Epoch 00017: acc improved from 0.99147 to 0.99182, saving model to /content/drive/My Drive/Colab Notebooks/EVA_Asgn_3.hdf5\n",
            "Epoch 18/30\n",
            "1875/1875 [==============================] - 125s 67ms/step - loss: 0.0247 - acc: 0.9923\n",
            "\n",
            "Epoch 00018: acc improved from 0.99182 to 0.99234, saving model to /content/drive/My Drive/Colab Notebooks/EVA_Asgn_3.hdf5\n",
            "Epoch 19/30\n",
            "1875/1875 [==============================] - 125s 67ms/step - loss: 0.0240 - acc: 0.9925\n",
            "\n",
            "Epoch 00019: acc improved from 0.99234 to 0.99248, saving model to /content/drive/My Drive/Colab Notebooks/EVA_Asgn_3.hdf5\n",
            "Epoch 20/30\n",
            "1875/1875 [==============================] - 126s 67ms/step - loss: 0.0222 - acc: 0.9931\n",
            "\n",
            "Epoch 00020: acc improved from 0.99248 to 0.99311, saving model to /content/drive/My Drive/Colab Notebooks/EVA_Asgn_3.hdf5\n",
            "Epoch 21/30\n",
            "1875/1875 [==============================] - 126s 67ms/step - loss: 0.0213 - acc: 0.9933\n",
            "\n",
            "Epoch 00021: acc improved from 0.99311 to 0.99328, saving model to /content/drive/My Drive/Colab Notebooks/EVA_Asgn_3.hdf5\n",
            "Epoch 22/30\n",
            "1875/1875 [==============================] - 127s 68ms/step - loss: 0.0208 - acc: 0.9935\n",
            "\n",
            "Epoch 00022: acc improved from 0.99328 to 0.99351, saving model to /content/drive/My Drive/Colab Notebooks/EVA_Asgn_3.hdf5\n",
            "Epoch 23/30\n",
            "1875/1875 [==============================] - 125s 67ms/step - loss: 0.0203 - acc: 0.9937\n",
            "\n",
            "Epoch 00023: acc improved from 0.99351 to 0.99364, saving model to /content/drive/My Drive/Colab Notebooks/EVA_Asgn_3.hdf5\n",
            "Epoch 24/30\n",
            "1875/1875 [==============================] - 126s 67ms/step - loss: 0.0190 - acc: 0.9940\n",
            "\n",
            "Epoch 00024: acc improved from 0.99364 to 0.99399, saving model to /content/drive/My Drive/Colab Notebooks/EVA_Asgn_3.hdf5\n",
            "Epoch 25/30\n",
            "1875/1875 [==============================] - 126s 67ms/step - loss: 0.0184 - acc: 0.9942\n",
            "\n",
            "Epoch 00025: acc improved from 0.99399 to 0.99423, saving model to /content/drive/My Drive/Colab Notebooks/EVA_Asgn_3.hdf5\n",
            "Epoch 26/30\n",
            "1875/1875 [==============================] - 124s 66ms/step - loss: 0.0173 - acc: 0.9944\n",
            "\n",
            "Epoch 00026: acc improved from 0.99423 to 0.99441, saving model to /content/drive/My Drive/Colab Notebooks/EVA_Asgn_3.hdf5\n",
            "Epoch 27/30\n",
            "1875/1875 [==============================] - 126s 67ms/step - loss: 0.0170 - acc: 0.9946\n",
            "\n",
            "Epoch 00027: acc improved from 0.99441 to 0.99462, saving model to /content/drive/My Drive/Colab Notebooks/EVA_Asgn_3.hdf5\n",
            "Epoch 28/30\n",
            "1875/1875 [==============================] - 124s 66ms/step - loss: 0.0166 - acc: 0.9949\n",
            "\n",
            "Epoch 00028: acc improved from 0.99462 to 0.99488, saving model to /content/drive/My Drive/Colab Notebooks/EVA_Asgn_3.hdf5\n",
            "Epoch 29/30\n",
            "1875/1875 [==============================] - 125s 67ms/step - loss: 0.0168 - acc: 0.9948\n",
            "\n",
            "Epoch 00029: acc did not improve from 0.99488\n",
            "Epoch 30/30\n",
            "1875/1875 [==============================] - 125s 67ms/step - loss: 0.0161 - acc: 0.9950\n",
            "\n",
            "Epoch 00030: acc improved from 0.99488 to 0.99497, saving model to /content/drive/My Drive/Colab Notebooks/EVA_Asgn_3.hdf5\n"
          ],
          "name": "stdout"
        },
        {
          "output_type": "execute_result",
          "data": {
            "text/plain": [
              "<keras.callbacks.History at 0x7fb1c0e4b198>"
            ]
          },
          "metadata": {
            "tags": []
          },
          "execution_count": 51
        }
      ]
    },
    {
      "cell_type": "markdown",
      "metadata": {
        "id": "_qREqkSO0p1S",
        "colab_type": "text"
      },
      "source": [
        "Load the model"
      ]
    },
    {
      "cell_type": "code",
      "metadata": {
        "id": "rn5e7DfUpuf3",
        "colab_type": "code",
        "colab": {}
      },
      "source": [
        "model = load_model('/content/drive/My Drive/Colab Notebooks/EVA_Asgn_3.hdf5')"
      ],
      "execution_count": 0,
      "outputs": []
    },
    {
      "cell_type": "markdown",
      "metadata": {
        "id": "WTGUAGhT0oPE",
        "colab_type": "text"
      },
      "source": [
        "Fit the model on X_train and Y_train for 20 epochs with a batch size of 256"
      ]
    },
    {
      "cell_type": "code",
      "metadata": {
        "id": "7ZmxsD5PsN2W",
        "colab_type": "code",
        "colab": {
          "base_uri": "https://localhost:8080/",
          "height": 1421
        },
        "outputId": "53504dc6-a36c-4b5b-9a11-2c2e710aee88"
      },
      "source": [
        "model.fit_generator(datagen.flow(X_train, Y_train, batch_size=256),\n",
        "                    steps_per_epoch=len(X_train) / 32, epochs=20, verbose=1, callbacks=[checkpoint])"
      ],
      "execution_count": 53,
      "outputs": [
        {
          "output_type": "stream",
          "text": [
            "Epoch 1/20\n",
            "1875/1875 [==============================] - 124s 66ms/step - loss: 0.0151 - acc: 0.9953\n",
            "\n",
            "Epoch 00001: acc improved from 0.99497 to 0.99527, saving model to /content/drive/My Drive/Colab Notebooks/EVA_Asgn_3.hdf5\n",
            "Epoch 2/20\n",
            "1875/1875 [==============================] - 125s 67ms/step - loss: 0.0152 - acc: 0.9952\n",
            "\n",
            "Epoch 00002: acc did not improve from 0.99527\n",
            "Epoch 3/20\n",
            "1875/1875 [==============================] - 125s 66ms/step - loss: 0.0141 - acc: 0.9955\n",
            "\n",
            "Epoch 00003: acc improved from 0.99527 to 0.99551, saving model to /content/drive/My Drive/Colab Notebooks/EVA_Asgn_3.hdf5\n",
            "Epoch 4/20\n",
            "1875/1875 [==============================] - 126s 67ms/step - loss: 0.0139 - acc: 0.9957\n",
            "\n",
            "Epoch 00004: acc improved from 0.99551 to 0.99566, saving model to /content/drive/My Drive/Colab Notebooks/EVA_Asgn_3.hdf5\n",
            "Epoch 5/20\n",
            "1875/1875 [==============================] - 124s 66ms/step - loss: 0.0134 - acc: 0.9957\n",
            "\n",
            "Epoch 00005: acc improved from 0.99566 to 0.99570, saving model to /content/drive/My Drive/Colab Notebooks/EVA_Asgn_3.hdf5\n",
            "Epoch 6/20\n",
            "1875/1875 [==============================] - 126s 67ms/step - loss: 0.0135 - acc: 0.9958\n",
            "\n",
            "Epoch 00006: acc improved from 0.99570 to 0.99579, saving model to /content/drive/My Drive/Colab Notebooks/EVA_Asgn_3.hdf5\n",
            "Epoch 7/20\n",
            "1875/1875 [==============================] - 125s 67ms/step - loss: 0.0128 - acc: 0.9959\n",
            "\n",
            "Epoch 00007: acc improved from 0.99579 to 0.99595, saving model to /content/drive/My Drive/Colab Notebooks/EVA_Asgn_3.hdf5\n",
            "Epoch 8/20\n",
            "1875/1875 [==============================] - 123s 66ms/step - loss: 0.0123 - acc: 0.9961\n",
            "\n",
            "Epoch 00008: acc improved from 0.99595 to 0.99610, saving model to /content/drive/My Drive/Colab Notebooks/EVA_Asgn_3.hdf5\n",
            "Epoch 9/20\n",
            "1875/1875 [==============================] - 126s 67ms/step - loss: 0.0124 - acc: 0.9960\n",
            "\n",
            "Epoch 00009: acc did not improve from 0.99610\n",
            "Epoch 10/20\n",
            "1875/1875 [==============================] - 123s 66ms/step - loss: 0.0124 - acc: 0.9960\n",
            "\n",
            "Epoch 00010: acc did not improve from 0.99610\n",
            "Epoch 11/20\n",
            "1875/1875 [==============================] - 126s 67ms/step - loss: 0.0116 - acc: 0.9963\n",
            "\n",
            "Epoch 00011: acc improved from 0.99610 to 0.99632, saving model to /content/drive/My Drive/Colab Notebooks/EVA_Asgn_3.hdf5\n",
            "Epoch 12/20\n",
            "1875/1875 [==============================] - 124s 66ms/step - loss: 0.0114 - acc: 0.9963\n",
            "\n",
            "Epoch 00012: acc improved from 0.99632 to 0.99633, saving model to /content/drive/My Drive/Colab Notebooks/EVA_Asgn_3.hdf5\n",
            "Epoch 13/20\n",
            "1875/1875 [==============================] - 126s 67ms/step - loss: 0.0114 - acc: 0.9964\n",
            "\n",
            "Epoch 00013: acc improved from 0.99633 to 0.99641, saving model to /content/drive/My Drive/Colab Notebooks/EVA_Asgn_3.hdf5\n",
            "Epoch 14/20\n",
            "1875/1875 [==============================] - 125s 67ms/step - loss: 0.0108 - acc: 0.9966\n",
            "\n",
            "Epoch 00014: acc improved from 0.99641 to 0.99655, saving model to /content/drive/My Drive/Colab Notebooks/EVA_Asgn_3.hdf5\n",
            "Epoch 15/20\n",
            "1875/1875 [==============================] - 125s 66ms/step - loss: 0.0105 - acc: 0.9966\n",
            "\n",
            "Epoch 00015: acc improved from 0.99655 to 0.99663, saving model to /content/drive/My Drive/Colab Notebooks/EVA_Asgn_3.hdf5\n",
            "Epoch 16/20\n",
            "1875/1875 [==============================] - 125s 67ms/step - loss: 0.0108 - acc: 0.9967\n",
            "\n",
            "Epoch 00016: acc improved from 0.99663 to 0.99666, saving model to /content/drive/My Drive/Colab Notebooks/EVA_Asgn_3.hdf5\n",
            "Epoch 17/20\n",
            "1875/1875 [==============================] - 124s 66ms/step - loss: 0.0105 - acc: 0.9966\n",
            "\n",
            "Epoch 00017: acc did not improve from 0.99666\n",
            "Epoch 18/20\n",
            "1875/1875 [==============================] - 125s 67ms/step - loss: 0.0102 - acc: 0.9967\n",
            "\n",
            "Epoch 00018: acc improved from 0.99666 to 0.99672, saving model to /content/drive/My Drive/Colab Notebooks/EVA_Asgn_3.hdf5\n",
            "Epoch 19/20\n",
            "1875/1875 [==============================] - 126s 67ms/step - loss: 0.0102 - acc: 0.9967\n",
            "\n",
            "Epoch 00019: acc improved from 0.99672 to 0.99674, saving model to /content/drive/My Drive/Colab Notebooks/EVA_Asgn_3.hdf5\n",
            "Epoch 20/20\n",
            "1875/1875 [==============================] - 124s 66ms/step - loss: 0.0095 - acc: 0.9969\n",
            "\n",
            "Epoch 00020: acc improved from 0.99674 to 0.99693, saving model to /content/drive/My Drive/Colab Notebooks/EVA_Asgn_3.hdf5\n"
          ],
          "name": "stdout"
        },
        {
          "output_type": "execute_result",
          "data": {
            "text/plain": [
              "<keras.callbacks.History at 0x7fb1c0a496a0>"
            ]
          },
          "metadata": {
            "tags": []
          },
          "execution_count": 53
        }
      ]
    },
    {
      "cell_type": "markdown",
      "metadata": {
        "id": "kDsFQbCpzzhV",
        "colab_type": "text"
      },
      "source": [
        "#Model Evaluation"
      ]
    },
    {
      "cell_type": "markdown",
      "metadata": {
        "id": "r6mz9k6wtQCq",
        "colab_type": "text"
      },
      "source": [
        "Evaluate the model on the test set"
      ]
    },
    {
      "cell_type": "code",
      "metadata": {
        "id": "AtsH-lLk-eLb",
        "colab_type": "code",
        "colab": {}
      },
      "source": [
        "score = model.evaluate(X_test, Y_test, verbose=0)"
      ],
      "execution_count": 0,
      "outputs": []
    },
    {
      "cell_type": "markdown",
      "metadata": {
        "id": "AsPC3p8utTiq",
        "colab_type": "text"
      },
      "source": [
        "Print the evaluation score of the model"
      ]
    },
    {
      "cell_type": "code",
      "metadata": {
        "id": "mkX8JMv79q9r",
        "colab_type": "code",
        "outputId": "9442fe3a-c52d-469e-a022-13f7b30dc8bd",
        "colab": {
          "base_uri": "https://localhost:8080/",
          "height": 35
        }
      },
      "source": [
        "print(score)"
      ],
      "execution_count": 57,
      "outputs": [
        {
          "output_type": "stream",
          "text": [
            "[0.019813496434506306, 0.9945]\n"
          ],
          "name": "stdout"
        }
      ]
    },
    {
      "cell_type": "markdown",
      "metadata": {
        "id": "-omd0xUhtWBs",
        "colab_type": "text"
      },
      "source": [
        "Use the model to predict the class labels of test set"
      ]
    },
    {
      "cell_type": "markdown",
      "metadata": {
        "id": "RcaRgtkOz1x7",
        "colab_type": "text"
      },
      "source": [
        "#Model Prediction"
      ]
    },
    {
      "cell_type": "code",
      "metadata": {
        "id": "OCWoJkwE9suh",
        "colab_type": "code",
        "colab": {}
      },
      "source": [
        "y_pred = model.predict(X_test)"
      ],
      "execution_count": 0,
      "outputs": []
    },
    {
      "cell_type": "markdown",
      "metadata": {
        "id": "qxQKMo9ntbOR",
        "colab_type": "text"
      },
      "source": [
        "Compare the predicted values and the actual values"
      ]
    },
    {
      "cell_type": "code",
      "metadata": {
        "id": "Ym7iCFBm9uBs",
        "colab_type": "code",
        "colab": {
          "base_uri": "https://localhost:8080/",
          "height": 347
        },
        "outputId": "bdc6950a-1e1d-48a8-e115-39845ba9aaa9"
      },
      "source": [
        "print(y_pred[:9])\n",
        "print(y_test[:9])"
      ],
      "execution_count": 59,
      "outputs": [
        {
          "output_type": "stream",
          "text": [
            "[[4.9331320e-11 1.0897819e-11 2.2904896e-08 1.9494177e-10 1.0216882e-10\n",
            "  5.9025957e-12 1.0839606e-19 1.0000000e+00 6.8614423e-13 2.7860650e-10]\n",
            " [5.6315497e-10 1.0393516e-15 1.0000000e+00 1.4323253e-14 4.2148974e-15\n",
            "  1.7442516e-12 2.8759257e-13 2.2015271e-13 1.1109296e-09 2.7806671e-13]\n",
            " [5.7108764e-07 9.9972993e-01 5.0110560e-09 7.2664563e-09 6.8348418e-05\n",
            "  2.6451627e-07 3.2522134e-05 1.5732384e-04 2.5738325e-06 8.3854156e-06]\n",
            " [9.9999988e-01 9.2339140e-34 6.7398839e-15 2.5578834e-19 3.0691905e-23\n",
            "  1.3782138e-13 1.2146675e-07 5.3036348e-22 1.9629799e-14 2.8666056e-12]\n",
            " [9.0540477e-24 5.1979986e-22 5.1411978e-17 3.2121917e-16 9.9999237e-01\n",
            "  6.3593322e-20 8.9403021e-18 2.1740561e-18 7.2035700e-06 4.0652125e-07]\n",
            " [3.6239591e-08 9.9996972e-01 2.0075355e-10 2.1055442e-11 6.3407638e-06\n",
            "  3.8489802e-09 8.4902985e-07 2.2882885e-05 4.8761422e-08 2.4094462e-07]\n",
            " [2.8186404e-23 1.3969295e-18 1.1244008e-19 4.8675624e-20 1.0000000e+00\n",
            "  1.3861491e-17 7.2111075e-18 4.7987784e-11 2.9441098e-09 6.8408973e-10]\n",
            " [1.1658963e-18 5.4628202e-19 8.4117968e-14 5.4131204e-18 1.8793575e-07\n",
            "  1.4112721e-19 2.2057414e-25 8.4353115e-12 1.2318670e-10 9.9999976e-01]\n",
            " [4.6055607e-13 3.5274942e-22 5.5336008e-10 2.1468727e-09 6.7915470e-13\n",
            "  9.9986815e-01 2.3391985e-06 6.1870557e-20 1.2941871e-04 3.7260120e-10]]\n",
            "[7 2 1 0 4 1 4 9 5]\n"
          ],
          "name": "stdout"
        }
      ]
    },
    {
      "cell_type": "code",
      "metadata": {
        "id": "CT--y98_dr2T",
        "colab_type": "code",
        "colab": {}
      },
      "source": [
        "layer_dict = dict([(layer.name, layer) for layer in model.layers])"
      ],
      "execution_count": 0,
      "outputs": []
    },
    {
      "cell_type": "code",
      "metadata": {
        "id": "2GY4Upv4dsUR",
        "colab_type": "code",
        "colab": {
          "base_uri": "https://localhost:8080/",
          "height": 837
        },
        "outputId": "d84fced1-156e-40c6-fbdb-770fcb936271"
      },
      "source": [
        "import numpy as np\n",
        "from matplotlib import pyplot as plt\n",
        "from keras import backend as K\n",
        "%matplotlib inline\n",
        "# util function to convert a tensor into a valid image\n",
        "def deprocess_image(x):\n",
        "    # normalize tensor: center on 0., ensure std is 0.1\n",
        "    x -= x.mean()\n",
        "    x /= (x.std() + 1e-5)\n",
        "    x *= 0.1\n",
        "\n",
        "    # clip to [0, 1]\n",
        "    x += 0.5\n",
        "    x = np.clip(x, 0, 1)\n",
        "\n",
        "    # convert to RGB array\n",
        "    x *= 255\n",
        "    #x = x.transpose((1, 2, 0))\n",
        "    x = np.clip(x, 0, 255).astype('uint8')\n",
        "    return x\n",
        "\n",
        "def vis_img_in_filter(img = np.array(X_train[2]).reshape((1, 28, 28, 1)).astype(np.float64), \n",
        "                      layer_name = 'conv2d_25'):\n",
        "    layer_output = layer_dict[layer_name].output\n",
        "    img_ascs = list()\n",
        "    for filter_index in range(layer_output.shape[3]):\n",
        "        # build a loss function that maximizes the activation\n",
        "        # of the nth filter of the layer considered\n",
        "        loss = K.mean(layer_output[:, :, :, filter_index])\n",
        "\n",
        "        # compute the gradient of the input picture wrt this loss\n",
        "        grads = K.gradients(loss, model.input)[0]\n",
        "\n",
        "        # normalization trick: we normalize the gradient\n",
        "        grads /= (K.sqrt(K.mean(K.square(grads))) + 1e-5)\n",
        "\n",
        "        # this function returns the loss and grads given the input picture\n",
        "        iterate = K.function([model.input], [loss, grads])\n",
        "\n",
        "        # step size for gradient ascent\n",
        "        step = 5.\n",
        "\n",
        "        img_asc = np.array(img)\n",
        "        # run gradient ascent for 20 steps\n",
        "        for i in range(20):\n",
        "            loss_value, grads_value = iterate([img_asc])\n",
        "            img_asc += grads_value * step\n",
        "\n",
        "        img_asc = img_asc[0]\n",
        "        img_ascs.append(deprocess_image(img_asc).reshape((28, 28)))\n",
        "        \n",
        "    if layer_output.shape[3] >= 35:\n",
        "        plot_x, plot_y = 6, 6\n",
        "    elif layer_output.shape[3] >= 23:\n",
        "        plot_x, plot_y = 4, 6\n",
        "    elif layer_output.shape[3] >= 11:\n",
        "        plot_x, plot_y = 2, 6\n",
        "    else:\n",
        "        plot_x, plot_y = 1, 2\n",
        "    fig, ax = plt.subplots(plot_x, plot_y, figsize = (12, 12))\n",
        "    ax[0, 0].imshow(img.reshape((28, 28)), cmap = 'gray')\n",
        "    ax[0, 0].set_title('Input image')\n",
        "    fig.suptitle('Input image and %s filters' % (layer_name,))\n",
        "    fig.tight_layout(pad = 0.3, rect = [0, 0, 0.9, 0.9])\n",
        "    for (x, y) in [(i, j) for i in range(plot_x) for j in range(plot_y)]:\n",
        "        if x == 0 and y == 0:\n",
        "            continue\n",
        "        ax[x, y].imshow(img_ascs[x * plot_y + y - 1], cmap = 'gray')\n",
        "        ax[x, y].set_title('filter %d' % (x * plot_y + y - 1))\n",
        "\n",
        "vis_img_in_filter()"
      ],
      "execution_count": 62,
      "outputs": [
        {
          "output_type": "display_data",
          "data": {
            "image/png": "[encoded data removed]",
            "text/plain": [
              "<Figure size 864x864 with 24 Axes>"
            ]
          },
          "metadata": {
            "tags": []
          }
        }
      ]
    }
  ]
}