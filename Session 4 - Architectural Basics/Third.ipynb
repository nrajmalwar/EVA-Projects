{
  "nbformat": 4,
  "nbformat_minor": 0,
  "metadata": {
    "colab": {
      "name": "Assignment_4_EVA_Third.ipynb",
      "version": "0.3.2",
      "provenance": [],
      "collapsed_sections": [],
      "include_colab_link": true
    },
    "kernelspec": {
      "name": "python3",
      "display_name": "Python 3"
    },
    "accelerator": "GPU"
  },
  "cells": [
    {
      "cell_type": "markdown",
      "metadata": {
        "id": "view-in-github",
        "colab_type": "text"
      },
      "source": [
        "<a href=\"https://colab.research.google.com/github/nrajmalwar/Project/blob/master/Session%204/Third.ipynb\" target=\"_parent\"><img src=\"https://colab.research.google.com/assets/colab-badge.svg\" alt=\"Open In Colab\"/></a>"
      ]
    },
    {
      "cell_type": "markdown",
      "metadata": {
        "id": "KLaS9qHarzVC",
        "colab_type": "text"
      },
      "source": [
        "Nishad Rajmalwar, Batch F6, nrajmalwar@gmail.com"
      ]
    },
    {
      "cell_type": "markdown",
      "metadata": {
        "id": "cunfvxU8MbD8",
        "colab_type": "text"
      },
      "source": [
        "###Planning and Expectations###\n",
        "\n",
        "1.   Our aim is to reach 99.4% accuracy in this model.\n",
        "2. We use BatchNormalization after every Convolution layer except before the prediction layer.\n",
        "3. We add Dropout after every Convolution layer except before the prediction layer. We start with a value of 0.1 for each layer and try tuning it at different points like at the beginning, at the end, near the transition block. We can remove the dropouts at some layers.\n",
        "4. If we do not reach the target accuracy at the end of 10 epochs, we further run the models for 20 more epochs."
      ]
    },
    {
      "cell_type": "markdown",
      "metadata": {
        "id": "aNyZv-Ec52ot",
        "colab_type": "text"
      },
      "source": [
        "# **Import Libraries and modules**"
      ]
    },
    {
      "cell_type": "markdown",
      "metadata": {
        "id": "x2yrkAO1r4n5",
        "colab_type": "text"
      },
      "source": [
        "Install and import keras library"
      ]
    },
    {
      "cell_type": "code",
      "metadata": {
        "id": "3m3w1Cw49Zkt",
        "colab_type": "code",
        "outputId": "4acd98a1-df48-49e3-dfd7-70e44c6612b6",
        "colab": {
          "base_uri": "https://localhost:8080/",
          "height": 35
        }
      },
      "source": [
        "# https://keras.io/\n",
        "!pip install -q keras\n",
        "import keras"
      ],
      "execution_count": 1,
      "outputs": [
        {
          "output_type": "stream",
          "text": [
            "Using TensorFlow backend.\n"
          ],
          "name": "stderr"
        }
      ]
    },
    {
      "cell_type": "markdown",
      "metadata": {
        "id": "NZixXfX3r7PO",
        "colab_type": "text"
      },
      "source": [
        "Important important APIs, functions and libraries"
      ]
    },
    {
      "cell_type": "code",
      "metadata": {
        "id": "Eso6UHE080D4",
        "colab_type": "code",
        "colab": {}
      },
      "source": [
        "import numpy as np\n",
        "\n",
        "from keras.models import Sequential\n",
        "from keras.layers import Dense, Dropout, Activation, Flatten, Add, BatchNormalization\n",
        "from keras.layers import Convolution2D, MaxPooling2D, GlobalAveragePooling2D, SeparableConv2D\n",
        "from keras.utils import np_utils\n",
        "from keras.preprocessing.image import ImageDataGenerator\n",
        "from keras.datasets import mnist\n",
        "from keras.models import load_model\n",
        "from keras.callbacks import ModelCheckpoint"
      ],
      "execution_count": 0,
      "outputs": []
    },
    {
      "cell_type": "markdown",
      "metadata": {
        "id": "zByEi95J86RD",
        "colab_type": "text"
      },
      "source": [
        "### Load pre-shuffled MNIST data into train and test sets"
      ]
    },
    {
      "cell_type": "markdown",
      "metadata": {
        "id": "kTflyJG_sBDu",
        "colab_type": "text"
      },
      "source": [
        "Load and split the data into training and test set"
      ]
    },
    {
      "cell_type": "code",
      "metadata": {
        "id": "7eRM0QWN83PV",
        "colab_type": "code",
        "colab": {}
      },
      "source": [
        "(X_train, y_train), (X_test, y_test) = mnist.load_data()"
      ],
      "execution_count": 0,
      "outputs": []
    },
    {
      "cell_type": "markdown",
      "metadata": {
        "id": "1Hvs3DaXsGzv",
        "colab_type": "text"
      },
      "source": [
        "Print the shape of X_train (examples of the dataset) and plot the first image"
      ]
    },
    {
      "cell_type": "code",
      "metadata": {
        "id": "4a4Be72j8-ZC",
        "colab_type": "code",
        "outputId": "8c9ae48e-8d7e-42bc-9a43-f5a744f75cb1",
        "colab": {
          "base_uri": "https://localhost:8080/",
          "height": 304
        }
      },
      "source": [
        "print (X_train.shape)\n",
        "from matplotlib import pyplot as plt\n",
        "%matplotlib inline\n",
        "plt.imshow(X_train[108])"
      ],
      "execution_count": 4,
      "outputs": [
        {
          "output_type": "stream",
          "text": [
            "(60000, 28, 28)\n"
          ],
          "name": "stdout"
        },
        {
          "output_type": "execute_result",
          "data": {
            "text/plain": [
              "<matplotlib.image.AxesImage at 0x7fa3b3c2b0f0>"
            ]
          },
          "metadata": {
            "tags": []
          },
          "execution_count": 4
        },
        {
          "output_type": "display_data",
          "data": {
            "image/png": "[encoded data removed]",
            "text/plain": [
              "<Figure size 432x288 with 1 Axes>"
            ]
          },
          "metadata": {
            "tags": []
          }
        }
      ]
    },
    {
      "cell_type": "markdown",
      "metadata": {
        "id": "NfF0dCyfsSZ4",
        "colab_type": "text"
      },
      "source": [
        "Reshape the X_train and X_test to (m,  28, 28, 1) tensor"
      ]
    },
    {
      "cell_type": "code",
      "metadata": {
        "id": "dkmprriw9AnZ",
        "colab_type": "code",
        "colab": {}
      },
      "source": [
        "X_train = X_train.reshape(X_train.shape[0], 28, 28,1)\n",
        "X_test = X_test.reshape(X_test.shape[0], 28, 28,1)"
      ],
      "execution_count": 0,
      "outputs": []
    },
    {
      "cell_type": "markdown",
      "metadata": {
        "id": "gZBh78EBsZdX",
        "colab_type": "text"
      },
      "source": [
        "Change the values of X_train, X_test to float32 and normalize them between 0 and 1"
      ]
    },
    {
      "cell_type": "code",
      "metadata": {
        "id": "X2m4YS4E9CRh",
        "colab_type": "code",
        "colab": {}
      },
      "source": [
        "X_train = X_train.astype('float32')\n",
        "X_test = X_test.astype('float32')\n",
        "X_train /= 255\n",
        "X_test /= 255"
      ],
      "execution_count": 0,
      "outputs": []
    },
    {
      "cell_type": "markdown",
      "metadata": {
        "id": "Iawmitd5sftJ",
        "colab_type": "text"
      },
      "source": [
        "Print the first 10 elements of y_train which contains the class labels for X_train"
      ]
    },
    {
      "cell_type": "code",
      "metadata": {
        "id": "0Mn0vAYD9DvB",
        "colab_type": "code",
        "outputId": "0d970349-92fb-47fb-c591-8b3008e154b5",
        "colab": {
          "base_uri": "https://localhost:8080/",
          "height": 35
        }
      },
      "source": [
        "y_train[:10]"
      ],
      "execution_count": 7,
      "outputs": [
        {
          "output_type": "execute_result",
          "data": {
            "text/plain": [
              "array([5, 0, 4, 1, 9, 2, 1, 3, 1, 4], dtype=uint8)"
            ]
          },
          "metadata": {
            "tags": []
          },
          "execution_count": 7
        }
      ]
    },
    {
      "cell_type": "markdown",
      "metadata": {
        "id": "khh_eB46szz2",
        "colab_type": "text"
      },
      "source": [
        "Convert the values of Y_train and Y_test to one-hot vectors"
      ]
    },
    {
      "cell_type": "code",
      "metadata": {
        "id": "ZG8JiXR39FHC",
        "colab_type": "code",
        "colab": {}
      },
      "source": [
        "# Convert 1-dimensional class arrays to 10-dimensional class matrices\n",
        "Y_train = np_utils.to_categorical(y_train, 10)\n",
        "Y_test = np_utils.to_categorical(y_test, 10)"
      ],
      "execution_count": 0,
      "outputs": []
    },
    {
      "cell_type": "code",
      "metadata": {
        "id": "fYlFRvKS9HMB",
        "colab_type": "code",
        "outputId": "a9d06686-9e12-45df-d8af-d28e0ce67ab6",
        "colab": {
          "base_uri": "https://localhost:8080/",
          "height": 191
        }
      },
      "source": [
        "Y_train[:10]\n"
      ],
      "execution_count": 9,
      "outputs": [
        {
          "output_type": "execute_result",
          "data": {
            "text/plain": [
              "array([[0., 0., 0., 0., 0., 1., 0., 0., 0., 0.],\n",
              "       [1., 0., 0., 0., 0., 0., 0., 0., 0., 0.],\n",
              "       [0., 0., 0., 0., 1., 0., 0., 0., 0., 0.],\n",
              "       [0., 1., 0., 0., 0., 0., 0., 0., 0., 0.],\n",
              "       [0., 0., 0., 0., 0., 0., 0., 0., 0., 1.],\n",
              "       [0., 0., 1., 0., 0., 0., 0., 0., 0., 0.],\n",
              "       [0., 1., 0., 0., 0., 0., 0., 0., 0., 0.],\n",
              "       [0., 0., 0., 1., 0., 0., 0., 0., 0., 0.],\n",
              "       [0., 1., 0., 0., 0., 0., 0., 0., 0., 0.],\n",
              "       [0., 0., 0., 0., 1., 0., 0., 0., 0., 0.]], dtype=float32)"
            ]
          },
          "metadata": {
            "tags": []
          },
          "execution_count": 9
        }
      ]
    },
    {
      "cell_type": "markdown",
      "metadata": {
        "id": "KZAZ_CIXzqWQ",
        "colab_type": "text"
      },
      "source": [
        "#Model Building"
      ]
    },
    {
      "cell_type": "markdown",
      "metadata": {
        "id": "8bUW3bHFs4sw",
        "colab_type": "text"
      },
      "source": [
        "Build a simple convolution model"
      ]
    },
    {
      "cell_type": "code",
      "metadata": {
        "id": "osKqT73Q9JJB",
        "colab_type": "code",
        "outputId": "33296418-a972-44db-fdfd-315b62d0f3f7",
        "colab": {
          "base_uri": "https://localhost:8080/",
          "height": 332
        }
      },
      "source": [
        "model = Sequential()\n",
        " \n",
        "model.add(Convolution2D(10, 3, 3, activation='relu', input_shape=(28,28,1))) # Output size = 26; Receptive Field = 3\n",
        "model.add(BatchNormalization())\n",
        "\n",
        "model.add(Convolution2D(16, 3, 3, activation='relu')) # 24; 5\n",
        "model.add(BatchNormalization())\n",
        "\n",
        "model.add(Convolution2D(20, 3, 3, activation='relu')) # 22; 7\n",
        "model.add(BatchNormalization())\n",
        "model.add(Dropout(0.25))\n",
        "\n",
        "model.add(MaxPooling2D(pool_size=(2, 2))) # 11; 14\n",
        "\n",
        "model.add(Convolution2D(10, 1, 1, activation='relu')) # 11; 16\n",
        "model.add(BatchNormalization())\n",
        "\n",
        "model.add(Convolution2D(16, 3, 3, activation='relu')) # 9; 18\n",
        "model.add(BatchNormalization())\n",
        "\n",
        "model.add(Convolution2D(16, 3, 3, activation='relu')) # 7; 20\n",
        "model.add(BatchNormalization())\n",
        "model.add(Dropout(0.25))\n",
        "\n",
        "model.add(Convolution2D(20, 3, 3, activation='relu')) # 5; 22\n",
        "model.add(BatchNormalization())\n",
        "\n",
        "model.add(Convolution2D(10, 1, activation='relu')) \n",
        "model.add(Convolution2D(10, 5))\n",
        "model.add(Flatten())\n",
        "model.add(Activation('softmax'))"
      ],
      "execution_count": 10,
      "outputs": [
        {
          "output_type": "stream",
          "text": [
            "WARNING:tensorflow:From /usr/local/lib/python3.6/dist-packages/tensorflow/python/framework/op_def_library.py:263: colocate_with (from tensorflow.python.framework.ops) is deprecated and will be removed in a future version.\n",
            "Instructions for updating:\n",
            "Colocations handled automatically by placer.\n"
          ],
          "name": "stdout"
        },
        {
          "output_type": "stream",
          "text": [
            "/usr/local/lib/python3.6/dist-packages/ipykernel_launcher.py:3: UserWarning: Update your `Conv2D` call to the Keras 2 API: `Conv2D(10, (3, 3), activation=\"relu\", input_shape=(28, 28, 1...)`\n",
            "  This is separate from the ipykernel package so we can avoid doing imports until\n",
            "/usr/local/lib/python3.6/dist-packages/ipykernel_launcher.py:6: UserWarning: Update your `Conv2D` call to the Keras 2 API: `Conv2D(16, (3, 3), activation=\"relu\")`\n",
            "  \n",
            "/usr/local/lib/python3.6/dist-packages/ipykernel_launcher.py:9: UserWarning: Update your `Conv2D` call to the Keras 2 API: `Conv2D(20, (3, 3), activation=\"relu\")`\n",
            "  if __name__ == '__main__':\n"
          ],
          "name": "stderr"
        },
        {
          "output_type": "stream",
          "text": [
            "WARNING:tensorflow:From /usr/local/lib/python3.6/dist-packages/keras/backend/tensorflow_backend.py:3445: calling dropout (from tensorflow.python.ops.nn_ops) with keep_prob is deprecated and will be removed in a future version.\n",
            "Instructions for updating:\n",
            "Please use `rate` instead of `keep_prob`. Rate should be set to `rate = 1 - keep_prob`.\n"
          ],
          "name": "stdout"
        },
        {
          "output_type": "stream",
          "text": [
            "/usr/local/lib/python3.6/dist-packages/ipykernel_launcher.py:15: UserWarning: Update your `Conv2D` call to the Keras 2 API: `Conv2D(10, (1, 1), activation=\"relu\")`\n",
            "  from ipykernel import kernelapp as app\n",
            "/usr/local/lib/python3.6/dist-packages/ipykernel_launcher.py:18: UserWarning: Update your `Conv2D` call to the Keras 2 API: `Conv2D(16, (3, 3), activation=\"relu\")`\n",
            "/usr/local/lib/python3.6/dist-packages/ipykernel_launcher.py:21: UserWarning: Update your `Conv2D` call to the Keras 2 API: `Conv2D(16, (3, 3), activation=\"relu\")`\n",
            "/usr/local/lib/python3.6/dist-packages/ipykernel_launcher.py:25: UserWarning: Update your `Conv2D` call to the Keras 2 API: `Conv2D(20, (3, 3), activation=\"relu\")`\n"
          ],
          "name": "stderr"
        }
      ]
    },
    {
      "cell_type": "markdown",
      "metadata": {
        "id": "3YsOCVEGtDcN",
        "colab_type": "text"
      },
      "source": [
        "Print the model summary"
      ]
    },
    {
      "cell_type": "code",
      "metadata": {
        "id": "TzdAYg1k9K7Z",
        "colab_type": "code",
        "outputId": "d7dd316c-aa83-4505-d44c-12eda36d23db",
        "colab": {
          "base_uri": "https://localhost:8080/",
          "height": 867
        }
      },
      "source": [
        "model.summary()"
      ],
      "execution_count": 11,
      "outputs": [
        {
          "output_type": "stream",
          "text": [
            "_________________________________________________________________\n",
            "Layer (type)                 Output Shape              Param #   \n",
            "=================================================================\n",
            "conv2d_1 (Conv2D)            (None, 26, 26, 10)        100       \n",
            "_________________________________________________________________\n",
            "batch_normalization_1 (Batch (None, 26, 26, 10)        40        \n",
            "_________________________________________________________________\n",
            "conv2d_2 (Conv2D)            (None, 24, 24, 16)        1456      \n",
            "_________________________________________________________________\n",
            "batch_normalization_2 (Batch (None, 24, 24, 16)        64        \n",
            "_________________________________________________________________\n",
            "conv2d_3 (Conv2D)            (None, 22, 22, 20)        2900      \n",
            "_________________________________________________________________\n",
            "batch_normalization_3 (Batch (None, 22, 22, 20)        80        \n",
            "_________________________________________________________________\n",
            "dropout_1 (Dropout)          (None, 22, 22, 20)        0         \n",
            "_________________________________________________________________\n",
            "max_pooling2d_1 (MaxPooling2 (None, 11, 11, 20)        0         \n",
            "_________________________________________________________________\n",
            "conv2d_4 (Conv2D)            (None, 11, 11, 10)        210       \n",
            "_________________________________________________________________\n",
            "batch_normalization_4 (Batch (None, 11, 11, 10)        40        \n",
            "_________________________________________________________________\n",
            "conv2d_5 (Conv2D)            (None, 9, 9, 16)          1456      \n",
            "_________________________________________________________________\n",
            "batch_normalization_5 (Batch (None, 9, 9, 16)          64        \n",
            "_________________________________________________________________\n",
            "conv2d_6 (Conv2D)            (None, 7, 7, 16)          2320      \n",
            "_________________________________________________________________\n",
            "batch_normalization_6 (Batch (None, 7, 7, 16)          64        \n",
            "_________________________________________________________________\n",
            "dropout_2 (Dropout)          (None, 7, 7, 16)          0         \n",
            "_________________________________________________________________\n",
            "conv2d_7 (Conv2D)            (None, 5, 5, 20)          2900      \n",
            "_________________________________________________________________\n",
            "batch_normalization_7 (Batch (None, 5, 5, 20)          80        \n",
            "_________________________________________________________________\n",
            "conv2d_8 (Conv2D)            (None, 5, 5, 10)          210       \n",
            "_________________________________________________________________\n",
            "conv2d_9 (Conv2D)            (None, 1, 1, 10)          2510      \n",
            "_________________________________________________________________\n",
            "flatten_1 (Flatten)          (None, 10)                0         \n",
            "_________________________________________________________________\n",
            "activation_1 (Activation)    (None, 10)                0         \n",
            "=================================================================\n",
            "Total params: 14,494\n",
            "Trainable params: 14,278\n",
            "Non-trainable params: 216\n",
            "_________________________________________________________________\n"
          ],
          "name": "stdout"
        }
      ]
    },
    {
      "cell_type": "markdown",
      "metadata": {
        "id": "F6EKlf6ptE_O",
        "colab_type": "text"
      },
      "source": [
        "Compile the model with the loss function, the optimizer and the metrics used"
      ]
    },
    {
      "cell_type": "code",
      "metadata": {
        "id": "Zp6SuGrL9M3h",
        "colab_type": "code",
        "colab": {}
      },
      "source": [
        "model.compile(loss='categorical_crossentropy',\n",
        "             optimizer='adam',\n",
        "             metrics=['accuracy'])"
      ],
      "execution_count": 0,
      "outputs": []
    },
    {
      "cell_type": "markdown",
      "metadata": {
        "id": "8YCwPhFVzwdD",
        "colab_type": "text"
      },
      "source": [
        "#Model Training"
      ]
    },
    {
      "cell_type": "markdown",
      "metadata": {
        "id": "cfeVPqhttK3u",
        "colab_type": "text"
      },
      "source": [
        "Fit the model on X_train and Y_train for 10 epochs with a batch size of 32"
      ]
    },
    {
      "cell_type": "code",
      "metadata": {
        "id": "f4BHAyTXg_7L",
        "colab_type": "code",
        "outputId": "db49e4de-1c47-4441-9d5d-0a61754559c7",
        "colab": {
          "base_uri": "https://localhost:8080/",
          "height": 471
        }
      },
      "source": [
        "model.fit(X_train, Y_train, validation_data=(X_test, Y_test), batch_size=32, epochs=10, verbose=1)"
      ],
      "execution_count": 13,
      "outputs": [
        {
          "output_type": "stream",
          "text": [
            "WARNING:tensorflow:From /usr/local/lib/python3.6/dist-packages/tensorflow/python/ops/math_ops.py:3066: to_int32 (from tensorflow.python.ops.math_ops) is deprecated and will be removed in a future version.\n",
            "Instructions for updating:\n",
            "Use tf.cast instead.\n",
            "Train on 60000 samples, validate on 10000 samples\n",
            "Epoch 1/10\n",
            "60000/60000 [==============================] - 40s 660us/step - loss: 0.2261 - acc: 0.9286 - val_loss: 0.0576 - val_acc: 0.9821\n",
            "Epoch 2/10\n",
            "60000/60000 [==============================] - 34s 562us/step - loss: 0.0632 - acc: 0.9804 - val_loss: 0.0525 - val_acc: 0.9848\n",
            "Epoch 3/10\n",
            "60000/60000 [==============================] - 35s 586us/step - loss: 0.0503 - acc: 0.9845 - val_loss: 0.0360 - val_acc: 0.9897\n",
            "Epoch 4/10\n",
            "60000/60000 [==============================] - 28s 460us/step - loss: 0.0429 - acc: 0.9867 - val_loss: 0.0340 - val_acc: 0.9894\n",
            "Epoch 5/10\n",
            "60000/60000 [==============================] - 23s 378us/step - loss: 0.0393 - acc: 0.9874 - val_loss: 0.0310 - val_acc: 0.9904\n",
            "Epoch 6/10\n",
            "60000/60000 [==============================] - 21s 349us/step - loss: 0.0352 - acc: 0.9887 - val_loss: 0.0385 - val_acc: 0.9881\n",
            "Epoch 7/10\n",
            "60000/60000 [==============================] - 22s 373us/step - loss: 0.0338 - acc: 0.9894 - val_loss: 0.0390 - val_acc: 0.9876\n",
            "Epoch 8/10\n",
            "60000/60000 [==============================] - 21s 349us/step - loss: 0.0316 - acc: 0.9893 - val_loss: 0.0304 - val_acc: 0.9920\n",
            "Epoch 9/10\n",
            "60000/60000 [==============================] - 21s 349us/step - loss: 0.0286 - acc: 0.9903 - val_loss: 0.0388 - val_acc: 0.9886\n",
            "Epoch 10/10\n",
            "60000/60000 [==============================] - 21s 351us/step - loss: 0.0269 - acc: 0.9913 - val_loss: 0.0378 - val_acc: 0.9891\n"
          ],
          "name": "stdout"
        },
        {
          "output_type": "execute_result",
          "data": {
            "text/plain": [
              "<keras.callbacks.History at 0x7fa3b3c0ed30>"
            ]
          },
          "metadata": {
            "tags": []
          },
          "execution_count": 13
        }
      ]
    },
    {
      "cell_type": "code",
      "metadata": {
        "id": "_8dMQtx6bl97",
        "colab_type": "code",
        "outputId": "8d9a1ea3-91f0-4a79-99ab-f945123d3764",
        "colab": {
          "base_uri": "https://localhost:8080/",
          "height": 745
        }
      },
      "source": [
        "model.fit(X_train, Y_train, validation_data=(X_test, Y_test), batch_size=32, epochs=20, verbose=1)"
      ],
      "execution_count": 14,
      "outputs": [
        {
          "output_type": "stream",
          "text": [
            "Train on 60000 samples, validate on 10000 samples\n",
            "Epoch 1/20\n",
            "60000/60000 [==============================] - 22s 370us/step - loss: 0.0247 - acc: 0.9921 - val_loss: 0.0283 - val_acc: 0.9909\n",
            "Epoch 2/20\n",
            "60000/60000 [==============================] - 21s 350us/step - loss: 0.0241 - acc: 0.9921 - val_loss: 0.0385 - val_acc: 0.9890\n",
            "Epoch 3/20\n",
            "60000/60000 [==============================] - 21s 349us/step - loss: 0.0233 - acc: 0.9925 - val_loss: 0.0330 - val_acc: 0.9904\n",
            "Epoch 4/20\n",
            "60000/60000 [==============================] - 22s 362us/step - loss: 0.0232 - acc: 0.9924 - val_loss: 0.0271 - val_acc: 0.9923\n",
            "Epoch 5/20\n",
            "60000/60000 [==============================] - 21s 358us/step - loss: 0.0227 - acc: 0.9927 - val_loss: 0.0341 - val_acc: 0.9902\n",
            "Epoch 6/20\n",
            "60000/60000 [==============================] - 21s 354us/step - loss: 0.0203 - acc: 0.9933 - val_loss: 0.0256 - val_acc: 0.9922\n",
            "Epoch 7/20\n",
            "60000/60000 [==============================] - 22s 361us/step - loss: 0.0208 - acc: 0.9933 - val_loss: 0.0316 - val_acc: 0.9910\n",
            "Epoch 8/20\n",
            "60000/60000 [==============================] - 34s 560us/step - loss: 0.0196 - acc: 0.9934 - val_loss: 0.0317 - val_acc: 0.9909\n",
            "Epoch 9/20\n",
            "60000/60000 [==============================] - 41s 679us/step - loss: 0.0186 - acc: 0.9939 - val_loss: 0.0256 - val_acc: 0.9920\n",
            "Epoch 10/20\n",
            "60000/60000 [==============================] - 40s 660us/step - loss: 0.0182 - acc: 0.9941 - val_loss: 0.0304 - val_acc: 0.9916\n",
            "Epoch 11/20\n",
            "60000/60000 [==============================] - 39s 643us/step - loss: 0.0179 - acc: 0.9939 - val_loss: 0.0330 - val_acc: 0.9908\n",
            "Epoch 12/20\n",
            "60000/60000 [==============================] - 39s 656us/step - loss: 0.0180 - acc: 0.9941 - val_loss: 0.0318 - val_acc: 0.9919\n",
            "Epoch 13/20\n",
            "60000/60000 [==============================] - 38s 641us/step - loss: 0.0162 - acc: 0.9947 - val_loss: 0.0276 - val_acc: 0.9922\n",
            "Epoch 14/20\n",
            "60000/60000 [==============================] - 41s 684us/step - loss: 0.0165 - acc: 0.9947 - val_loss: 0.0257 - val_acc: 0.9925\n",
            "Epoch 15/20\n",
            "60000/60000 [==============================] - 40s 663us/step - loss: 0.0160 - acc: 0.9948 - val_loss: 0.0235 - val_acc: 0.9941\n",
            "Epoch 16/20\n",
            "60000/60000 [==============================] - 23s 386us/step - loss: 0.0165 - acc: 0.9948 - val_loss: 0.0277 - val_acc: 0.9916\n",
            "Epoch 17/20\n",
            "60000/60000 [==============================] - 24s 398us/step - loss: 0.0144 - acc: 0.9956 - val_loss: 0.0299 - val_acc: 0.9922\n",
            "Epoch 18/20\n",
            "60000/60000 [==============================] - 22s 367us/step - loss: 0.0148 - acc: 0.9950 - val_loss: 0.0270 - val_acc: 0.9923\n",
            "Epoch 19/20\n",
            "60000/60000 [==============================] - 37s 618us/step - loss: 0.0151 - acc: 0.9950 - val_loss: 0.0293 - val_acc: 0.9918\n",
            "Epoch 20/20\n",
            "60000/60000 [==============================] - 41s 676us/step - loss: 0.0132 - acc: 0.9956 - val_loss: 0.0250 - val_acc: 0.9924\n"
          ],
          "name": "stdout"
        },
        {
          "output_type": "execute_result",
          "data": {
            "text/plain": [
              "<keras.callbacks.History at 0x7fa3834dce10>"
            ]
          },
          "metadata": {
            "tags": []
          },
          "execution_count": 14
        }
      ]
    },
    {
      "cell_type": "markdown",
      "metadata": {
        "id": "kDsFQbCpzzhV",
        "colab_type": "text"
      },
      "source": [
        "#Model Evaluation"
      ]
    },
    {
      "cell_type": "markdown",
      "metadata": {
        "id": "r6mz9k6wtQCq",
        "colab_type": "text"
      },
      "source": [
        "Evaluate the model on the test set"
      ]
    },
    {
      "cell_type": "code",
      "metadata": {
        "id": "AtsH-lLk-eLb",
        "colab_type": "code",
        "colab": {}
      },
      "source": [
        "score = model.evaluate(X_test, Y_test, verbose=0)"
      ],
      "execution_count": 0,
      "outputs": []
    },
    {
      "cell_type": "markdown",
      "metadata": {
        "id": "AsPC3p8utTiq",
        "colab_type": "text"
      },
      "source": [
        "Print the evaluation score of the model"
      ]
    },
    {
      "cell_type": "code",
      "metadata": {
        "id": "mkX8JMv79q9r",
        "colab_type": "code",
        "outputId": "ac3e1dda-f0bc-4406-fcfc-e36e3c7d061b",
        "colab": {
          "base_uri": "https://localhost:8080/",
          "height": 35
        }
      },
      "source": [
        "print(score)"
      ],
      "execution_count": 16,
      "outputs": [
        {
          "output_type": "stream",
          "text": [
            "[0.024972769811426588, 0.9924]\n"
          ],
          "name": "stdout"
        }
      ]
    },
    {
      "cell_type": "markdown",
      "metadata": {
        "id": "RcaRgtkOz1x7",
        "colab_type": "text"
      },
      "source": [
        "#Model Prediction"
      ]
    },
    {
      "cell_type": "markdown",
      "metadata": {
        "id": "-omd0xUhtWBs",
        "colab_type": "text"
      },
      "source": [
        "Use the model to predict the class labels of test set"
      ]
    },
    {
      "cell_type": "code",
      "metadata": {
        "id": "OCWoJkwE9suh",
        "colab_type": "code",
        "colab": {}
      },
      "source": [
        "y_pred = model.predict(X_test)"
      ],
      "execution_count": 0,
      "outputs": []
    },
    {
      "cell_type": "markdown",
      "metadata": {
        "id": "qxQKMo9ntbOR",
        "colab_type": "text"
      },
      "source": [
        "Compare the predicted values and the actual values"
      ]
    },
    {
      "cell_type": "code",
      "metadata": {
        "id": "Ym7iCFBm9uBs",
        "colab_type": "code",
        "outputId": "b9dad291-2fb7-4fa4-843f-3323f1a109a6",
        "colab": {
          "base_uri": "https://localhost:8080/",
          "height": 347
        }
      },
      "source": [
        "print(y_pred[:9])\n",
        "print(y_test[:9])"
      ],
      "execution_count": 18,
      "outputs": [
        {
          "output_type": "stream",
          "text": [
            "[[6.2232977e-16 2.6661811e-13 7.5689233e-09 2.5883753e-12 4.8106020e-14\n",
            "  6.0381783e-17 1.7185497e-23 1.0000000e+00 2.5726607e-11 5.9128441e-10]\n",
            " [7.8543302e-08 1.4539577e-05 9.9997663e-01 1.0291472e-10 4.3583506e-10\n",
            "  2.2579442e-11 8.6744876e-06 2.1691844e-10 2.6809289e-08 7.7343692e-13]\n",
            " [1.0192123e-11 9.9999845e-01 1.3946354e-10 2.3677033e-10 4.3902574e-07\n",
            "  2.1988317e-11 5.9025982e-08 1.8211685e-07 8.0116365e-07 9.2500493e-11]\n",
            " [9.9999905e-01 1.2587765e-14 5.5954172e-07 1.2041443e-11 2.1952195e-12\n",
            "  1.5956056e-08 1.7128518e-07 1.3307948e-09 1.1861058e-07 8.2991880e-09]\n",
            " [5.3896512e-11 4.8032463e-11 2.4303998e-11 3.8238855e-14 9.9999988e-01\n",
            "  3.0930689e-11 6.1766176e-10 7.2085811e-13 1.1600087e-12 7.2192904e-08]\n",
            " [7.1949434e-12 9.9999785e-01 1.6498993e-09 4.7505719e-12 1.5391534e-07\n",
            "  4.1914755e-13 5.4818976e-09 1.7312684e-06 2.2692869e-07 1.0520048e-10]\n",
            " [9.3874192e-13 1.2110710e-10 2.1701310e-10 5.0948178e-12 9.9967670e-01\n",
            "  2.2830700e-10 1.0646673e-20 1.2220687e-04 1.6046662e-09 2.0117441e-04]\n",
            " [6.1144236e-11 2.6216140e-10 3.7086686e-08 3.9235078e-07 9.2137361e-07\n",
            "  5.5545670e-09 4.2865169e-13 5.1106275e-10 2.0894934e-08 9.9999869e-01]\n",
            " [4.1794896e-09 3.3289937e-11 9.7512431e-10 2.1744324e-09 4.0573996e-11\n",
            "  1.3477407e-01 8.5942453e-01 9.7373221e-10 5.8014030e-03 1.7653726e-08]]\n",
            "[7 2 1 0 4 1 4 9 5]\n"
          ],
          "name": "stdout"
        }
      ]
    },
    {
      "cell_type": "markdown",
      "metadata": {
        "id": "49wgsnzKRx7m",
        "colab_type": "text"
      },
      "source": [
        "###Results###\n",
        "1. We expected our model to reach an accuracy of 99.4%, and we could reach 99.41% (at the 25th epoch in the second training block). We expect to improve the accuracy and the training time by the next model.\n",
        "2. We first added dropout of 0.1 after each layer, however we could reach a maximum of 99.35% accuracy only. We tried changing the values of dropouts to 0.2 after the convolution layer of 20 channels, but with no further improvements. We kept the dropout at only 2 layers and changed the value to 0.25. This gave us better results as the accuracy reached 99.41%.\n",
        "3. Increasing the no. of epochs was necessary as the model now trains slowly than before."
      ]
    }
  ]
}