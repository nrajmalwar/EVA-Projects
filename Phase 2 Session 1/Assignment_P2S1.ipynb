{
  "nbformat": 4,
  "nbformat_minor": 0,
  "metadata": {
    "colab": {
      "name": "EVA3_P2S1.ipynb",
      "provenance": [],
      "collapsed_sections": [],
      "authorship_tag": "ABX9TyP5YJyLoasaCtgaJ0uuU1hM",
      "include_colab_link": true
    },
    "kernelspec": {
      "name": "python3",
      "display_name": "Python 3"
    },
    "accelerator": "GPU"
  },
  "cells": [
    {
      "cell_type": "markdown",
      "metadata": {
        "id": "view-in-github",
        "colab_type": "text"
      },
      "source": [
        "<a href=\"https://colab.research.google.com/github/nrajmalwar/Project/blob/master/Phase%202%20Session%201/Assignment_P2S1.ipynb\" target=\"_parent\"><img src=\"https://colab.research.google.com/assets/colab-badge.svg\" alt=\"Open In Colab\"/></a>"
      ]
    },
    {
      "cell_type": "markdown",
      "metadata": {
        "id": "H4tcyiIr3D8t",
        "colab_type": "text"
      },
      "source": [
        "# One-hot encoding of words and characters"
      ]
    },
    {
      "cell_type": "code",
      "metadata": {
        "id": "29wHr2eEq654",
        "colab_type": "code",
        "colab": {}
      },
      "source": [
        "# Word-level one-hot encoding (toy example)\n",
        "import numpy as np\n",
        "\n",
        "# Initial data, consists of two sentences which with 2 entries\n",
        "samples = ['The cat sat on the mat.', 'The dog ate my homework.']\n",
        "# Define an empty dictionary. Will be used to save the index of each token (word in this case)\n",
        "token_index = {}\n",
        "# Iterate over each sample\n",
        "for sample in samples:\n",
        "  # Iterate over each word in the sentence\n",
        "  for word in sample.split():\n",
        "    # If the word is not already assigned as a token, assign it to a new token\n",
        "    if word not in token_index:\n",
        "      # The tokens are numbered serially with their chronology of occurence\n",
        "      token_index[word] = len(token_index) + 1\n",
        "\n",
        "# Define the maximum length of a sentence (maximum no. of words)\n",
        "max_length = 10\n",
        "# Store the final array in a 3D array of size length of samples x max length of sentence x total no. of tokens\n",
        "results = np.zeros(shape=(len(samples), max_length, max(token_index.values()) + 1))\n",
        "# Iterate over the samples and their index\n",
        "for i, sample in enumerate(samples):\n",
        "  # Iterate over each word in a sentence and its index within that sentence (Consider max length of 20 words)\n",
        "  for j, word in list(enumerate(sample.split()))[:max_length]:\n",
        "    # Get the particular index of the word\n",
        "    index = token_index.get(word)\n",
        "    # Assign the value 1 at the position-index of sentence in samples and the position of word for that sentence\n",
        "    # and the index of that word/token\n",
        "    results[i, j, index] = 1."
      ],
      "execution_count": 0,
      "outputs": []
    },
    {
      "cell_type": "code",
      "metadata": {
        "id": "rU7EG2ZI3KTm",
        "colab_type": "code",
        "colab": {}
      },
      "source": [
        "# Character-level one-hot encoding (toy example)\n",
        "import string\n",
        "samples = ['The cat sat on the mat.', 'The dog ate my homework.']\n",
        "# Get all the characters in the English alphabet. We read our samples character wise for each sentence\n",
        "characters = string.printable\n",
        "# Assign an index to each token (which is a character in this case)\n",
        "token_index = dict(zip(range(1, len(characters) + 1), characters))\n",
        "# We use max length of 50 characters for each sentence\n",
        "max_length = 50\n",
        "# Store the final result in a 3D one-hot encoded array \n",
        "results = np.zeros((len(samples), max_length, max(token_index.keys()) + 1))\n",
        "for i, sample in enumerate(samples):\n",
        "  for j, character in enumerate(sample):\n",
        "    index = token_index.get(character)\n",
        "    # Assign token value for each character instead of each word\n",
        "    results[i, j, index] = 1."
      ],
      "execution_count": 0,
      "outputs": []
    },
    {
      "cell_type": "code",
      "metadata": {
        "id": "fFmL3OzQ3Oif",
        "colab_type": "code",
        "outputId": "8d0c0041-962a-4acc-d9fb-3c000759695e",
        "colab": {
          "base_uri": "https://localhost:8080/",
          "height": 116
        }
      },
      "source": [
        "# Using Keras for word-level one-hot encoding\n",
        "from keras.preprocessing.text import Tokenizer\n",
        "samples = ['The cat sat on the mat.', 'The dog ate my homework.']\n",
        "# create a tokenizer object with top 1000 most common words\n",
        "tokenizer = Tokenizer(num_words=1000)\n",
        "# Build the index for the input data\n",
        "tokenizer.fit_on_texts(samples)\n",
        "# Turn strings into lists of integer indices\n",
        "sequences = tokenizer.texts_to_sequences(samples)\n",
        "# Turn strings directly into one-hot encoded array\n",
        "one_hot_results = tokenizer.texts_to_matrix(samples, mode='binary')\n",
        "# Recover the word index\n",
        "word_index = tokenizer.word_index\n",
        "print('Found %s unique tokens.' % len(word_index))"
      ],
      "execution_count": 0,
      "outputs": [
        {
          "output_type": "stream",
          "text": [
            "Using TensorFlow backend.\n"
          ],
          "name": "stderr"
        },
        {
          "output_type": "display_data",
          "data": {
            "text/html": [
              "<p style=\"color: red;\">\n",
              "The default version of TensorFlow in Colab will soon switch to TensorFlow 2.x.<br>\n",
              "We recommend you <a href=\"https://www.tensorflow.org/guide/migrate\" target=\"_blank\">upgrade</a> now \n",
              "or ensure your notebook will continue to use TensorFlow 1.x via the <code>%tensorflow_version 1.x</code> magic:\n",
              "<a href=\"https://colab.research.google.com/notebooks/tensorflow_version.ipynb\" target=\"_blank\">more info</a>.</p>\n"
            ],
            "text/plain": [
              "<IPython.core.display.HTML object>"
            ]
          },
          "metadata": {
            "tags": []
          }
        },
        {
          "output_type": "stream",
          "text": [
            "Found 9 unique tokens.\n"
          ],
          "name": "stdout"
        }
      ]
    },
    {
      "cell_type": "code",
      "metadata": {
        "id": "h2uyG8f-3RO8",
        "colab_type": "code",
        "colab": {}
      },
      "source": [
        "# Word-level one-hot encoding with hashing trick (toy example)\n",
        "samples = ['The cat sat on the mat.', 'The dog ate my homework.']\n",
        "# Store the words as vectors of 1000 dimension\n",
        "dimensionality = 1000\n",
        "max_length = 10\n",
        "results = np.zeros((len(samples), max_length, dimensionality))\n",
        "for i, sample in enumerate(samples):\n",
        "  for j, word in list(enumerate(sample.split()))[:max_length]:\n",
        "    # Hashes the word randomly between integers 0 and 1000\n",
        "    index = abs(hash(word)) % dimensionality\n",
        "    results[i, j, index] = 1."
      ],
      "execution_count": 0,
      "outputs": []
    },
    {
      "cell_type": "markdown",
      "metadata": {
        "id": "UA43HSCr3YRI",
        "colab_type": "text"
      },
      "source": [
        "# Using Word Embeddings"
      ]
    },
    {
      "cell_type": "code",
      "metadata": {
        "id": "G5SKa1_r44wb",
        "colab_type": "code",
        "outputId": "9afd882d-1e5b-4f31-f6b6-b14a7357d84e",
        "colab": {
          "base_uri": "https://localhost:8080/",
          "height": 72
        }
      },
      "source": [
        "# Instantiating an Embedding layer\n",
        "from keras.layers import Embedding\n",
        "# Creates 1000 randomly initialized token/feature vectors of 64 dimensions\n",
        "embedding_layer = Embedding(1000, 64)"
      ],
      "execution_count": 0,
      "outputs": [
        {
          "output_type": "stream",
          "text": [
            "WARNING:tensorflow:From /usr/local/lib/python3.6/dist-packages/keras/backend/tensorflow_backend.py:66: The name tf.get_default_graph is deprecated. Please use tf.compat.v1.get_default_graph instead.\n",
            "\n"
          ],
          "name": "stdout"
        }
      ]
    },
    {
      "cell_type": "code",
      "metadata": {
        "id": "dZgQ-JxX3aPS",
        "colab_type": "code",
        "outputId": "f41c3104-857b-4fb4-e8f5-3fc67512b019",
        "colab": {
          "base_uri": "https://localhost:8080/",
          "height": 52
        }
      },
      "source": [
        "# Loading the IMDB data for use with an Embedding layer\n",
        "from keras.datasets import imdb\n",
        "from keras import preprocessing\n",
        "# Max no. of words to consider as features\n",
        "max_features = 10000\n",
        "# Maximum length of a sentence (max. no. of words in a sentence)\n",
        "maxlen = 20\n",
        "# Load the imdb data as a list of integers\n",
        "(x_train, y_train), (x_test, y_test) = imdb.load_data(num_words=max_features)\n",
        "# Turns a list of integers into a 2D tensor of shape (samples, maxlen)\n",
        "x_train = preprocessing.sequence.pad_sequences(x_train, maxlen=maxlen)\n",
        "x_test = preprocessing.sequence.pad_sequences(x_test, maxlen=maxlen)"
      ],
      "execution_count": 0,
      "outputs": [
        {
          "output_type": "stream",
          "text": [
            "Downloading data from https://s3.amazonaws.com/text-datasets/imdb.npz\n",
            "17465344/17464789 [==============================] - 1s 0us/step\n"
          ],
          "name": "stdout"
        }
      ]
    },
    {
      "cell_type": "code",
      "metadata": {
        "id": "QK4fFdfV3eoe",
        "colab_type": "code",
        "outputId": "070b2fd6-76d4-4c5f-f495-3d3136f2f0a4",
        "colab": {
          "base_uri": "https://localhost:8080/",
          "height": 1000
        }
      },
      "source": [
        "# Using an Embedding layer and classifier on the IMDB data\n",
        "from keras.models import Sequential\n",
        "from keras.layers import Flatten, Dense\n",
        "# Define a sequential model\n",
        "model = Sequential()\n",
        "# Define the max input length to the embedding layer so that you can flatten it later\n",
        "model.add(Embedding(10000, 8, input_length=maxlen))\n",
        "# Flatten the 3D tensor of embeddings into a 2D tensor of shape (samples, max_len*8)\n",
        "model.add(Flatten())\n",
        "# Add a dense layer for classification\n",
        "model.add(Dense(1, activation='sigmoid'))\n",
        "model.compile(optimizer='rmsprop', loss='binary_crossentropy', metrics=['acc'])\n",
        "model.summary()\n",
        "# Train the model for 10 epochs, using 20% of the data for validation\n",
        "history = model.fit(x_train, y_train,\n",
        "epochs=10,\n",
        "batch_size=32,\n",
        "validation_split=0.2)"
      ],
      "execution_count": 0,
      "outputs": [
        {
          "output_type": "stream",
          "text": [
            "WARNING:tensorflow:From /usr/local/lib/python3.6/dist-packages/keras/backend/tensorflow_backend.py:541: The name tf.placeholder is deprecated. Please use tf.compat.v1.placeholder instead.\n",
            "\n",
            "WARNING:tensorflow:From /usr/local/lib/python3.6/dist-packages/keras/backend/tensorflow_backend.py:4432: The name tf.random_uniform is deprecated. Please use tf.random.uniform instead.\n",
            "\n",
            "WARNING:tensorflow:From /usr/local/lib/python3.6/dist-packages/keras/optimizers.py:793: The name tf.train.Optimizer is deprecated. Please use tf.compat.v1.train.Optimizer instead.\n",
            "\n",
            "WARNING:tensorflow:From /usr/local/lib/python3.6/dist-packages/keras/backend/tensorflow_backend.py:3657: The name tf.log is deprecated. Please use tf.math.log instead.\n",
            "\n",
            "WARNING:tensorflow:From /tensorflow-1.15.0/python3.6/tensorflow_core/python/ops/nn_impl.py:183: where (from tensorflow.python.ops.array_ops) is deprecated and will be removed in a future version.\n",
            "Instructions for updating:\n",
            "Use tf.where in 2.0, which has the same broadcast rule as np.where\n",
            "Model: \"sequential_1\"\n",
            "_________________________________________________________________\n",
            "Layer (type)                 Output Shape              Param #   \n",
            "=================================================================\n",
            "embedding_2 (Embedding)      (None, 20, 8)             80000     \n",
            "_________________________________________________________________\n",
            "flatten_1 (Flatten)          (None, 160)               0         \n",
            "_________________________________________________________________\n",
            "dense_1 (Dense)              (None, 1)                 161       \n",
            "=================================================================\n",
            "Total params: 80,161\n",
            "Trainable params: 80,161\n",
            "Non-trainable params: 0\n",
            "_________________________________________________________________\n",
            "WARNING:tensorflow:From /usr/local/lib/python3.6/dist-packages/keras/backend/tensorflow_backend.py:1033: The name tf.assign_add is deprecated. Please use tf.compat.v1.assign_add instead.\n",
            "\n",
            "WARNING:tensorflow:From /usr/local/lib/python3.6/dist-packages/keras/backend/tensorflow_backend.py:1020: The name tf.assign is deprecated. Please use tf.compat.v1.assign instead.\n",
            "\n",
            "WARNING:tensorflow:From /usr/local/lib/python3.6/dist-packages/keras/backend/tensorflow_backend.py:3005: The name tf.Session is deprecated. Please use tf.compat.v1.Session instead.\n",
            "\n",
            "Train on 20000 samples, validate on 5000 samples\n",
            "Epoch 1/10\n",
            "WARNING:tensorflow:From /usr/local/lib/python3.6/dist-packages/keras/backend/tensorflow_backend.py:190: The name tf.get_default_session is deprecated. Please use tf.compat.v1.get_default_session instead.\n",
            "\n",
            "WARNING:tensorflow:From /usr/local/lib/python3.6/dist-packages/keras/backend/tensorflow_backend.py:197: The name tf.ConfigProto is deprecated. Please use tf.compat.v1.ConfigProto instead.\n",
            "\n",
            "WARNING:tensorflow:From /usr/local/lib/python3.6/dist-packages/keras/backend/tensorflow_backend.py:207: The name tf.global_variables is deprecated. Please use tf.compat.v1.global_variables instead.\n",
            "\n",
            "WARNING:tensorflow:From /usr/local/lib/python3.6/dist-packages/keras/backend/tensorflow_backend.py:216: The name tf.is_variable_initialized is deprecated. Please use tf.compat.v1.is_variable_initialized instead.\n",
            "\n",
            "WARNING:tensorflow:From /usr/local/lib/python3.6/dist-packages/keras/backend/tensorflow_backend.py:223: The name tf.variables_initializer is deprecated. Please use tf.compat.v1.variables_initializer instead.\n",
            "\n",
            "20000/20000 [==============================] - 11s 542us/step - loss: 0.6655 - acc: 0.6306 - val_loss: 0.6125 - val_acc: 0.6978\n",
            "Epoch 2/10\n",
            "20000/20000 [==============================] - 2s 103us/step - loss: 0.5399 - acc: 0.7506 - val_loss: 0.5267 - val_acc: 0.7344\n",
            "Epoch 3/10\n",
            "20000/20000 [==============================] - 2s 101us/step - loss: 0.4616 - acc: 0.7890 - val_loss: 0.5000 - val_acc: 0.7458\n",
            "Epoch 4/10\n",
            "20000/20000 [==============================] - 2s 103us/step - loss: 0.4211 - acc: 0.8090 - val_loss: 0.4931 - val_acc: 0.7504\n",
            "Epoch 5/10\n",
            "20000/20000 [==============================] - 2s 106us/step - loss: 0.3934 - acc: 0.8249 - val_loss: 0.4942 - val_acc: 0.7548\n",
            "Epoch 6/10\n",
            "20000/20000 [==============================] - 2s 104us/step - loss: 0.3713 - acc: 0.8374 - val_loss: 0.4974 - val_acc: 0.7566\n",
            "Epoch 7/10\n",
            "20000/20000 [==============================] - 2s 104us/step - loss: 0.3519 - acc: 0.8478 - val_loss: 0.5040 - val_acc: 0.7568\n",
            "Epoch 8/10\n",
            "20000/20000 [==============================] - 2s 99us/step - loss: 0.3339 - acc: 0.8563 - val_loss: 0.5077 - val_acc: 0.7572\n",
            "Epoch 9/10\n",
            "20000/20000 [==============================] - 2s 103us/step - loss: 0.3174 - acc: 0.8660 - val_loss: 0.5162 - val_acc: 0.7526\n",
            "Epoch 10/10\n",
            "20000/20000 [==============================] - 2s 101us/step - loss: 0.3014 - acc: 0.8741 - val_loss: 0.5248 - val_acc: 0.7516\n"
          ],
          "name": "stdout"
        }
      ]
    },
    {
      "cell_type": "markdown",
      "metadata": {
        "id": "3jYQYTgV3iDU",
        "colab_type": "text"
      },
      "source": [
        "# Using Pretrained Word Embeddings"
      ]
    },
    {
      "cell_type": "code",
      "metadata": {
        "id": "ETG05IyN-1VC",
        "colab_type": "code",
        "outputId": "5a377e31-d81e-42ca-9772-0835f0303f85",
        "colab": {
          "base_uri": "https://localhost:8080/",
          "height": 419
        }
      },
      "source": [
        "# Download the imdb raw dataset\n",
        "!wget --no-check-certificate 'http://mng.bz/0tIo'"
      ],
      "execution_count": 0,
      "outputs": [
        {
          "output_type": "stream",
          "text": [
            "--2020-03-20 17:29:52--  http://mng.bz/0tIo\n",
            "Resolving mng.bz (mng.bz)... 35.166.24.88\n",
            "Connecting to mng.bz (mng.bz)|35.166.24.88|:80... connected.\n",
            "HTTP request sent, awaiting response... 301 Moved Permanently\n",
            "Location: https://mng.bz/0tIo [following]\n",
            "--2020-03-20 17:29:52--  https://mng.bz/0tIo\n",
            "Connecting to mng.bz (mng.bz)|35.166.24.88|:443... connected.\n",
            "WARNING: cannot verify mng.bz's certificate, issued by ‘CN=Go Daddy Secure Certificate Authority - G2,OU=http://certs.godaddy.com/repository/,O=GoDaddy.com\\\\, Inc.,L=Scottsdale,ST=Arizona,C=US’:\n",
            "  Unable to locally verify the issuer's authority.\n",
            "HTTP request sent, awaiting response... 301 \n",
            "Location: http://s3.amazonaws.com/text-datasets/aclImdb.zip [following]\n",
            "--2020-03-20 17:29:53--  http://s3.amazonaws.com/text-datasets/aclImdb.zip\n",
            "Resolving s3.amazonaws.com (s3.amazonaws.com)... 52.216.160.69\n",
            "Connecting to s3.amazonaws.com (s3.amazonaws.com)|52.216.160.69|:80... connected.\n",
            "HTTP request sent, awaiting response... 200 OK\n",
            "Length: 60711700 (58M) [application/zip]\n",
            "Saving to: ‘0tIo’\n",
            "\n",
            "0tIo                100%[===================>]  57.90M  26.3MB/s    in 2.2s    \n",
            "\n",
            "2020-03-20 17:29:55 (26.3 MB/s) - ‘0tIo’ saved [60711700/60711700]\n",
            "\n"
          ],
          "name": "stdout"
        }
      ]
    },
    {
      "cell_type": "code",
      "metadata": {
        "id": "53F_we9s_tu9",
        "colab_type": "code",
        "colab": {}
      },
      "source": [
        "# Unzip the file\n",
        "!unzip '0tIo' "
      ],
      "execution_count": 0,
      "outputs": []
    },
    {
      "cell_type": "code",
      "metadata": {
        "id": "Gn-pxQy4AIoM",
        "colab_type": "code",
        "outputId": "1ce0d852-aeab-4fd8-e019-765b79886974",
        "colab": {
          "base_uri": "https://localhost:8080/",
          "height": 35
        }
      },
      "source": [
        "!ls"
      ],
      "execution_count": 0,
      "outputs": [
        {
          "output_type": "stream",
          "text": [
            "0tIo  aclImdb  __MACOSX  sample_data\n"
          ],
          "name": "stdout"
        }
      ]
    },
    {
      "cell_type": "code",
      "metadata": {
        "id": "8PEFcZtsAO2t",
        "colab_type": "code",
        "outputId": "fa80735b-7274-43f5-c7ed-1c313814209e",
        "colab": {
          "base_uri": "https://localhost:8080/",
          "height": 35
        }
      },
      "source": [
        "!ls aclImdb"
      ],
      "execution_count": 0,
      "outputs": [
        {
          "output_type": "stream",
          "text": [
            "test  train\n"
          ],
          "name": "stdout"
        }
      ]
    },
    {
      "cell_type": "code",
      "metadata": {
        "id": "EbfLj5_v3i3U",
        "colab_type": "code",
        "colab": {}
      },
      "source": [
        "# Processing the labels of the raw IMDB data\n",
        "import os\n",
        "imdb_dir = '/content/aclImdb'\n",
        "train_dir = os.path.join(imdb_dir, 'train')\n",
        "# Store the label of each review\n",
        "labels = []\n",
        "# Store the reviews in a list\n",
        "texts = []\n",
        "# Positive and negative reviews are stored in two separate folders\n",
        "for label_type in ['neg', 'pos']:\n",
        "  dir_name = os.path.join(train_dir, label_type)\n",
        "  for fname in os.listdir(dir_name):\n",
        "    # All the reviews are stored as text files, we append each review to a list\n",
        "    if fname[-4:] == '.txt':\n",
        "      f = open(os.path.join(dir_name, fname))\n",
        "      texts.append(f.read())\n",
        "      f.close()\n",
        "      # Append the label for each review to a list\n",
        "      if label_type == 'neg':\n",
        "        labels.append(0)\n",
        "      else:\n",
        "        labels.append(1)"
      ],
      "execution_count": 0,
      "outputs": []
    },
    {
      "cell_type": "code",
      "metadata": {
        "id": "R8tfLsEoBx5g",
        "colab_type": "code",
        "outputId": "5f3824a4-095e-4958-ba89-aae995dc7fe9",
        "colab": {
          "base_uri": "https://localhost:8080/",
          "height": 35
        }
      },
      "source": [
        "len(texts)"
      ],
      "execution_count": 0,
      "outputs": [
        {
          "output_type": "execute_result",
          "data": {
            "text/plain": [
              "25000"
            ]
          },
          "metadata": {
            "tags": []
          },
          "execution_count": 26
        }
      ]
    },
    {
      "cell_type": "code",
      "metadata": {
        "id": "SYr4LgQv3jLu",
        "colab_type": "code",
        "outputId": "768f83c0-80d4-47ba-b348-efc9e76fd440",
        "colab": {
          "base_uri": "https://localhost:8080/",
          "height": 69
        }
      },
      "source": [
        "# Tokenizing the text of the raw IMDB data\n",
        "from keras.preprocessing.text import Tokenizer\n",
        "from keras.preprocessing.sequence import pad_sequences\n",
        "import numpy as np\n",
        "# Max length of review is 100 words\n",
        "maxlen = 100\n",
        "# Use 8000 training samples\n",
        "training_samples = 8000\n",
        "# Use 10000 validation samples\n",
        "validation_samples = 10000\n",
        "# Use top 10000 words from the dataset\n",
        "max_words = 10000\n",
        "# Create a tokenizer object\n",
        "tokenizer = Tokenizer(num_words=max_words)\n",
        "# Tokenize the words in the dataset\n",
        "tokenizer.fit_on_texts(texts)\n",
        "# Converts strings to list of integer indices\n",
        "sequences = tokenizer.texts_to_sequences(texts)\n",
        "# Build the word-index dictionary\n",
        "word_index = tokenizer.word_index\n",
        "# Print the no. of unique tokens\n",
        "print('Found %s unique tokens.' % len(word_index))\n",
        "# Pad sequences with zeros if lenght is less than maxlen\n",
        "data = pad_sequences(sequences, maxlen=maxlen)\n",
        "# Convert the labels to numpy array\n",
        "labels = np.asarray(labels)\n",
        "# Print the shape of input data and label\n",
        "print('Shape of data tensor:', data.shape)\n",
        "print('Shape of label tensor:', labels.shape)\n",
        "# Store all the indices in an array\n",
        "indices = np.arange(data.shape[0])\n",
        "# Shuffle the indices\n",
        "np.random.shuffle(indices)\n",
        "# Shuffle the data using indices (because data samples are ordered, all negatives first, then all positives)\n",
        "data = data[indices]\n",
        "labels = labels[indices]\n",
        "\n",
        "# Split the data into training set and validation set\n",
        "x_train = data[:training_samples]\n",
        "y_train = labels[:training_samples]\n",
        "x_val = data[training_samples: training_samples + validation_samples]\n",
        "y_val = labels[training_samples: training_samples + validation_samples]"
      ],
      "execution_count": 0,
      "outputs": [
        {
          "output_type": "stream",
          "text": [
            "Found 88582 unique tokens.\n",
            "Shape of data tensor: (25000, 100)\n",
            "Shape of label tensor: (25000,)\n"
          ],
          "name": "stdout"
        }
      ]
    },
    {
      "cell_type": "code",
      "metadata": {
        "id": "YM_DImyiDppO",
        "colab_type": "code",
        "outputId": "f4c2087a-a838-4938-e453-66c5d6ce3e9d",
        "colab": {
          "base_uri": "https://localhost:8080/",
          "height": 364
        }
      },
      "source": [
        "# Download precomputed word embeddings from the GloVe database\n",
        "!wget http://nlp.stanford.edu/data/glove.6B.zip"
      ],
      "execution_count": 0,
      "outputs": [
        {
          "output_type": "stream",
          "text": [
            "--2020-03-20 17:56:08--  http://nlp.stanford.edu/data/glove.6B.zip\n",
            "Resolving nlp.stanford.edu (nlp.stanford.edu)... 171.64.67.140\n",
            "Connecting to nlp.stanford.edu (nlp.stanford.edu)|171.64.67.140|:80... connected.\n",
            "HTTP request sent, awaiting response... 302 Found\n",
            "Location: https://nlp.stanford.edu/data/glove.6B.zip [following]\n",
            "--2020-03-20 17:56:08--  https://nlp.stanford.edu/data/glove.6B.zip\n",
            "Connecting to nlp.stanford.edu (nlp.stanford.edu)|171.64.67.140|:443... connected.\n",
            "HTTP request sent, awaiting response... 301 Moved Permanently\n",
            "Location: http://downloads.cs.stanford.edu/nlp/data/glove.6B.zip [following]\n",
            "--2020-03-20 17:56:09--  http://downloads.cs.stanford.edu/nlp/data/glove.6B.zip\n",
            "Resolving downloads.cs.stanford.edu (downloads.cs.stanford.edu)... 171.64.64.22\n",
            "Connecting to downloads.cs.stanford.edu (downloads.cs.stanford.edu)|171.64.64.22|:80... connected.\n",
            "HTTP request sent, awaiting response... 200 OK\n",
            "Length: 862182613 (822M) [application/zip]\n",
            "Saving to: ‘glove.6B.zip’\n",
            "\n",
            "glove.6B.zip        100%[===================>] 822.24M  2.01MB/s    in 6m 30s  \n",
            "\n",
            "2020-03-20 18:02:39 (2.11 MB/s) - ‘glove.6B.zip’ saved [862182613/862182613]\n",
            "\n"
          ],
          "name": "stdout"
        }
      ]
    },
    {
      "cell_type": "code",
      "metadata": {
        "id": "QbBtHljxFtZu",
        "colab_type": "code",
        "outputId": "f1088853-2f1a-4b4a-c507-411a87e28138",
        "colab": {
          "base_uri": "https://localhost:8080/",
          "height": 104
        }
      },
      "source": [
        "# Unzip the file\n",
        "!unzip glove.6B.zip"
      ],
      "execution_count": 0,
      "outputs": [
        {
          "output_type": "stream",
          "text": [
            "Archive:  glove.6B.zip\n",
            "  inflating: glove.6B.50d.txt        \n",
            "  inflating: glove.6B.100d.txt       \n",
            "  inflating: glove.6B.200d.txt       \n",
            "  inflating: glove.6B.300d.txt       \n"
          ],
          "name": "stdout"
        }
      ]
    },
    {
      "cell_type": "code",
      "metadata": {
        "id": "umP3pb5JFwMQ",
        "colab_type": "code",
        "outputId": "d24577be-b8fa-4580-ec98-37ea97efb7dc",
        "colab": {
          "base_uri": "https://localhost:8080/",
          "height": 52
        }
      },
      "source": [
        "!ls"
      ],
      "execution_count": 0,
      "outputs": [
        {
          "output_type": "stream",
          "text": [
            "0tIo\t glove\t\t    glove.6B.200d.txt  glove.6B.50d.txt  __MACOSX\n",
            "aclImdb  glove.6B.100d.txt  glove.6B.300d.txt  glove.6B.zip\t sample_data\n"
          ],
          "name": "stdout"
        }
      ]
    },
    {
      "cell_type": "code",
      "metadata": {
        "id": "SePMvpmD3jJQ",
        "colab_type": "code",
        "outputId": "85a2fed5-d105-4306-ec80-ea687d617722",
        "colab": {
          "base_uri": "https://localhost:8080/",
          "height": 35
        }
      },
      "source": [
        "# Parsing the GloVe word-embeddings file\n",
        "glove_dir = '/content'\n",
        "embeddings_index = {}\n",
        "f = open(os.path.join(glove_dir, 'glove.6B.100d.txt'))\n",
        "for line in f:\n",
        "  values = line.split()\n",
        "  word = values[0]\n",
        "  coefs = np.asarray(values[1:], dtype='float32')\n",
        "  # Build a word-index dictionary for all the 6 billion words\n",
        "  embeddings_index[word] = coefs\n",
        "f.close()\n",
        "print('Found %s word vectors.' % len(embeddings_index))"
      ],
      "execution_count": 0,
      "outputs": [
        {
          "output_type": "stream",
          "text": [
            "Found 400000 word vectors.\n"
          ],
          "name": "stdout"
        }
      ]
    },
    {
      "cell_type": "code",
      "metadata": {
        "id": "Gn-JO0YL3vhk",
        "colab_type": "code",
        "colab": {}
      },
      "source": [
        "# Preparing the GloVe word-embeddings matrix\n",
        "# Dimension of embedding vector is 100\n",
        "embedding_dim = 100\n",
        "# Define an empty matrix with shape (max_words, embedding_dim)\n",
        "embedding_matrix = np.zeros((max_words, embedding_dim))\n",
        "for word, i in word_index.items():\n",
        "  # Use only max_words = 10,000 words from the word index\n",
        "  if i < max_words:\n",
        "    # Get the embedding vector of the word from GloVe\n",
        "    embedding_vector = embeddings_index.get(word)\n",
        "    # Append the embedding vector to the embedding matrix for each word\n",
        "    # If the word in not in the embeddings, it will remain zero\n",
        "    if embedding_vector is not None:\n",
        "      embedding_matrix[i] = embedding_vector"
      ],
      "execution_count": 0,
      "outputs": []
    },
    {
      "cell_type": "code",
      "metadata": {
        "id": "0LleYCQW31Qk",
        "colab_type": "code",
        "outputId": "177ad6ee-d1df-4c03-c35e-4173dd31894a",
        "colab": {
          "base_uri": "https://localhost:8080/",
          "height": 295
        }
      },
      "source": [
        "# Model definition\n",
        "from keras.models import Sequential\n",
        "from keras.layers import Embedding, Flatten, Dense\n",
        "# Use the same model as before\n",
        "model = Sequential()\n",
        "model.add(Embedding(max_words, embedding_dim, input_length=maxlen))\n",
        "model.add(Flatten())\n",
        "model.add(Dense(32, activation='relu'))\n",
        "model.add(Dense(1, activation='sigmoid'))\n",
        "model.summary()"
      ],
      "execution_count": 0,
      "outputs": [
        {
          "output_type": "stream",
          "text": [
            "Model: \"sequential_2\"\n",
            "_________________________________________________________________\n",
            "Layer (type)                 Output Shape              Param #   \n",
            "=================================================================\n",
            "embedding_3 (Embedding)      (None, 100, 100)          1000000   \n",
            "_________________________________________________________________\n",
            "flatten_2 (Flatten)          (None, 10000)             0         \n",
            "_________________________________________________________________\n",
            "dense_2 (Dense)              (None, 32)                320032    \n",
            "_________________________________________________________________\n",
            "dense_3 (Dense)              (None, 1)                 33        \n",
            "=================================================================\n",
            "Total params: 1,320,065\n",
            "Trainable params: 1,320,065\n",
            "Non-trainable params: 0\n",
            "_________________________________________________________________\n"
          ],
          "name": "stdout"
        }
      ]
    },
    {
      "cell_type": "code",
      "metadata": {
        "id": "TJx3EyeH33dn",
        "colab_type": "code",
        "colab": {}
      },
      "source": [
        "# Loading pretrained word embeddings into the Embedding layer\n",
        "model.layers[0].set_weights([embedding_matrix])\n",
        "model.layers[0].trainable = False"
      ],
      "execution_count": 0,
      "outputs": []
    },
    {
      "cell_type": "code",
      "metadata": {
        "id": "woBOVWw73-Sq",
        "colab_type": "code",
        "outputId": "55c5367c-d24e-4870-89d7-0a4a7c414cf4",
        "colab": {
          "base_uri": "https://localhost:8080/",
          "height": 748
        }
      },
      "source": [
        "# Training and evaluation\n",
        "model.compile(optimizer='rmsprop',\n",
        "loss='binary_crossentropy',\n",
        "metrics=['acc'])\n",
        "# Train the model for 20 epochs\n",
        "history = model.fit(x_train, y_train,\n",
        "epochs=20,\n",
        "batch_size=64,\n",
        "validation_data=(x_val, y_val))\n",
        "model.save_weights('pre_trained_glove_model.h5')"
      ],
      "execution_count": 0,
      "outputs": [
        {
          "output_type": "stream",
          "text": [
            "Train on 8000 samples, validate on 10000 samples\n",
            "Epoch 1/20\n",
            "8000/8000 [==============================] - 1s 113us/step - loss: 0.0079 - acc: 0.9978 - val_loss: 2.4264 - val_acc: 0.6883\n",
            "Epoch 2/20\n",
            "8000/8000 [==============================] - 1s 77us/step - loss: 0.0158 - acc: 0.9965 - val_loss: 2.5015 - val_acc: 0.6795\n",
            "Epoch 3/20\n",
            "8000/8000 [==============================] - 1s 81us/step - loss: 8.8662e-05 - acc: 1.0000 - val_loss: 2.5396 - val_acc: 0.6860\n",
            "Epoch 4/20\n",
            "8000/8000 [==============================] - 1s 78us/step - loss: 0.0071 - acc: 0.9979 - val_loss: 2.4705 - val_acc: 0.6878\n",
            "Epoch 5/20\n",
            "8000/8000 [==============================] - 1s 80us/step - loss: 0.0059 - acc: 0.9985 - val_loss: 2.5255 - val_acc: 0.6813\n",
            "Epoch 6/20\n",
            "8000/8000 [==============================] - 1s 77us/step - loss: 0.0092 - acc: 0.9979 - val_loss: 2.4994 - val_acc: 0.6836\n",
            "Epoch 7/20\n",
            "8000/8000 [==============================] - 1s 80us/step - loss: 8.7802e-05 - acc: 1.0000 - val_loss: 2.5100 - val_acc: 0.6856\n",
            "Epoch 8/20\n",
            "8000/8000 [==============================] - 1s 78us/step - loss: 0.0038 - acc: 0.9989 - val_loss: 2.4845 - val_acc: 0.6843\n",
            "Epoch 9/20\n",
            "8000/8000 [==============================] - 1s 78us/step - loss: 0.0159 - acc: 0.9970 - val_loss: 2.5628 - val_acc: 0.6840\n",
            "Epoch 10/20\n",
            "8000/8000 [==============================] - 1s 82us/step - loss: 9.7091e-05 - acc: 1.0000 - val_loss: 2.5292 - val_acc: 0.6862\n",
            "Epoch 11/20\n",
            "8000/8000 [==============================] - 1s 78us/step - loss: 0.0094 - acc: 0.9971 - val_loss: 2.5931 - val_acc: 0.6869\n",
            "Epoch 12/20\n",
            "8000/8000 [==============================] - 1s 78us/step - loss: 8.7954e-05 - acc: 1.0000 - val_loss: 4.1135 - val_acc: 0.6218\n",
            "Epoch 13/20\n",
            "8000/8000 [==============================] - 1s 81us/step - loss: 0.0090 - acc: 0.9976 - val_loss: 2.4938 - val_acc: 0.6867\n",
            "Epoch 14/20\n",
            "8000/8000 [==============================] - 1s 76us/step - loss: 0.0147 - acc: 0.9963 - val_loss: 2.5226 - val_acc: 0.6857\n",
            "Epoch 15/20\n",
            "8000/8000 [==============================] - 1s 79us/step - loss: 8.5787e-05 - acc: 1.0000 - val_loss: 2.5488 - val_acc: 0.6855\n",
            "Epoch 16/20\n",
            "8000/8000 [==============================] - 1s 78us/step - loss: 0.0115 - acc: 0.9970 - val_loss: 2.5322 - val_acc: 0.6880\n",
            "Epoch 17/20\n",
            "8000/8000 [==============================] - 1s 84us/step - loss: 8.4482e-05 - acc: 1.0000 - val_loss: 2.6063 - val_acc: 0.6875\n",
            "Epoch 18/20\n",
            "8000/8000 [==============================] - 1s 77us/step - loss: 0.0192 - acc: 0.9969 - val_loss: 2.6298 - val_acc: 0.6851\n",
            "Epoch 19/20\n",
            "8000/8000 [==============================] - 1s 81us/step - loss: 8.3054e-05 - acc: 1.0000 - val_loss: 2.6641 - val_acc: 0.6881\n",
            "Epoch 20/20\n",
            "8000/8000 [==============================] - 1s 78us/step - loss: 0.0184 - acc: 0.9968 - val_loss: 2.6297 - val_acc: 0.6846\n"
          ],
          "name": "stdout"
        }
      ]
    },
    {
      "cell_type": "code",
      "metadata": {
        "id": "2p3osgiN4Fno",
        "colab_type": "code",
        "outputId": "ea92b507-ce10-42ef-cdd2-cd7398f45c52",
        "colab": {
          "base_uri": "https://localhost:8080/",
          "height": 545
        }
      },
      "source": [
        "# Plotting the results\n",
        "import matplotlib.pyplot as plt\n",
        "acc = history.history['acc']\n",
        "val_acc = history.history['val_acc']\n",
        "loss = history.history['loss']\n",
        "val_loss = history.history['val_loss']\n",
        "epochs = range(1, len(acc) + 1)\n",
        "plt.plot(epochs, acc, 'bo', label='Training acc')\n",
        "plt.plot(epochs, val_acc, 'b', label='Validation acc')\n",
        "plt.title('Training and validation accuracy')\n",
        "plt.legend()\n",
        "plt.figure()\n",
        "plt.plot(epochs, loss, 'bo', label='Training loss')\n",
        "plt.plot(epochs, val_loss, 'b', label='Validation loss')\n",
        "plt.title('Training and validation loss')\n",
        "plt.legend()\n",
        "plt.show()"
      ],
      "execution_count": 0,
      "outputs": [
        {
          "output_type": "display_data",
          "data": {
            "image/png": "[encoded data removed]",
            "text/plain": [
              "<Figure size 432x288 with 1 Axes>"
            ]
          },
          "metadata": {
            "tags": []
          }
        },
        {
          "output_type": "display_data",
          "data": {
            "image/png": "[encoded data removed]",
            "text/plain": [
              "<Figure size 432x288 with 1 Axes>"
            ]
          },
          "metadata": {
            "tags": []
          }
        }
      ]
    },
    {
      "cell_type": "code",
      "metadata": {
        "id": "ePMp6obDIsQx",
        "colab_type": "code",
        "colab": {}
      },
      "source": [
        "# Model quickly starts overfitting on the training dataset\n",
        "# We get validation accuracy of ~68%"
      ],
      "execution_count": 0,
      "outputs": []
    },
    {
      "cell_type": "code",
      "metadata": {
        "id": "HXsoz0P14Mtn",
        "colab_type": "code",
        "outputId": "e168ec47-7186-439d-f7c4-4329c5934216",
        "colab": {
          "base_uri": "https://localhost:8080/",
          "height": 1000
        }
      },
      "source": [
        "# Training the same model without pretrained word embeddings\n",
        "from keras.models import Sequential\n",
        "from keras.layers import Embedding, Flatten, Dense\n",
        "model = Sequential()\n",
        "model.add(Embedding(max_words, embedding_dim, input_length=maxlen))\n",
        "model.add(Flatten())\n",
        "model.add(Dense(32, activation='relu'))\n",
        "model.add(Dense(1, activation='sigmoid'))\n",
        "model.summary()\n",
        "model.compile(optimizer='rmsprop',\n",
        "loss='binary_crossentropy',\n",
        "metrics=['acc'])\n",
        "history = model.fit(x_train, y_train,\n",
        "epochs=20,\n",
        "batch_size=64,\n",
        "validation_data=(x_val, y_val))\n",
        "model.save_weights('without_pre_trained_glove_model.h5')"
      ],
      "execution_count": 0,
      "outputs": [
        {
          "output_type": "stream",
          "text": [
            "Model: \"sequential_4\"\n",
            "_________________________________________________________________\n",
            "Layer (type)                 Output Shape              Param #   \n",
            "=================================================================\n",
            "embedding_5 (Embedding)      (None, 100, 100)          1000000   \n",
            "_________________________________________________________________\n",
            "flatten_4 (Flatten)          (None, 10000)             0         \n",
            "_________________________________________________________________\n",
            "dense_6 (Dense)              (None, 32)                320032    \n",
            "_________________________________________________________________\n",
            "dense_7 (Dense)              (None, 1)                 33        \n",
            "=================================================================\n",
            "Total params: 1,320,065\n",
            "Trainable params: 1,320,065\n",
            "Non-trainable params: 0\n",
            "_________________________________________________________________\n",
            "Train on 8000 samples, validate on 10000 samples\n",
            "Epoch 1/20\n",
            "8000/8000 [==============================] - 1s 144us/step - loss: 0.5632 - acc: 0.6985 - val_loss: 0.4180 - val_acc: 0.8108\n",
            "Epoch 2/20\n",
            "8000/8000 [==============================] - 1s 90us/step - loss: 0.1706 - acc: 0.9429 - val_loss: 0.3997 - val_acc: 0.8202\n",
            "Epoch 3/20\n",
            "8000/8000 [==============================] - 1s 90us/step - loss: 0.0223 - acc: 0.9969 - val_loss: 0.4873 - val_acc: 0.8201\n",
            "Epoch 4/20\n",
            "8000/8000 [==============================] - 1s 90us/step - loss: 0.0017 - acc: 0.9999 - val_loss: 0.6403 - val_acc: 0.8175\n",
            "Epoch 5/20\n",
            "8000/8000 [==============================] - 1s 96us/step - loss: 1.2283e-04 - acc: 1.0000 - val_loss: 0.7175 - val_acc: 0.8238\n",
            "Epoch 6/20\n",
            "8000/8000 [==============================] - 1s 89us/step - loss: 5.6733e-06 - acc: 1.0000 - val_loss: 0.7997 - val_acc: 0.8221\n",
            "Epoch 7/20\n",
            "8000/8000 [==============================] - 1s 88us/step - loss: 1.0887e-05 - acc: 1.0000 - val_loss: 0.9356 - val_acc: 0.8158\n",
            "Epoch 8/20\n",
            "8000/8000 [==============================] - 1s 90us/step - loss: 6.8006e-07 - acc: 1.0000 - val_loss: 0.8975 - val_acc: 0.8203\n",
            "Epoch 9/20\n",
            "8000/8000 [==============================] - 1s 96us/step - loss: 1.2422e-07 - acc: 1.0000 - val_loss: 0.9361 - val_acc: 0.8207\n",
            "Epoch 10/20\n",
            "8000/8000 [==============================] - 1s 93us/step - loss: 1.1243e-07 - acc: 1.0000 - val_loss: 0.9568 - val_acc: 0.8215\n",
            "Epoch 11/20\n",
            "8000/8000 [==============================] - 1s 94us/step - loss: 1.1102e-07 - acc: 1.0000 - val_loss: 0.9715 - val_acc: 0.8209\n",
            "Epoch 12/20\n",
            "8000/8000 [==============================] - 1s 92us/step - loss: 1.1059e-07 - acc: 1.0000 - val_loss: 0.9728 - val_acc: 0.8211\n",
            "Epoch 13/20\n",
            "8000/8000 [==============================] - 1s 91us/step - loss: 1.1015e-07 - acc: 1.0000 - val_loss: 0.9805 - val_acc: 0.8211\n",
            "Epoch 14/20\n",
            "8000/8000 [==============================] - 1s 92us/step - loss: 1.1005e-07 - acc: 1.0000 - val_loss: 0.9833 - val_acc: 0.8209\n",
            "Epoch 15/20\n",
            "8000/8000 [==============================] - 1s 94us/step - loss: 1.0995e-07 - acc: 1.0000 - val_loss: 0.9868 - val_acc: 0.8203\n",
            "Epoch 16/20\n",
            "8000/8000 [==============================] - 1s 89us/step - loss: 1.0991e-07 - acc: 1.0000 - val_loss: 0.9864 - val_acc: 0.8209\n",
            "Epoch 17/20\n",
            "8000/8000 [==============================] - 1s 90us/step - loss: 1.0994e-07 - acc: 1.0000 - val_loss: 0.9887 - val_acc: 0.8213\n",
            "Epoch 18/20\n",
            "8000/8000 [==============================] - 1s 87us/step - loss: 1.0986e-07 - acc: 1.0000 - val_loss: 0.9918 - val_acc: 0.8209\n",
            "Epoch 19/20\n",
            "8000/8000 [==============================] - 1s 88us/step - loss: 1.0988e-07 - acc: 1.0000 - val_loss: 0.9908 - val_acc: 0.8205\n",
            "Epoch 20/20\n",
            "8000/8000 [==============================] - 1s 92us/step - loss: 1.0982e-07 - acc: 1.0000 - val_loss: 0.9932 - val_acc: 0.8208\n"
          ],
          "name": "stdout"
        }
      ]
    },
    {
      "cell_type": "code",
      "metadata": {
        "id": "tZ-oiw55JRBA",
        "colab_type": "code",
        "outputId": "222bf9c2-71e9-4122-b0b2-ef997d4971af",
        "colab": {
          "base_uri": "https://localhost:8080/",
          "height": 545
        }
      },
      "source": [
        "# Plotting the results\n",
        "import matplotlib.pyplot as plt\n",
        "acc = history.history['acc']\n",
        "val_acc = history.history['val_acc']\n",
        "loss = history.history['loss']\n",
        "val_loss = history.history['val_loss']\n",
        "epochs = range(1, len(acc) + 1)\n",
        "plt.plot(epochs, acc, 'bo', label='Training acc')\n",
        "plt.plot(epochs, val_acc, 'b', label='Validation acc')\n",
        "plt.title('Training and validation accuracy')\n",
        "plt.legend()\n",
        "plt.figure()\n",
        "plt.plot(epochs, loss, 'bo', label='Training loss')\n",
        "plt.plot(epochs, val_loss, 'b', label='Validation loss')\n",
        "plt.title('Training and validation loss')\n",
        "plt.legend()\n",
        "plt.show()"
      ],
      "execution_count": 0,
      "outputs": [
        {
          "output_type": "display_data",
          "data": {
            "image/png": "[encoded data removed]",
            "text/plain": [
              "<Figure size 432x288 with 1 Axes>"
            ]
          },
          "metadata": {
            "tags": []
          }
        },
        {
          "output_type": "display_data",
          "data": {
            "image/png": "[encoded data removed]",
            "text/plain": [
              "<Figure size 432x288 with 1 Axes>"
            ]
          },
          "metadata": {
            "tags": []
          }
        }
      ]
    },
    {
      "cell_type": "code",
      "metadata": {
        "id": "CEvKp0_PJaps",
        "colab_type": "code",
        "colab": {}
      },
      "source": [
        "# If train without the pretrained weights, the model performs better with validation accuracy of ~82%\n",
        "# There are 8000 samples in the training data and the embedding vectors change with backpropagation\n",
        "# to predict the class better"
      ],
      "execution_count": 0,
      "outputs": []
    },
    {
      "cell_type": "code",
      "metadata": {
        "id": "2KlqBxYd4Rtn",
        "colab_type": "code",
        "colab": {}
      },
      "source": [
        "# Tokenizing the data of the test set\n",
        "test_dir = os.path.join(imdb_dir, 'test')\n",
        "labels = []\n",
        "texts = []\n",
        "for label_type in ['neg', 'pos']:\n",
        "  dir_name = os.path.join(test_dir, label_type)\n",
        "  for fname in sorted(os.listdir(dir_name)):\n",
        "    if fname[-4:] == '.txt':\n",
        "      f = open(os.path.join(dir_name, fname))\n",
        "      texts.append(f.read())\n",
        "      f.close()\n",
        "      if label_type == 'neg':\n",
        "        labels.append(0)\n",
        "      else:\n",
        "        labels.append(1)\n",
        "sequences = tokenizer.texts_to_sequences(texts)\n",
        "x_test = pad_sequences(sequences, maxlen=maxlen)\n",
        "y_test = np.asarray(labels)"
      ],
      "execution_count": 0,
      "outputs": []
    },
    {
      "cell_type": "code",
      "metadata": {
        "id": "V99TXbpy4ZH0",
        "colab_type": "code",
        "outputId": "e124a443-58c0-411f-e6f5-7e4692425a3c",
        "colab": {
          "base_uri": "https://localhost:8080/",
          "height": 52
        }
      },
      "source": [
        "# Evaluating the model on the test set\n",
        "model.load_weights('pre_trained_glove_model.h5')\n",
        "model.evaluate(x_test, y_test)"
      ],
      "execution_count": 0,
      "outputs": [
        {
          "output_type": "stream",
          "text": [
            "25000/25000 [==============================] - 1s 44us/step\n"
          ],
          "name": "stdout"
        },
        {
          "output_type": "execute_result",
          "data": {
            "text/plain": [
              "[2.598919033599049, 0.68904]"
            ]
          },
          "metadata": {
            "tags": []
          },
          "execution_count": 48
        }
      ]
    },
    {
      "cell_type": "code",
      "metadata": {
        "id": "1gCHQnOVKUK5",
        "colab_type": "code",
        "outputId": "4b204e75-cd3a-4443-f992-6147310fd011",
        "colab": {
          "base_uri": "https://localhost:8080/",
          "height": 52
        }
      },
      "source": [
        "# Evaluating the model on the test set without pretrained glove model\n",
        "model.load_weights('without_pre_trained_glove_model.h5')\n",
        "model.evaluate(x_test, y_test)"
      ],
      "execution_count": 0,
      "outputs": [
        {
          "output_type": "stream",
          "text": [
            "25000/25000 [==============================] - 1s 42us/step\n"
          ],
          "name": "stdout"
        },
        {
          "output_type": "execute_result",
          "data": {
            "text/plain": [
              "[0.9728273088896274, 0.8212]"
            ]
          },
          "metadata": {
            "tags": []
          },
          "execution_count": 49
        }
      ]
    }
  ]
}