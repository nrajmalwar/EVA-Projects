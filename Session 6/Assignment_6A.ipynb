{
  "nbformat": 4,
  "nbformat_minor": 0,
  "metadata": {
    "colab": {
      "name": "Assignment_6_A_EVA.ipynb",
      "version": "0.3.2",
      "provenance": [],
      "collapsed_sections": [],
      "include_colab_link": true
    },
    "kernelspec": {
      "name": "python3",
      "display_name": "Python 3"
    },
    "accelerator": "GPU"
  },
  "cells": [
    {
      "cell_type": "markdown",
      "metadata": {
        "id": "view-in-github",
        "colab_type": "text"
      },
      "source": [
        "<a href=\"https://colab.research.google.com/github/nrajmalwar/Project/blob/master/Session%206/Assignment_6A.ipynb\" target=\"_parent\"><img src=\"https://colab.research.google.com/assets/colab-badge.svg\" alt=\"Open In Colab\"/></a>"
      ]
    },
    {
      "cell_type": "markdown",
      "metadata": {
        "id": "1f5hTLbkKbZs",
        "colab_type": "text"
      },
      "source": [
        "# Import Libraries and Dataset"
      ]
    },
    {
      "cell_type": "markdown",
      "metadata": {
        "id": "iLyBOHdBLA4H",
        "colab_type": "text"
      },
      "source": [
        "Import important libraries and functions"
      ]
    },
    {
      "cell_type": "code",
      "metadata": {
        "id": "KkwXnw9OfHZl",
        "colab_type": "code",
        "colab": {}
      },
      "source": [
        "from keras import backend as K\n",
        "import time\n",
        "import matplotlib.pyplot as plt\n",
        "import numpy as np\n",
        "% matplotlib inline\n",
        "np.random.seed(2017) \n",
        "from keras.models import Sequential, Model\n",
        "from keras.layers.convolutional import Convolution2D, MaxPooling2D\n",
        "from keras.layers import Activation, Flatten, Dense, Dropout, Input, Conv2D, GlobalAveragePooling2D\n",
        "from keras.layers.normalization import BatchNormalization\n",
        "from keras.utils import np_utils\n",
        "from keras.preprocessing.image import ImageDataGenerator\n",
        "from keras.optimizers import Adam"
      ],
      "execution_count": 0,
      "outputs": []
    },
    {
      "cell_type": "code",
      "metadata": {
        "id": "NHpnoCHZfO8g",
        "colab_type": "code",
        "outputId": "a01d52a9-3c5c-4d0f-c126-41559bc22e81",
        "colab": {
          "base_uri": "https://localhost:8080/",
          "height": 52
        }
      },
      "source": [
        "from keras.datasets import cifar10\n",
        "(train_features, train_labels), (test_features, test_labels) = cifar10.load_data()\n",
        "num_train, img_channels, img_rows, img_cols =  train_features.shape\n",
        "num_test, _, _, _ =  test_features.shape\n",
        "num_classes = len(np.unique(train_labels))"
      ],
      "execution_count": 2,
      "outputs": [
        {
          "output_type": "stream",
          "text": [
            "Downloading data from https://www.cs.toronto.edu/~kriz/cifar-10-python.tar.gz\n",
            "170500096/170498071 [==============================] - 119s 1us/step\n"
          ],
          "name": "stdout"
        }
      ]
    },
    {
      "cell_type": "code",
      "metadata": {
        "id": "tVdmV3GOCEBG",
        "colab_type": "code",
        "outputId": "8e1c99e5-4ca1-4271-efa1-3412f8434701",
        "colab": {
          "base_uri": "https://localhost:8080/",
          "height": 35
        }
      },
      "source": [
        "train_features.shape"
      ],
      "execution_count": 3,
      "outputs": [
        {
          "output_type": "execute_result",
          "data": {
            "text/plain": [
              "(50000, 32, 32, 3)"
            ]
          },
          "metadata": {
            "tags": []
          },
          "execution_count": 3
        }
      ]
    },
    {
      "cell_type": "markdown",
      "metadata": {
        "id": "FK65SldyLGxP",
        "colab_type": "text"
      },
      "source": [
        "Plot random images from each class"
      ]
    },
    {
      "cell_type": "code",
      "metadata": {
        "id": "14HyBUXdfS6G",
        "colab_type": "code",
        "outputId": "9841954f-f384-4208-f8b2-0c63be8143d6",
        "colab": {
          "base_uri": "https://localhost:8080/",
          "height": 213
        }
      },
      "source": [
        "class_names = ['airplane','automobile','bird','cat','deer',\n",
        "               'dog','frog','horse','ship','truck']\n",
        "fig = plt.figure(figsize=(8,3))\n",
        "for i in range(num_classes):\n",
        "    ax = fig.add_subplot(2, 5, 1 + i, xticks=[], yticks=[])\n",
        "    idx = np.where(train_labels[:]==i)[0]\n",
        "    features_idx = train_features[idx,::]\n",
        "    img_num = np.random.randint(features_idx.shape[0])\n",
        "    im = features_idx[img_num]\n",
        "    ax.set_title(class_names[i])\n",
        "    plt.imshow(im)\n",
        "plt.show()"
      ],
      "execution_count": 4,
      "outputs": [
        {
          "output_type": "display_data",
          "data": {
            "image/png": "[encoded data removed]",
            "text/plain": [
              "<Figure size 576x216 with 10 Axes>"
            ]
          },
          "metadata": {
            "tags": []
          }
        }
      ]
    },
    {
      "cell_type": "code",
      "metadata": {
        "id": "bmfsk76-fadV",
        "colab_type": "code",
        "colab": {}
      },
      "source": [
        "def plot_model_history(model_history):\n",
        "    fig, axs = plt.subplots(1,2,figsize=(15,5))\n",
        "    # summarize history for accuracy\n",
        "    axs[0].plot(range(1,len(model_history.history['acc'])+1),model_history.history['acc'])\n",
        "    axs[0].plot(range(1,len(model_history.history['val_acc'])+1),model_history.history['val_acc'])\n",
        "    axs[0].set_title('Model Accuracy')\n",
        "    axs[0].set_ylabel('Accuracy')\n",
        "    axs[0].set_xlabel('Epoch')\n",
        "    axs[0].set_xticks(np.arange(1,len(model_history.history['acc'])+1),len(model_history.history['acc'])/10)\n",
        "    axs[0].legend(['train', 'val'], loc='best')\n",
        "    # summarize history for loss\n",
        "    axs[1].plot(range(1,len(model_history.history['loss'])+1),model_history.history['loss'])\n",
        "    axs[1].plot(range(1,len(model_history.history['val_loss'])+1),model_history.history['val_loss'])\n",
        "    axs[1].set_title('Model Loss')\n",
        "    axs[1].set_ylabel('Loss')\n",
        "    axs[1].set_xlabel('Epoch')\n",
        "    axs[1].set_xticks(np.arange(1,len(model_history.history['loss'])+1),len(model_history.history['loss'])/10)\n",
        "    axs[1].legend(['train', 'val'], loc='best')\n",
        "    plt.show()"
      ],
      "execution_count": 0,
      "outputs": []
    },
    {
      "cell_type": "code",
      "metadata": {
        "id": "YJMT4rjgfdZz",
        "colab_type": "code",
        "colab": {}
      },
      "source": [
        "def accuracy(test_x, test_y, model):\n",
        "    result = model.predict(test_x)\n",
        "    predicted_class = np.argmax(result, axis=1)\n",
        "    true_class = np.argmax(test_y, axis=1)\n",
        "    num_correct = np.sum(predicted_class == true_class) \n",
        "    accuracy = float(num_correct)/result.shape[0]\n",
        "    return (accuracy * 100)"
      ],
      "execution_count": 0,
      "outputs": []
    },
    {
      "cell_type": "code",
      "metadata": {
        "id": "T5c5nDvxm6zR",
        "colab_type": "code",
        "colab": {}
      },
      "source": [
        "train_features = train_features.astype('float32')/255\n",
        "test_features = test_features.astype('float32')/255\n",
        "# convert class labels to binary class labels\n",
        "train_labels = np_utils.to_categorical(train_labels, num_classes)\n",
        "test_labels = np_utils.to_categorical(test_labels, num_classes)"
      ],
      "execution_count": 0,
      "outputs": []
    },
    {
      "cell_type": "markdown",
      "metadata": {
        "id": "Qo-B0m_oKfr5",
        "colab_type": "text"
      },
      "source": [
        "#Model Architecture"
      ]
    },
    {
      "cell_type": "code",
      "metadata": {
        "id": "cSOb2lkJfhVq",
        "colab_type": "code",
        "outputId": "cfcef104-f500-4132-e068-ec92eb74a4f1",
        "colab": {
          "base_uri": "https://localhost:8080/",
          "height": 245
        }
      },
      "source": [
        "# Define the model\n",
        "model = Sequential()\n",
        "model.add(Convolution2D(48, 3, 3, border_mode='same', input_shape=(32, 32, 3)))\n",
        "model.add(Activation('relu'))\n",
        "model.add(Convolution2D(48, 3, 3))\n",
        "model.add(Activation('relu'))\n",
        "model.add(MaxPooling2D(pool_size=(2, 2)))\n",
        "model.add(Dropout(0.25))\n",
        "model.add(Convolution2D(96, 3, 3, border_mode='same'))\n",
        "model.add(Activation('relu'))\n",
        "model.add(Convolution2D(96, 3, 3))\n",
        "model.add(Activation('relu'))\n",
        "model.add(MaxPooling2D(pool_size=(2, 2)))\n",
        "model.add(Dropout(0.25))\n",
        "model.add(Convolution2D(192, 3, 3, border_mode='same'))\n",
        "model.add(Activation('relu'))\n",
        "model.add(Convolution2D(192, 3, 3))\n",
        "model.add(Activation('relu'))\n",
        "model.add(MaxPooling2D(pool_size=(2, 2)))\n",
        "model.add(Dropout(0.25))\n",
        "model.add(Flatten())\n",
        "model.add(Dense(512))\n",
        "model.add(Activation('relu'))\n",
        "model.add(Dropout(0.5))\n",
        "model.add(Dense(256))\n",
        "model.add(Activation('relu'))\n",
        "model.add(Dropout(0.5))\n",
        "model.add(Dense(num_classes, activation='softmax'))\n",
        "# Compile the model\n",
        "model.compile(optimizer='adam', loss='categorical_crossentropy', metrics=['accuracy'])\n"
      ],
      "execution_count": 0,
      "outputs": [
        {
          "output_type": "stream",
          "text": [
            "/usr/local/lib/python3.6/dist-packages/ipykernel_launcher.py:2: UserWarning: Update your `Conv2D` call to the Keras 2 API: `Conv2D(48, (3, 3), input_shape=(32, 32, 3..., padding=\"same\")`\n",
            "  \n",
            "/usr/local/lib/python3.6/dist-packages/ipykernel_launcher.py:4: UserWarning: Update your `Conv2D` call to the Keras 2 API: `Conv2D(48, (3, 3))`\n",
            "  after removing the cwd from sys.path.\n",
            "/usr/local/lib/python3.6/dist-packages/ipykernel_launcher.py:8: UserWarning: Update your `Conv2D` call to the Keras 2 API: `Conv2D(96, (3, 3), padding=\"same\")`\n",
            "  \n",
            "/usr/local/lib/python3.6/dist-packages/ipykernel_launcher.py:10: UserWarning: Update your `Conv2D` call to the Keras 2 API: `Conv2D(96, (3, 3))`\n",
            "  # Remove the CWD from sys.path while we load stuff.\n",
            "/usr/local/lib/python3.6/dist-packages/ipykernel_launcher.py:14: UserWarning: Update your `Conv2D` call to the Keras 2 API: `Conv2D(192, (3, 3), padding=\"same\")`\n",
            "  \n",
            "/usr/local/lib/python3.6/dist-packages/ipykernel_launcher.py:16: UserWarning: Update your `Conv2D` call to the Keras 2 API: `Conv2D(192, (3, 3))`\n",
            "  app.launch_new_instance()\n"
          ],
          "name": "stderr"
        }
      ]
    },
    {
      "cell_type": "markdown",
      "metadata": {
        "id": "ASf91jaMLM-q",
        "colab_type": "text"
      },
      "source": [
        "### Faults with this model\n",
        "\n",
        "1. No channel scale up, bottleneck and scale down\n",
        "2. Network architecture is not based on Receptive Field\n",
        "3. Too many dropout layers at random places and high values of dropout (0.5)\n",
        "4. Use of dense layers which loses spatial information and increases the number of parameters of the model"
      ]
    },
    {
      "cell_type": "code",
      "metadata": {
        "id": "wvVs5tC8mR6Q",
        "colab_type": "code",
        "outputId": "2eb271eb-ae00-4ff8-8d2a-713db65fc830",
        "colab": {
          "base_uri": "https://localhost:8080/",
          "height": 1040
        }
      },
      "source": [
        "model.summary()"
      ],
      "execution_count": 0,
      "outputs": [
        {
          "output_type": "stream",
          "text": [
            "_________________________________________________________________\n",
            "Layer (type)                 Output Shape              Param #   \n",
            "=================================================================\n",
            "conv2d_7 (Conv2D)            (None, 32, 32, 48)        1344      \n",
            "_________________________________________________________________\n",
            "activation_9 (Activation)    (None, 32, 32, 48)        0         \n",
            "_________________________________________________________________\n",
            "conv2d_8 (Conv2D)            (None, 30, 30, 48)        20784     \n",
            "_________________________________________________________________\n",
            "activation_10 (Activation)   (None, 30, 30, 48)        0         \n",
            "_________________________________________________________________\n",
            "max_pooling2d_4 (MaxPooling2 (None, 15, 15, 48)        0         \n",
            "_________________________________________________________________\n",
            "dropout_6 (Dropout)          (None, 15, 15, 48)        0         \n",
            "_________________________________________________________________\n",
            "conv2d_9 (Conv2D)            (None, 15, 15, 96)        41568     \n",
            "_________________________________________________________________\n",
            "activation_11 (Activation)   (None, 15, 15, 96)        0         \n",
            "_________________________________________________________________\n",
            "conv2d_10 (Conv2D)           (None, 13, 13, 96)        83040     \n",
            "_________________________________________________________________\n",
            "activation_12 (Activation)   (None, 13, 13, 96)        0         \n",
            "_________________________________________________________________\n",
            "max_pooling2d_5 (MaxPooling2 (None, 6, 6, 96)          0         \n",
            "_________________________________________________________________\n",
            "dropout_7 (Dropout)          (None, 6, 6, 96)          0         \n",
            "_________________________________________________________________\n",
            "conv2d_11 (Conv2D)           (None, 6, 6, 192)         166080    \n",
            "_________________________________________________________________\n",
            "activation_13 (Activation)   (None, 6, 6, 192)         0         \n",
            "_________________________________________________________________\n",
            "conv2d_12 (Conv2D)           (None, 4, 4, 192)         331968    \n",
            "_________________________________________________________________\n",
            "activation_14 (Activation)   (None, 4, 4, 192)         0         \n",
            "_________________________________________________________________\n",
            "max_pooling2d_6 (MaxPooling2 (None, 2, 2, 192)         0         \n",
            "_________________________________________________________________\n",
            "dropout_8 (Dropout)          (None, 2, 2, 192)         0         \n",
            "_________________________________________________________________\n",
            "flatten_2 (Flatten)          (None, 768)               0         \n",
            "_________________________________________________________________\n",
            "dense_4 (Dense)              (None, 512)               393728    \n",
            "_________________________________________________________________\n",
            "activation_15 (Activation)   (None, 512)               0         \n",
            "_________________________________________________________________\n",
            "dropout_9 (Dropout)          (None, 512)               0         \n",
            "_________________________________________________________________\n",
            "dense_5 (Dense)              (None, 256)               131328    \n",
            "_________________________________________________________________\n",
            "activation_16 (Activation)   (None, 256)               0         \n",
            "_________________________________________________________________\n",
            "dropout_10 (Dropout)         (None, 256)               0         \n",
            "_________________________________________________________________\n",
            "dense_6 (Dense)              (None, 10)                2570      \n",
            "=================================================================\n",
            "Total params: 1,172,410\n",
            "Trainable params: 1,172,410\n",
            "Non-trainable params: 0\n",
            "_________________________________________________________________\n"
          ],
          "name": "stdout"
        }
      ]
    },
    {
      "cell_type": "markdown",
      "metadata": {
        "id": "Fp3n8y7jKjM1",
        "colab_type": "text"
      },
      "source": [
        "# Model Training"
      ]
    },
    {
      "cell_type": "code",
      "metadata": {
        "id": "5oK_V7WyfsXX",
        "colab_type": "code",
        "outputId": "015a1f65-fedd-46ca-fcc7-406a43953ec4",
        "colab": {
          "base_uri": "https://localhost:8080/",
          "height": 3941
        }
      },
      "source": [
        "datagen = ImageDataGenerator(zoom_range=0.0, \n",
        "                             horizontal_flip=False)\n",
        "\n",
        "\n",
        "# train the model\n",
        "start = time.time()\n",
        "# Train the model\n",
        "model_info = model.fit_generator(datagen.flow(train_features, train_labels, batch_size = 128),\n",
        "                                 samples_per_epoch = train_features.shape[0], nb_epoch = 100, \n",
        "                                 validation_data = (test_features, test_labels), verbose=1)\n",
        "end = time.time()\n",
        "print (\"Model took %0.2f seconds to train\"%(end - start))\n",
        "# plot model history\n",
        "plot_model_history(model_info)\n",
        "# compute test accuracy\n",
        "print (\"Accuracy on test data is: %0.2f\"%accuracy(test_features, test_labels, model))"
      ],
      "execution_count": 0,
      "outputs": [
        {
          "output_type": "stream",
          "text": [
            "/usr/local/lib/python3.6/dist-packages/ipykernel_launcher.py:12: UserWarning: The semantics of the Keras 2 argument `steps_per_epoch` is not the same as the Keras 1 argument `samples_per_epoch`. `steps_per_epoch` is the number of batches to draw from the generator at each epoch. Basically steps_per_epoch = samples_per_epoch/batch_size. Similarly `nb_val_samples`->`validation_steps` and `val_samples`->`steps` arguments have changed. Update your method calls accordingly.\n",
            "  if sys.path[0] == '':\n",
            "/usr/local/lib/python3.6/dist-packages/ipykernel_launcher.py:12: UserWarning: Update your `fit_generator` call to the Keras 2 API: `fit_generator(<keras_pre..., validation_data=(array([[[..., verbose=1, steps_per_epoch=390, epochs=100)`\n",
            "  if sys.path[0] == '':\n"
          ],
          "name": "stderr"
        },
        {
          "output_type": "stream",
          "text": [
            "Epoch 1/100\n",
            "390/390 [==============================] - 10s 25ms/step - loss: 1.8481 - acc: 0.2959 - val_loss: 1.4758 - val_acc: 0.4659\n",
            "Epoch 2/100\n",
            "390/390 [==============================] - 9s 23ms/step - loss: 1.3360 - acc: 0.5172 - val_loss: 1.1413 - val_acc: 0.5930\n",
            "Epoch 3/100\n",
            "390/390 [==============================] - 9s 23ms/step - loss: 1.1193 - acc: 0.6061 - val_loss: 1.0537 - val_acc: 0.6258\n",
            "Epoch 4/100\n",
            "390/390 [==============================] - 9s 23ms/step - loss: 0.9930 - acc: 0.6531 - val_loss: 0.8545 - val_acc: 0.7040\n",
            "Epoch 5/100\n",
            "390/390 [==============================] - 9s 23ms/step - loss: 0.8978 - acc: 0.6891 - val_loss: 0.8413 - val_acc: 0.7163\n",
            "Epoch 6/100\n",
            "390/390 [==============================] - 9s 22ms/step - loss: 0.8168 - acc: 0.7187 - val_loss: 0.7276 - val_acc: 0.7534\n",
            "Epoch 7/100\n",
            "390/390 [==============================] - 9s 22ms/step - loss: 0.7620 - acc: 0.7369 - val_loss: 0.7149 - val_acc: 0.7542\n",
            "Epoch 8/100\n",
            "390/390 [==============================] - 9s 22ms/step - loss: 0.7200 - acc: 0.7534 - val_loss: 0.7090 - val_acc: 0.7586\n",
            "Epoch 9/100\n",
            "390/390 [==============================] - 9s 22ms/step - loss: 0.6773 - acc: 0.7701 - val_loss: 0.6581 - val_acc: 0.7722\n",
            "Epoch 10/100\n",
            "390/390 [==============================] - 9s 22ms/step - loss: 0.6598 - acc: 0.7750 - val_loss: 0.6686 - val_acc: 0.7725\n",
            "Epoch 11/100\n",
            "390/390 [==============================] - 9s 22ms/step - loss: 0.6229 - acc: 0.7893 - val_loss: 0.6328 - val_acc: 0.7861\n",
            "Epoch 12/100\n",
            "390/390 [==============================] - 9s 22ms/step - loss: 0.6055 - acc: 0.7937 - val_loss: 0.6289 - val_acc: 0.7904\n",
            "Epoch 13/100\n",
            "390/390 [==============================] - 9s 23ms/step - loss: 0.5701 - acc: 0.8057 - val_loss: 0.6111 - val_acc: 0.7925\n",
            "Epoch 14/100\n",
            "390/390 [==============================] - 9s 22ms/step - loss: 0.5566 - acc: 0.8095 - val_loss: 0.6405 - val_acc: 0.7840\n",
            "Epoch 15/100\n",
            "390/390 [==============================] - 9s 23ms/step - loss: 0.5431 - acc: 0.8147 - val_loss: 0.5997 - val_acc: 0.7979\n",
            "Epoch 16/100\n",
            "390/390 [==============================] - 9s 23ms/step - loss: 0.5259 - acc: 0.8207 - val_loss: 0.5841 - val_acc: 0.8044\n",
            "Epoch 17/100\n",
            "390/390 [==============================] - 9s 22ms/step - loss: 0.5117 - acc: 0.8240 - val_loss: 0.5818 - val_acc: 0.8064\n",
            "Epoch 18/100\n",
            "390/390 [==============================] - 9s 22ms/step - loss: 0.4965 - acc: 0.8310 - val_loss: 0.5848 - val_acc: 0.8054\n",
            "Epoch 19/100\n",
            "390/390 [==============================] - 9s 22ms/step - loss: 0.4962 - acc: 0.8290 - val_loss: 0.5846 - val_acc: 0.8023\n",
            "Epoch 20/100\n",
            "390/390 [==============================] - 9s 22ms/step - loss: 0.4772 - acc: 0.8354 - val_loss: 0.5860 - val_acc: 0.8047\n",
            "Epoch 21/100\n",
            "390/390 [==============================] - 9s 22ms/step - loss: 0.4658 - acc: 0.8401 - val_loss: 0.5947 - val_acc: 0.8028\n",
            "Epoch 22/100\n",
            "390/390 [==============================] - 9s 22ms/step - loss: 0.4588 - acc: 0.8434 - val_loss: 0.6037 - val_acc: 0.8081\n",
            "Epoch 23/100\n",
            "390/390 [==============================] - 9s 22ms/step - loss: 0.4453 - acc: 0.8487 - val_loss: 0.5804 - val_acc: 0.8086\n",
            "Epoch 24/100\n",
            "390/390 [==============================] - 9s 22ms/step - loss: 0.4383 - acc: 0.8507 - val_loss: 0.6062 - val_acc: 0.8045\n",
            "Epoch 25/100\n",
            "390/390 [==============================] - 9s 23ms/step - loss: 0.4243 - acc: 0.8566 - val_loss: 0.6106 - val_acc: 0.8055\n",
            "Epoch 26/100\n",
            "390/390 [==============================] - 9s 22ms/step - loss: 0.4330 - acc: 0.8519 - val_loss: 0.5922 - val_acc: 0.8080\n",
            "Epoch 27/100\n",
            "390/390 [==============================] - 9s 22ms/step - loss: 0.4205 - acc: 0.8577 - val_loss: 0.6139 - val_acc: 0.8012\n",
            "Epoch 28/100\n",
            "390/390 [==============================] - 9s 22ms/step - loss: 0.4137 - acc: 0.8575 - val_loss: 0.5806 - val_acc: 0.8173\n",
            "Epoch 29/100\n",
            "390/390 [==============================] - 9s 22ms/step - loss: 0.4011 - acc: 0.8636 - val_loss: 0.5820 - val_acc: 0.8171\n",
            "Epoch 30/100\n",
            "390/390 [==============================] - 9s 22ms/step - loss: 0.4064 - acc: 0.8620 - val_loss: 0.6017 - val_acc: 0.8090\n",
            "Epoch 31/100\n",
            "390/390 [==============================] - 9s 22ms/step - loss: 0.3962 - acc: 0.8654 - val_loss: 0.5893 - val_acc: 0.8151\n",
            "Epoch 32/100\n",
            "390/390 [==============================] - 9s 22ms/step - loss: 0.3903 - acc: 0.8675 - val_loss: 0.5975 - val_acc: 0.8149\n",
            "Epoch 33/100\n",
            "390/390 [==============================] - 9s 22ms/step - loss: 0.3942 - acc: 0.8657 - val_loss: 0.6110 - val_acc: 0.8105\n",
            "Epoch 34/100\n",
            "390/390 [==============================] - 9s 22ms/step - loss: 0.3746 - acc: 0.8718 - val_loss: 0.5934 - val_acc: 0.8103\n",
            "Epoch 35/100\n",
            "390/390 [==============================] - 9s 22ms/step - loss: 0.3855 - acc: 0.8700 - val_loss: 0.5786 - val_acc: 0.8158\n",
            "Epoch 36/100\n",
            "390/390 [==============================] - 9s 22ms/step - loss: 0.3752 - acc: 0.8741 - val_loss: 0.6099 - val_acc: 0.8121\n",
            "Epoch 37/100\n",
            "390/390 [==============================] - 9s 22ms/step - loss: 0.3656 - acc: 0.8765 - val_loss: 0.5786 - val_acc: 0.8148\n",
            "Epoch 38/100\n",
            "390/390 [==============================] - 9s 22ms/step - loss: 0.3598 - acc: 0.8785 - val_loss: 0.5895 - val_acc: 0.8174\n",
            "Epoch 39/100\n",
            "390/390 [==============================] - 9s 22ms/step - loss: 0.3639 - acc: 0.8787 - val_loss: 0.5891 - val_acc: 0.8188\n",
            "Epoch 40/100\n",
            "390/390 [==============================] - 9s 22ms/step - loss: 0.3557 - acc: 0.8797 - val_loss: 0.5984 - val_acc: 0.8121\n",
            "Epoch 41/100\n",
            "390/390 [==============================] - 9s 22ms/step - loss: 0.3507 - acc: 0.8813 - val_loss: 0.6134 - val_acc: 0.8170\n",
            "Epoch 42/100\n",
            "390/390 [==============================] - 9s 22ms/step - loss: 0.3503 - acc: 0.8807 - val_loss: 0.5905 - val_acc: 0.8165\n",
            "Epoch 43/100\n",
            "390/390 [==============================] - 9s 22ms/step - loss: 0.3550 - acc: 0.8807 - val_loss: 0.5958 - val_acc: 0.8193\n",
            "Epoch 44/100\n",
            "390/390 [==============================] - 9s 22ms/step - loss: 0.3390 - acc: 0.8857 - val_loss: 0.5934 - val_acc: 0.8211\n",
            "Epoch 45/100\n",
            "390/390 [==============================] - 9s 22ms/step - loss: 0.3382 - acc: 0.8884 - val_loss: 0.5957 - val_acc: 0.8228\n",
            "Epoch 46/100\n",
            "390/390 [==============================] - 9s 22ms/step - loss: 0.3317 - acc: 0.8892 - val_loss: 0.5997 - val_acc: 0.8197\n",
            "Epoch 47/100\n",
            "390/390 [==============================] - 9s 23ms/step - loss: 0.3361 - acc: 0.8893 - val_loss: 0.5928 - val_acc: 0.8215\n",
            "Epoch 48/100\n",
            "390/390 [==============================] - 9s 22ms/step - loss: 0.3374 - acc: 0.8877 - val_loss: 0.5810 - val_acc: 0.8230\n",
            "Epoch 49/100\n",
            "390/390 [==============================] - 9s 22ms/step - loss: 0.3372 - acc: 0.8891 - val_loss: 0.6117 - val_acc: 0.8203\n",
            "Epoch 50/100\n",
            "390/390 [==============================] - 9s 22ms/step - loss: 0.3118 - acc: 0.8948 - val_loss: 0.5935 - val_acc: 0.8225\n",
            "Epoch 51/100\n",
            "390/390 [==============================] - 9s 23ms/step - loss: 0.3258 - acc: 0.8903 - val_loss: 0.6057 - val_acc: 0.8188\n",
            "Epoch 52/100\n",
            "390/390 [==============================] - 9s 22ms/step - loss: 0.3238 - acc: 0.8906 - val_loss: 0.5925 - val_acc: 0.8253\n",
            "Epoch 53/100\n",
            "390/390 [==============================] - 9s 22ms/step - loss: 0.3183 - acc: 0.8945 - val_loss: 0.5924 - val_acc: 0.8285\n",
            "Epoch 54/100\n",
            "390/390 [==============================] - 9s 22ms/step - loss: 0.3218 - acc: 0.8917 - val_loss: 0.5813 - val_acc: 0.8224\n",
            "Epoch 55/100\n",
            "390/390 [==============================] - 9s 22ms/step - loss: 0.3205 - acc: 0.8941 - val_loss: 0.5742 - val_acc: 0.8259\n",
            "Epoch 56/100\n",
            "390/390 [==============================] - 9s 22ms/step - loss: 0.3215 - acc: 0.8939 - val_loss: 0.5873 - val_acc: 0.8278\n",
            "Epoch 57/100\n",
            "390/390 [==============================] - 9s 22ms/step - loss: 0.3102 - acc: 0.8971 - val_loss: 0.5776 - val_acc: 0.8229\n",
            "Epoch 58/100\n",
            "390/390 [==============================] - 9s 22ms/step - loss: 0.3125 - acc: 0.8965 - val_loss: 0.6177 - val_acc: 0.8192\n",
            "Epoch 59/100\n",
            "390/390 [==============================] - 9s 22ms/step - loss: 0.3116 - acc: 0.8960 - val_loss: 0.5811 - val_acc: 0.8236\n",
            "Epoch 60/100\n",
            "390/390 [==============================] - 9s 22ms/step - loss: 0.3056 - acc: 0.8982 - val_loss: 0.5721 - val_acc: 0.8247\n",
            "Epoch 61/100\n",
            "390/390 [==============================] - 9s 22ms/step - loss: 0.2952 - acc: 0.9023 - val_loss: 0.5970 - val_acc: 0.8277\n",
            "Epoch 62/100\n",
            "390/390 [==============================] - 9s 22ms/step - loss: 0.3052 - acc: 0.8995 - val_loss: 0.6160 - val_acc: 0.8157\n",
            "Epoch 63/100\n",
            "390/390 [==============================] - 9s 22ms/step - loss: 0.3020 - acc: 0.9005 - val_loss: 0.5927 - val_acc: 0.8217\n",
            "Epoch 64/100\n",
            "390/390 [==============================] - 9s 22ms/step - loss: 0.2906 - acc: 0.9036 - val_loss: 0.5962 - val_acc: 0.8278\n",
            "Epoch 65/100\n",
            "390/390 [==============================] - 9s 22ms/step - loss: 0.2986 - acc: 0.9033 - val_loss: 0.5904 - val_acc: 0.8258\n",
            "Epoch 66/100\n",
            "390/390 [==============================] - 9s 22ms/step - loss: 0.2898 - acc: 0.9064 - val_loss: 0.5950 - val_acc: 0.8266\n",
            "Epoch 67/100\n",
            "390/390 [==============================] - 9s 22ms/step - loss: 0.2930 - acc: 0.9050 - val_loss: 0.5985 - val_acc: 0.8303\n",
            "Epoch 68/100\n",
            "390/390 [==============================] - 9s 22ms/step - loss: 0.2990 - acc: 0.9023 - val_loss: 0.5879 - val_acc: 0.8349\n",
            "Epoch 69/100\n",
            "390/390 [==============================] - 9s 22ms/step - loss: 0.2942 - acc: 0.9044 - val_loss: 0.6053 - val_acc: 0.8295\n",
            "Epoch 70/100\n",
            "390/390 [==============================] - 9s 22ms/step - loss: 0.2829 - acc: 0.9084 - val_loss: 0.5855 - val_acc: 0.8261\n",
            "Epoch 71/100\n",
            "390/390 [==============================] - 9s 22ms/step - loss: 0.2849 - acc: 0.9059 - val_loss: 0.6018 - val_acc: 0.8260\n",
            "Epoch 72/100\n",
            "390/390 [==============================] - 9s 22ms/step - loss: 0.2844 - acc: 0.9064 - val_loss: 0.6103 - val_acc: 0.8261\n",
            "Epoch 73/100\n",
            "390/390 [==============================] - 9s 22ms/step - loss: 0.2804 - acc: 0.9082 - val_loss: 0.6342 - val_acc: 0.8162\n",
            "Epoch 74/100\n",
            "390/390 [==============================] - 9s 22ms/step - loss: 0.2879 - acc: 0.9058 - val_loss: 0.5857 - val_acc: 0.8306\n",
            "Epoch 75/100\n",
            "390/390 [==============================] - 9s 22ms/step - loss: 0.2765 - acc: 0.9110 - val_loss: 0.5982 - val_acc: 0.8284\n",
            "Epoch 76/100\n",
            "390/390 [==============================] - 9s 22ms/step - loss: 0.2789 - acc: 0.9103 - val_loss: 0.5992 - val_acc: 0.8226\n",
            "Epoch 77/100\n",
            "390/390 [==============================] - 9s 22ms/step - loss: 0.2848 - acc: 0.9066 - val_loss: 0.6087 - val_acc: 0.8277\n",
            "Epoch 78/100\n",
            "390/390 [==============================] - 9s 22ms/step - loss: 0.2851 - acc: 0.9082 - val_loss: 0.6122 - val_acc: 0.8265\n",
            "Epoch 79/100\n",
            "390/390 [==============================] - 9s 22ms/step - loss: 0.2835 - acc: 0.9101 - val_loss: 0.6083 - val_acc: 0.8317\n",
            "Epoch 80/100\n",
            "390/390 [==============================] - 9s 22ms/step - loss: 0.2801 - acc: 0.9101 - val_loss: 0.6289 - val_acc: 0.8235\n",
            "Epoch 81/100\n",
            "390/390 [==============================] - 9s 22ms/step - loss: 0.2789 - acc: 0.9092 - val_loss: 0.6132 - val_acc: 0.8291\n",
            "Epoch 82/100\n",
            "390/390 [==============================] - 9s 22ms/step - loss: 0.2844 - acc: 0.9089 - val_loss: 0.6165 - val_acc: 0.8220\n",
            "Epoch 83/100\n",
            "390/390 [==============================] - 9s 22ms/step - loss: 0.2846 - acc: 0.9082 - val_loss: 0.6112 - val_acc: 0.8281\n",
            "Epoch 84/100\n",
            "390/390 [==============================] - 9s 22ms/step - loss: 0.2757 - acc: 0.9110 - val_loss: 0.6341 - val_acc: 0.8234\n",
            "Epoch 85/100\n",
            "390/390 [==============================] - 9s 22ms/step - loss: 0.2751 - acc: 0.9107 - val_loss: 0.6233 - val_acc: 0.8273\n",
            "Epoch 86/100\n",
            "390/390 [==============================] - 9s 22ms/step - loss: 0.2700 - acc: 0.9136 - val_loss: 0.6295 - val_acc: 0.8275\n",
            "Epoch 87/100\n",
            "390/390 [==============================] - 9s 22ms/step - loss: 0.2623 - acc: 0.9161 - val_loss: 0.6344 - val_acc: 0.8243\n",
            "Epoch 88/100\n",
            "390/390 [==============================] - 9s 22ms/step - loss: 0.2793 - acc: 0.9120 - val_loss: 0.6063 - val_acc: 0.8277\n",
            "Epoch 89/100\n",
            "390/390 [==============================] - 9s 22ms/step - loss: 0.2676 - acc: 0.9155 - val_loss: 0.6440 - val_acc: 0.8301\n",
            "Epoch 90/100\n",
            "390/390 [==============================] - 9s 22ms/step - loss: 0.2726 - acc: 0.9140 - val_loss: 0.6017 - val_acc: 0.8272\n",
            "Epoch 91/100\n",
            "390/390 [==============================] - 9s 22ms/step - loss: 0.2623 - acc: 0.9153 - val_loss: 0.6150 - val_acc: 0.8269\n",
            "Epoch 92/100\n",
            "390/390 [==============================] - 9s 22ms/step - loss: 0.2561 - acc: 0.9186 - val_loss: 0.6369 - val_acc: 0.8305\n",
            "Epoch 93/100\n",
            "390/390 [==============================] - 9s 22ms/step - loss: 0.2638 - acc: 0.9180 - val_loss: 0.6568 - val_acc: 0.8192\n",
            "Epoch 94/100\n",
            "390/390 [==============================] - 9s 22ms/step - loss: 0.2666 - acc: 0.9152 - val_loss: 0.6183 - val_acc: 0.8262\n",
            "Epoch 95/100\n",
            "390/390 [==============================] - 9s 22ms/step - loss: 0.2660 - acc: 0.9172 - val_loss: 0.6494 - val_acc: 0.8243\n",
            "Epoch 96/100\n",
            "390/390 [==============================] - 9s 22ms/step - loss: 0.2590 - acc: 0.9193 - val_loss: 0.6400 - val_acc: 0.8212\n",
            "Epoch 97/100\n",
            "390/390 [==============================] - 9s 22ms/step - loss: 0.2609 - acc: 0.9181 - val_loss: 0.6412 - val_acc: 0.8275\n",
            "Epoch 98/100\n",
            "390/390 [==============================] - 9s 22ms/step - loss: 0.2697 - acc: 0.9152 - val_loss: 0.6252 - val_acc: 0.8287\n",
            "Epoch 99/100\n",
            "390/390 [==============================] - 9s 22ms/step - loss: 0.2689 - acc: 0.9148 - val_loss: 0.6127 - val_acc: 0.8300\n",
            "Epoch 100/100\n",
            "390/390 [==============================] - 9s 22ms/step - loss: 0.2576 - acc: 0.9202 - val_loss: 0.6099 - val_acc: 0.8295\n",
            "Model took 874.75 seconds to train\n"
          ],
          "name": "stdout"
        },
        {
          "output_type": "display_data",
          "data": {
            "image/png": "[encoded data removed]",
            "text/plain": [
              "<Figure size 1080x360 with 2 Axes>"
            ]
          },
          "metadata": {
            "tags": []
          }
        },
        {
          "output_type": "stream",
          "text": [
            "Accuracy on test data is: 82.95\n"
          ],
          "name": "stdout"
        }
      ]
    },
    {
      "cell_type": "markdown",
      "metadata": {
        "id": "bM_Wb6n74YBM",
        "colab_type": "text"
      },
      "source": [
        "# New Model Architecture"
      ]
    },
    {
      "cell_type": "markdown",
      "metadata": {
        "id": "BGJWigMkMCrw",
        "colab_type": "text"
      },
      "source": [
        "### Guidelines for Model Building\n",
        "1. Design the network based on Receptive Field. For this model, we go beyond the receptive field of 32 till 44 in order to learn the background as well\n",
        "2. We sequentially increase the number of channels in each layer, followed by a 1x1 convolution to decrease the number of channels and feed this to MaxPooling\n",
        "3. We use Dropout at two locations with a value of 0.25 to regularize the network\n",
        "4. We do not use dense layers, instead we average the value of the matrix using GlobalAveragePooling2D. We pass this final layer to softmax activation.\n",
        "5. We use BatchNormalization after every Convolution layer to normalize the features\n",
        "6. We use border_mode='same' to add padding to our image. This ensures that the size of the matrix remains the same after every Convolution. The size is reduced only in the MaxPooling layer."
      ]
    },
    {
      "cell_type": "code",
      "metadata": {
        "id": "caX3DEQj1aDu",
        "colab_type": "code",
        "colab": {
          "base_uri": "https://localhost:8080/",
          "height": 1615
        },
        "outputId": "f502a807-838a-412f-db7d-f1752c185672"
      },
      "source": [
        "# Define the new model with proper guidelines\n",
        "\n",
        "model = Sequential()\n",
        "\n",
        "model.add(Convolution2D(32, 3, 3, border_mode='same', input_shape=(32, 32, 3))) # RF = 3 ; output_size = 32\n",
        "model.add(BatchNormalization())\n",
        "model.add(Activation('relu'))\n",
        "\n",
        "model.add(Convolution2D(62, 3, 3, border_mode='same')) # 5\n",
        "model.add(BatchNormalization())\n",
        "model.add(Activation('relu'))\n",
        "\n",
        "model.add(Convolution2D(128, 3, 3, border_mode='same')) # 7\n",
        "model.add(BatchNormalization())\n",
        "model.add(Activation('relu'))\n",
        "\n",
        "model.add(Dropout(0.25))\n",
        "\n",
        "model.add(Convolution2D(32, 1, 1)) # 7\n",
        "model.add(BatchNormalization())\n",
        "model.add(Activation('relu'))\n",
        "\n",
        "model.add(MaxPooling2D(pool_size=(2, 2))) # 14 ; 16\n",
        "\n",
        "model.add(Convolution2D(32, 3, 3, border_mode='same')) # RF = 16 ; output_size = 16\n",
        "model.add(BatchNormalization())\n",
        "model.add(Activation('relu'))\n",
        "\n",
        "model.add(Convolution2D(64, 3, 3, border_mode='same')) # 18\n",
        "model.add(BatchNormalization())\n",
        "model.add(Activation('relu'))\n",
        "\n",
        "model.add(Convolution2D(128, 3, 3, border_mode='same')) # 20\n",
        "model.add(BatchNormalization())\n",
        "model.add(Activation('relu'))\n",
        "\n",
        "model.add(Dropout(0.25))\n",
        "\n",
        "model.add(Convolution2D(32, 1, 1)) # 20\n",
        "model.add(BatchNormalization())\n",
        "model.add(Activation('relu'))\n",
        "\n",
        "model.add(MaxPooling2D(pool_size=(2, 2))) # 40 ; 8\n",
        "\n",
        "model.add(Convolution2D(64, 3, 3, border_mode='same')) # 42\n",
        "model.add(BatchNormalization())\n",
        "model.add(Activation('relu'))\n",
        "\n",
        "model.add(Convolution2D(128, 3, 3, border_mode='same')) # 44\n",
        "\n",
        "model.add(Convolution2D(10, 1, 1)) # 44\n",
        "\n",
        "model.add(GlobalAveragePooling2D())\n",
        "model.add(Activation('softmax'))\n",
        "\n",
        "model.summary()"
      ],
      "execution_count": 35,
      "outputs": [
        {
          "output_type": "stream",
          "text": [
            "/usr/local/lib/python3.6/dist-packages/ipykernel_launcher.py:4: UserWarning: Update your `Conv2D` call to the Keras 2 API: `Conv2D(32, (3, 3), input_shape=(32, 32, 3..., padding=\"same\")`\n",
            "  after removing the cwd from sys.path.\n",
            "/usr/local/lib/python3.6/dist-packages/ipykernel_launcher.py:8: UserWarning: Update your `Conv2D` call to the Keras 2 API: `Conv2D(62, (3, 3), padding=\"same\")`\n",
            "  \n",
            "/usr/local/lib/python3.6/dist-packages/ipykernel_launcher.py:12: UserWarning: Update your `Conv2D` call to the Keras 2 API: `Conv2D(128, (3, 3), padding=\"same\")`\n",
            "  if sys.path[0] == '':\n",
            "/usr/local/lib/python3.6/dist-packages/ipykernel_launcher.py:18: UserWarning: Update your `Conv2D` call to the Keras 2 API: `Conv2D(32, (1, 1))`\n",
            "/usr/local/lib/python3.6/dist-packages/ipykernel_launcher.py:24: UserWarning: Update your `Conv2D` call to the Keras 2 API: `Conv2D(32, (3, 3), padding=\"same\")`\n",
            "/usr/local/lib/python3.6/dist-packages/ipykernel_launcher.py:28: UserWarning: Update your `Conv2D` call to the Keras 2 API: `Conv2D(64, (3, 3), padding=\"same\")`\n",
            "/usr/local/lib/python3.6/dist-packages/ipykernel_launcher.py:32: UserWarning: Update your `Conv2D` call to the Keras 2 API: `Conv2D(128, (3, 3), padding=\"same\")`\n",
            "/usr/local/lib/python3.6/dist-packages/ipykernel_launcher.py:38: UserWarning: Update your `Conv2D` call to the Keras 2 API: `Conv2D(32, (1, 1))`\n"
          ],
          "name": "stderr"
        },
        {
          "output_type": "stream",
          "text": [
            "_________________________________________________________________\n",
            "Layer (type)                 Output Shape              Param #   \n",
            "=================================================================\n",
            "conv2d_46 (Conv2D)           (None, 32, 32, 32)        896       \n",
            "_________________________________________________________________\n",
            "batch_normalization_39 (Batc (None, 32, 32, 32)        128       \n",
            "_________________________________________________________________\n",
            "activation_75 (Activation)   (None, 32, 32, 32)        0         \n",
            "_________________________________________________________________\n",
            "conv2d_47 (Conv2D)           (None, 32, 32, 62)        17918     \n",
            "_________________________________________________________________\n",
            "batch_normalization_40 (Batc (None, 32, 32, 62)        248       \n",
            "_________________________________________________________________\n",
            "activation_76 (Activation)   (None, 32, 32, 62)        0         \n",
            "_________________________________________________________________\n",
            "conv2d_48 (Conv2D)           (None, 32, 32, 128)       71552     \n",
            "_________________________________________________________________\n",
            "batch_normalization_41 (Batc (None, 32, 32, 128)       512       \n",
            "_________________________________________________________________\n",
            "activation_77 (Activation)   (None, 32, 32, 128)       0         \n",
            "_________________________________________________________________\n",
            "dropout_3 (Dropout)          (None, 32, 32, 128)       0         \n",
            "_________________________________________________________________\n",
            "conv2d_49 (Conv2D)           (None, 32, 32, 32)        4128      \n",
            "_________________________________________________________________\n",
            "batch_normalization_42 (Batc (None, 32, 32, 32)        128       \n",
            "_________________________________________________________________\n",
            "activation_78 (Activation)   (None, 32, 32, 32)        0         \n",
            "_________________________________________________________________\n",
            "max_pooling2d_15 (MaxPooling (None, 16, 16, 32)        0         \n",
            "_________________________________________________________________\n",
            "conv2d_50 (Conv2D)           (None, 16, 16, 32)        9248      \n",
            "_________________________________________________________________\n",
            "batch_normalization_43 (Batc (None, 16, 16, 32)        128       \n",
            "_________________________________________________________________\n",
            "activation_79 (Activation)   (None, 16, 16, 32)        0         \n",
            "_________________________________________________________________\n",
            "conv2d_51 (Conv2D)           (None, 16, 16, 64)        18496     \n",
            "_________________________________________________________________\n",
            "batch_normalization_44 (Batc (None, 16, 16, 64)        256       \n",
            "_________________________________________________________________\n",
            "activation_80 (Activation)   (None, 16, 16, 64)        0         \n",
            "_________________________________________________________________\n",
            "conv2d_52 (Conv2D)           (None, 16, 16, 128)       73856     \n",
            "_________________________________________________________________\n",
            "batch_normalization_45 (Batc (None, 16, 16, 128)       512       \n",
            "_________________________________________________________________\n",
            "activation_81 (Activation)   (None, 16, 16, 128)       0         \n",
            "_________________________________________________________________\n",
            "dropout_4 (Dropout)          (None, 16, 16, 128)       0         \n",
            "_________________________________________________________________\n",
            "conv2d_53 (Conv2D)           (None, 16, 16, 32)        4128      \n",
            "_________________________________________________________________\n",
            "batch_normalization_46 (Batc (None, 16, 16, 32)        128       \n",
            "_________________________________________________________________\n",
            "activation_82 (Activation)   (None, 16, 16, 32)        0         \n",
            "_________________________________________________________________\n",
            "max_pooling2d_16 (MaxPooling (None, 8, 8, 32)          0         \n",
            "_________________________________________________________________\n",
            "conv2d_54 (Conv2D)           (None, 8, 8, 64)          18496     \n",
            "_________________________________________________________________\n",
            "batch_normalization_47 (Batc (None, 8, 8, 64)          256       \n",
            "_________________________________________________________________\n",
            "activation_83 (Activation)   (None, 8, 8, 64)          0         \n",
            "_________________________________________________________________\n",
            "conv2d_55 (Conv2D)           (None, 8, 8, 128)         73856     \n",
            "_________________________________________________________________\n",
            "conv2d_56 (Conv2D)           (None, 8, 8, 10)          1290      \n",
            "_________________________________________________________________\n",
            "global_average_pooling2d_7 ( (None, 10)                0         \n",
            "_________________________________________________________________\n",
            "activation_84 (Activation)   (None, 10)                0         \n",
            "=================================================================\n",
            "Total params: 296,160\n",
            "Trainable params: 295,012\n",
            "Non-trainable params: 1,148\n",
            "_________________________________________________________________\n"
          ],
          "name": "stdout"
        },
        {
          "output_type": "stream",
          "text": [
            "/usr/local/lib/python3.6/dist-packages/ipykernel_launcher.py:44: UserWarning: Update your `Conv2D` call to the Keras 2 API: `Conv2D(64, (3, 3), padding=\"same\")`\n",
            "/usr/local/lib/python3.6/dist-packages/ipykernel_launcher.py:48: UserWarning: Update your `Conv2D` call to the Keras 2 API: `Conv2D(128, (3, 3), padding=\"same\")`\n",
            "/usr/local/lib/python3.6/dist-packages/ipykernel_launcher.py:50: UserWarning: Update your `Conv2D` call to the Keras 2 API: `Conv2D(10, (1, 1))`\n"
          ],
          "name": "stderr"
        }
      ]
    },
    {
      "cell_type": "markdown",
      "metadata": {
        "id": "cQc5bryXNHQD",
        "colab_type": "text"
      },
      "source": [
        "The default learning rate of 0.001 in Adam is very high for the network as the validation accuracy kept fluctuating. We instead start with a value of 0.003 and reduce it with each epoch using LRScheduler"
      ]
    },
    {
      "cell_type": "code",
      "metadata": {
        "id": "3U_xC30yA5rt",
        "colab_type": "code",
        "colab": {}
      },
      "source": [
        "def scheduler(epoch, lr):\n",
        "  return round(0.003 * 1/(1 + 0.319 * epoch), 10)\n",
        "\n",
        "model.compile(loss='categorical_crossentropy', optimizer=Adam(lr=0.003), metrics=['accuracy'])"
      ],
      "execution_count": 0,
      "outputs": []
    },
    {
      "cell_type": "markdown",
      "metadata": {
        "id": "W4hUcfBCKrf9",
        "colab_type": "text"
      },
      "source": [
        "# New Model Training"
      ]
    },
    {
      "cell_type": "code",
      "metadata": {
        "id": "mgaElM3r3B4w",
        "colab_type": "code",
        "colab": {
          "base_uri": "https://localhost:8080/",
          "height": 2555
        },
        "outputId": "10e5491f-9096-4e35-a8cc-622d2bc740a3"
      },
      "source": [
        "from keras.callbacks import LearningRateScheduler\n",
        "\n",
        "datagen = ImageDataGenerator(zoom_range=0.0, \n",
        "                             horizontal_flip=False)\n",
        "\n",
        "\n",
        "# train the model\n",
        "start = time.time()\n",
        "# Train the model\n",
        "model_info = model.fit_generator(datagen.flow(train_features, train_labels, batch_size = 128),\n",
        "                                 samples_per_epoch = train_features.shape[0], nb_epoch = 30, \n",
        "                                 validation_data = (test_features, test_labels), verbose=1, callbacks=[LearningRateScheduler(scheduler, verbose=1)])\n",
        "end = time.time()\n",
        "print (\"Model took %0.2f seconds to train\"%(end - start))\n",
        "# plot model history\n",
        "plot_model_history(model_info)\n",
        "# compute test accuracy\n",
        "print (\"Accuracy on test data is: %0.2f\"%accuracy(test_features, test_labels, model))"
      ],
      "execution_count": 38,
      "outputs": [
        {
          "output_type": "stream",
          "text": [
            "/usr/local/lib/python3.6/dist-packages/ipykernel_launcher.py:12: UserWarning: The semantics of the Keras 2 argument `steps_per_epoch` is not the same as the Keras 1 argument `samples_per_epoch`. `steps_per_epoch` is the number of batches to draw from the generator at each epoch. Basically steps_per_epoch = samples_per_epoch/batch_size. Similarly `nb_val_samples`->`validation_steps` and `val_samples`->`steps` arguments have changed. Update your method calls accordingly.\n",
            "  if sys.path[0] == '':\n",
            "/usr/local/lib/python3.6/dist-packages/ipykernel_launcher.py:12: UserWarning: Update your `fit_generator` call to the Keras 2 API: `fit_generator(<keras_pre..., validation_data=(array([[[..., verbose=1, callbacks=[<keras.ca..., steps_per_epoch=390, epochs=30)`\n",
            "  if sys.path[0] == '':\n"
          ],
          "name": "stderr"
        },
        {
          "output_type": "stream",
          "text": [
            "Epoch 1/30\n",
            "\n",
            "Epoch 00001: LearningRateScheduler setting learning rate to 0.003.\n",
            "390/390 [==============================] - 28s 72ms/step - loss: 1.5419 - acc: 0.4237 - val_loss: 2.5127 - val_acc: 0.2948\n",
            "Epoch 2/30\n",
            "\n",
            "Epoch 00002: LearningRateScheduler setting learning rate to 0.0022744503.\n",
            "390/390 [==============================] - 24s 62ms/step - loss: 1.0679 - acc: 0.6121 - val_loss: 1.2683 - val_acc: 0.5650\n",
            "Epoch 3/30\n",
            "\n",
            "Epoch 00003: LearningRateScheduler setting learning rate to 0.0018315018.\n",
            "390/390 [==============================] - 24s 62ms/step - loss: 0.8645 - acc: 0.6915 - val_loss: 1.1071 - val_acc: 0.6377\n",
            "Epoch 4/30\n",
            "\n",
            "Epoch 00004: LearningRateScheduler setting learning rate to 0.0015329586.\n",
            "390/390 [==============================] - 24s 62ms/step - loss: 0.7360 - acc: 0.7393 - val_loss: 0.8727 - val_acc: 0.6888\n",
            "Epoch 5/30\n",
            "\n",
            "Epoch 00005: LearningRateScheduler setting learning rate to 0.0013181019.\n",
            "390/390 [==============================] - 24s 62ms/step - loss: 0.6504 - acc: 0.7693 - val_loss: 0.8764 - val_acc: 0.7067\n",
            "Epoch 6/30\n",
            "\n",
            "Epoch 00006: LearningRateScheduler setting learning rate to 0.0011560694.\n",
            "390/390 [==============================] - 24s 62ms/step - loss: 0.5861 - acc: 0.7941 - val_loss: 0.8586 - val_acc: 0.7043\n",
            "Epoch 7/30\n",
            "\n",
            "Epoch 00007: LearningRateScheduler setting learning rate to 0.0010295127.\n",
            "390/390 [==============================] - 24s 62ms/step - loss: 0.5379 - acc: 0.8105 - val_loss: 0.7179 - val_acc: 0.7608\n",
            "Epoch 8/30\n",
            "\n",
            "Epoch 00008: LearningRateScheduler setting learning rate to 0.0009279307.\n",
            "390/390 [==============================] - 24s 62ms/step - loss: 0.4976 - acc: 0.8256 - val_loss: 0.8923 - val_acc: 0.7113\n",
            "Epoch 9/30\n",
            "\n",
            "Epoch 00009: LearningRateScheduler setting learning rate to 0.0008445946.\n",
            "390/390 [==============================] - 24s 62ms/step - loss: 0.4611 - acc: 0.8380 - val_loss: 0.6150 - val_acc: 0.7932\n",
            "Epoch 10/30\n",
            "\n",
            "Epoch 00010: LearningRateScheduler setting learning rate to 0.0007749935.\n",
            "390/390 [==============================] - 24s 62ms/step - loss: 0.4335 - acc: 0.8473 - val_loss: 0.7638 - val_acc: 0.7570\n",
            "Epoch 11/30\n",
            "\n",
            "Epoch 00011: LearningRateScheduler setting learning rate to 0.0007159905.\n",
            "390/390 [==============================] - 24s 62ms/step - loss: 0.4055 - acc: 0.8584 - val_loss: 0.7512 - val_acc: 0.7565\n",
            "Epoch 12/30\n",
            "\n",
            "Epoch 00012: LearningRateScheduler setting learning rate to 0.000665336.\n",
            "390/390 [==============================] - 24s 62ms/step - loss: 0.3864 - acc: 0.8634 - val_loss: 0.6875 - val_acc: 0.7812\n",
            "Epoch 13/30\n",
            "\n",
            "Epoch 00013: LearningRateScheduler setting learning rate to 0.0006213753.\n",
            "390/390 [==============================] - 24s 62ms/step - loss: 0.3670 - acc: 0.8703 - val_loss: 0.5909 - val_acc: 0.8074\n",
            "Epoch 14/30\n",
            "\n",
            "Epoch 00014: LearningRateScheduler setting learning rate to 0.0005828638.\n",
            "390/390 [==============================] - 24s 62ms/step - loss: 0.3474 - acc: 0.8775 - val_loss: 0.6542 - val_acc: 0.7908\n",
            "Epoch 15/30\n",
            "\n",
            "Epoch 00015: LearningRateScheduler setting learning rate to 0.0005488474.\n",
            "390/390 [==============================] - 24s 62ms/step - loss: 0.3289 - acc: 0.8828 - val_loss: 0.6157 - val_acc: 0.8036\n",
            "Epoch 16/30\n",
            "\n",
            "Epoch 00016: LearningRateScheduler setting learning rate to 0.0005185825.\n",
            "390/390 [==============================] - 24s 62ms/step - loss: 0.3126 - acc: 0.8903 - val_loss: 0.6474 - val_acc: 0.7971\n",
            "Epoch 17/30\n",
            "\n",
            "Epoch 00017: LearningRateScheduler setting learning rate to 0.000491481.\n",
            "390/390 [==============================] - 24s 62ms/step - loss: 0.2986 - acc: 0.8941 - val_loss: 0.6842 - val_acc: 0.7941\n",
            "Epoch 18/30\n",
            "\n",
            "Epoch 00018: LearningRateScheduler setting learning rate to 0.0004670715.\n",
            "390/390 [==============================] - 24s 62ms/step - loss: 0.2920 - acc: 0.8963 - val_loss: 0.6106 - val_acc: 0.8100\n",
            "Epoch 19/30\n",
            "\n",
            "Epoch 00019: LearningRateScheduler setting learning rate to 0.0004449718.\n",
            "390/390 [==============================] - 24s 63ms/step - loss: 0.2728 - acc: 0.9024 - val_loss: 0.6607 - val_acc: 0.8007\n",
            "Epoch 20/30\n",
            "\n",
            "Epoch 00020: LearningRateScheduler setting learning rate to 0.000424869.\n",
            "390/390 [==============================] - 24s 62ms/step - loss: 0.2614 - acc: 0.9082 - val_loss: 0.7974 - val_acc: 0.7795\n",
            "Epoch 21/30\n",
            "\n",
            "Epoch 00021: LearningRateScheduler setting learning rate to 0.0004065041.\n",
            "390/390 [==============================] - 24s 62ms/step - loss: 0.2549 - acc: 0.9090 - val_loss: 0.6764 - val_acc: 0.8016\n",
            "Epoch 22/30\n",
            "\n",
            "Epoch 00022: LearningRateScheduler setting learning rate to 0.000389661.\n",
            "390/390 [==============================] - 24s 62ms/step - loss: 0.2473 - acc: 0.9129 - val_loss: 0.7072 - val_acc: 0.8004\n",
            "Epoch 23/30\n",
            "\n",
            "Epoch 00023: LearningRateScheduler setting learning rate to 0.0003741581.\n",
            "390/390 [==============================] - 24s 62ms/step - loss: 0.2331 - acc: 0.9167 - val_loss: 0.7284 - val_acc: 0.7932\n",
            "Epoch 24/30\n",
            "\n",
            "Epoch 00024: LearningRateScheduler setting learning rate to 0.0003598417.\n",
            "390/390 [==============================] - 24s 62ms/step - loss: 0.2266 - acc: 0.9197 - val_loss: 0.7404 - val_acc: 0.7963\n",
            "Epoch 25/30\n",
            "\n",
            "Epoch 00025: LearningRateScheduler setting learning rate to 0.0003465804.\n",
            "390/390 [==============================] - 24s 62ms/step - loss: 0.2173 - acc: 0.9210 - val_loss: 0.6725 - val_acc: 0.8134\n",
            "Epoch 26/30\n",
            "\n",
            "Epoch 00026: LearningRateScheduler setting learning rate to 0.0003342618.\n",
            "390/390 [==============================] - 24s 62ms/step - loss: 0.2154 - acc: 0.9233 - val_loss: 0.7335 - val_acc: 0.7973\n",
            "Epoch 27/30\n",
            "\n",
            "Epoch 00027: LearningRateScheduler setting learning rate to 0.0003227889.\n",
            "390/390 [==============================] - 24s 62ms/step - loss: 0.2062 - acc: 0.9271 - val_loss: 0.8034 - val_acc: 0.7916\n",
            "Epoch 28/30\n",
            "\n",
            "Epoch 00028: LearningRateScheduler setting learning rate to 0.0003120774.\n",
            "390/390 [==============================] - 24s 62ms/step - loss: 0.1968 - acc: 0.9288 - val_loss: 0.7345 - val_acc: 0.7998\n",
            "Epoch 29/30\n",
            "\n",
            "Epoch 00029: LearningRateScheduler setting learning rate to 0.000302054.\n",
            "390/390 [==============================] - 24s 62ms/step - loss: 0.1926 - acc: 0.9291 - val_loss: 0.8024 - val_acc: 0.7843\n",
            "Epoch 30/30\n",
            "\n",
            "Epoch 00030: LearningRateScheduler setting learning rate to 0.0002926544.\n",
            "390/390 [==============================] - 24s 62ms/step - loss: 0.1847 - acc: 0.9348 - val_loss: 0.6826 - val_acc: 0.8089\n",
            "Model took 729.81 seconds to train\n"
          ],
          "name": "stdout"
        },
        {
          "output_type": "display_data",
          "data": {
            "image/png": "[encoded data removed]",
            "text/plain": [
              "<Figure size 1080x360 with 2 Axes>"
            ]
          },
          "metadata": {
            "tags": []
          }
        },
        {
          "output_type": "stream",
          "text": [
            "Accuracy on test data is: 80.89\n"
          ],
          "name": "stdout"
        }
      ]
    },
    {
      "cell_type": "markdown",
      "metadata": {
        "id": "QoDsHBJCNbBW",
        "colab_type": "text"
      },
      "source": [
        "1. We get a train accuracy of 93.48% in just 30 epochs, which is greater than the earlier 92.02%. \n",
        "2. We were able to reduce the total number of paramters from 1,172,410 to 296,160 with this network.\n",
        "3. The training time is reduced from 874.75 sec to 729.81 sec"
      ]
    }
  ]
}