{
  "nbformat": 4,
  "nbformat_minor": 0,
  "metadata": {
    "colab": {
      "name": "Assignment_4_EVA_First.ipynb",
      "version": "0.3.2",
      "provenance": [],
      "collapsed_sections": [],
      "include_colab_link": true
    },
    "kernelspec": {
      "name": "python3",
      "display_name": "Python 3"
    },
    "accelerator": "GPU"
  },
  "cells": [
    {
      "cell_type": "markdown",
      "metadata": {
        "id": "view-in-github",
        "colab_type": "text"
      },
      "source": [
        "<a href=\"https://colab.research.google.com/github/nrajmalwar/Project/blob/master/Session%204/First.ipynb\" target=\"_parent\"><img src=\"https://colab.research.google.com/assets/colab-badge.svg\" alt=\"Open In Colab\"/></a>"
      ]
    },
    {
      "cell_type": "markdown",
      "metadata": {
        "id": "KLaS9qHarzVC",
        "colab_type": "text"
      },
      "source": [
        "Nishad Rajmalwar, Batch F6, nrajmalwar@gmail.com"
      ]
    },
    {
      "cell_type": "markdown",
      "metadata": {
        "id": "cunfvxU8MbD8",
        "colab_type": "text"
      },
      "source": [
        "###Planning and Expectations###\n",
        "\n",
        "1.   We build a vanilla network using only Convolution and MaxPooling layers. Our aim is to figure a model architecture which reaches 99% validation accuracy.\n",
        "2.   We can understand the receptive field at each layer and number of Convolution and MaxPooling layers that we can add at the most.\n",
        "3.   We can figure out how to increase/decrese the number of channels\n",
        "4.   We do not think about the number of parameters as of now."
      ]
    },
    {
      "cell_type": "markdown",
      "metadata": {
        "id": "aNyZv-Ec52ot",
        "colab_type": "text"
      },
      "source": [
        "# **Import Libraries and modules**"
      ]
    },
    {
      "cell_type": "markdown",
      "metadata": {
        "id": "x2yrkAO1r4n5",
        "colab_type": "text"
      },
      "source": [
        "Install and import keras library"
      ]
    },
    {
      "cell_type": "code",
      "metadata": {
        "id": "3m3w1Cw49Zkt",
        "colab_type": "code",
        "outputId": "bf8cbec0-427b-4c6f-fcf8-0b067bbe7a22",
        "colab": {
          "base_uri": "https://localhost:8080/",
          "height": 35
        }
      },
      "source": [
        "# https://keras.io/\n",
        "!pip install -q keras\n",
        "import keras"
      ],
      "execution_count": 0,
      "outputs": [
        {
          "output_type": "stream",
          "text": [
            "Using TensorFlow backend.\n"
          ],
          "name": "stderr"
        }
      ]
    },
    {
      "cell_type": "markdown",
      "metadata": {
        "id": "NZixXfX3r7PO",
        "colab_type": "text"
      },
      "source": [
        "Important important APIs, functions and libraries"
      ]
    },
    {
      "cell_type": "code",
      "metadata": {
        "id": "Eso6UHE080D4",
        "colab_type": "code",
        "colab": {}
      },
      "source": [
        "import numpy as np\n",
        "\n",
        "from keras.models import Sequential\n",
        "from keras.layers import Dense, Dropout, Activation, Flatten, Add\n",
        "from keras.layers import Convolution2D, MaxPooling2D, GlobalAveragePooling2D, SeparableConv2D\n",
        "from keras.utils import np_utils\n",
        "from keras.preprocessing.image import ImageDataGenerator\n",
        "from keras.datasets import mnist\n",
        "from keras.models import load_model\n",
        "from keras.callbacks import ModelCheckpoint"
      ],
      "execution_count": 0,
      "outputs": []
    },
    {
      "cell_type": "markdown",
      "metadata": {
        "id": "zByEi95J86RD",
        "colab_type": "text"
      },
      "source": [
        "### Load pre-shuffled MNIST data into train and test sets"
      ]
    },
    {
      "cell_type": "markdown",
      "metadata": {
        "id": "kTflyJG_sBDu",
        "colab_type": "text"
      },
      "source": [
        "Load and split the data into training and test set"
      ]
    },
    {
      "cell_type": "code",
      "metadata": {
        "id": "7eRM0QWN83PV",
        "colab_type": "code",
        "outputId": "da961cf2-e994-4c11-e04c-da4acc82629d",
        "colab": {
          "base_uri": "https://localhost:8080/",
          "height": 52
        }
      },
      "source": [
        "(X_train, y_train), (X_test, y_test) = mnist.load_data()"
      ],
      "execution_count": 0,
      "outputs": [
        {
          "output_type": "stream",
          "text": [
            "Downloading data from https://s3.amazonaws.com/img-datasets/mnist.npz\n",
            "11493376/11490434 [==============================] - 0s 0us/step\n"
          ],
          "name": "stdout"
        }
      ]
    },
    {
      "cell_type": "markdown",
      "metadata": {
        "id": "1Hvs3DaXsGzv",
        "colab_type": "text"
      },
      "source": [
        "Print the shape of X_train (examples of the dataset) and plot the first image"
      ]
    },
    {
      "cell_type": "code",
      "metadata": {
        "id": "4a4Be72j8-ZC",
        "colab_type": "code",
        "outputId": "04a2e6e1-6a71-477c-81c3-af99599881a5",
        "colab": {
          "base_uri": "https://localhost:8080/",
          "height": 304
        }
      },
      "source": [
        "print (X_train.shape)\n",
        "from matplotlib import pyplot as plt\n",
        "%matplotlib inline\n",
        "plt.imshow(X_train[108])"
      ],
      "execution_count": 0,
      "outputs": [
        {
          "output_type": "stream",
          "text": [
            "(60000, 28, 28)\n"
          ],
          "name": "stdout"
        },
        {
          "output_type": "execute_result",
          "data": {
            "text/plain": [
              "<matplotlib.image.AxesImage at 0x7f4e10d4c128>"
            ]
          },
          "metadata": {
            "tags": []
          },
          "execution_count": 7
        },
        {
          "output_type": "display_data",
          "data": {
            "image/png": "[encoded data removed]",
            "text/plain": [
              "<Figure size 432x288 with 1 Axes>"
            ]
          },
          "metadata": {
            "tags": []
          }
        }
      ]
    },
    {
      "cell_type": "markdown",
      "metadata": {
        "id": "NfF0dCyfsSZ4",
        "colab_type": "text"
      },
      "source": [
        "Reshape the X_train and X_test to (m,  28, 28, 1) tensor"
      ]
    },
    {
      "cell_type": "code",
      "metadata": {
        "id": "dkmprriw9AnZ",
        "colab_type": "code",
        "colab": {}
      },
      "source": [
        "X_train = X_train.reshape(X_train.shape[0], 28, 28,1)\n",
        "X_test = X_test.reshape(X_test.shape[0], 28, 28,1)"
      ],
      "execution_count": 0,
      "outputs": []
    },
    {
      "cell_type": "markdown",
      "metadata": {
        "id": "gZBh78EBsZdX",
        "colab_type": "text"
      },
      "source": [
        "Change the values of X_train, X_test to float32 and normalize them between 0 and 1"
      ]
    },
    {
      "cell_type": "code",
      "metadata": {
        "id": "X2m4YS4E9CRh",
        "colab_type": "code",
        "colab": {}
      },
      "source": [
        "X_train = X_train.astype('float32')\n",
        "X_test = X_test.astype('float32')\n",
        "X_train /= 255\n",
        "X_test /= 255"
      ],
      "execution_count": 0,
      "outputs": []
    },
    {
      "cell_type": "markdown",
      "metadata": {
        "id": "Iawmitd5sftJ",
        "colab_type": "text"
      },
      "source": [
        "Print the first 10 elements of y_train which contains the class labels for X_train"
      ]
    },
    {
      "cell_type": "code",
      "metadata": {
        "id": "0Mn0vAYD9DvB",
        "colab_type": "code",
        "outputId": "81706e1e-3b6a-4dfc-da2f-9189ba8b978c",
        "colab": {
          "base_uri": "https://localhost:8080/",
          "height": 35
        }
      },
      "source": [
        "y_train[:10]"
      ],
      "execution_count": 0,
      "outputs": [
        {
          "output_type": "execute_result",
          "data": {
            "text/plain": [
              "array([5, 0, 4, 1, 9, 2, 1, 3, 1, 4], dtype=uint8)"
            ]
          },
          "metadata": {
            "tags": []
          },
          "execution_count": 10
        }
      ]
    },
    {
      "cell_type": "markdown",
      "metadata": {
        "id": "khh_eB46szz2",
        "colab_type": "text"
      },
      "source": [
        "Convert the values of Y_train and Y_test to one-hot vectors"
      ]
    },
    {
      "cell_type": "code",
      "metadata": {
        "id": "ZG8JiXR39FHC",
        "colab_type": "code",
        "colab": {}
      },
      "source": [
        "# Convert 1-dimensional class arrays to 10-dimensional class matrices\n",
        "Y_train = np_utils.to_categorical(y_train, 10)\n",
        "Y_test = np_utils.to_categorical(y_test, 10)"
      ],
      "execution_count": 0,
      "outputs": []
    },
    {
      "cell_type": "code",
      "metadata": {
        "id": "fYlFRvKS9HMB",
        "colab_type": "code",
        "outputId": "c220a3ff-c5c4-42a0-d3d7-0b501dbe6c56",
        "colab": {
          "base_uri": "https://localhost:8080/",
          "height": 191
        }
      },
      "source": [
        "Y_train[:10]\n"
      ],
      "execution_count": 0,
      "outputs": [
        {
          "output_type": "execute_result",
          "data": {
            "text/plain": [
              "array([[0., 0., 0., 0., 0., 1., 0., 0., 0., 0.],\n",
              "       [1., 0., 0., 0., 0., 0., 0., 0., 0., 0.],\n",
              "       [0., 0., 0., 0., 1., 0., 0., 0., 0., 0.],\n",
              "       [0., 1., 0., 0., 0., 0., 0., 0., 0., 0.],\n",
              "       [0., 0., 0., 0., 0., 0., 0., 0., 0., 1.],\n",
              "       [0., 0., 1., 0., 0., 0., 0., 0., 0., 0.],\n",
              "       [0., 1., 0., 0., 0., 0., 0., 0., 0., 0.],\n",
              "       [0., 0., 0., 1., 0., 0., 0., 0., 0., 0.],\n",
              "       [0., 1., 0., 0., 0., 0., 0., 0., 0., 0.],\n",
              "       [0., 0., 0., 0., 1., 0., 0., 0., 0., 0.]], dtype=float32)"
            ]
          },
          "metadata": {
            "tags": []
          },
          "execution_count": 12
        }
      ]
    },
    {
      "cell_type": "markdown",
      "metadata": {
        "id": "KZAZ_CIXzqWQ",
        "colab_type": "text"
      },
      "source": [
        "#Model Building"
      ]
    },
    {
      "cell_type": "markdown",
      "metadata": {
        "id": "8bUW3bHFs4sw",
        "colab_type": "text"
      },
      "source": [
        "Build a simple convolution model"
      ]
    },
    {
      "cell_type": "code",
      "metadata": {
        "id": "osKqT73Q9JJB",
        "colab_type": "code",
        "outputId": "dcb27943-b5cc-4464-8d5c-2196610c804e",
        "colab": {
          "base_uri": "https://localhost:8080/",
          "height": 297
        }
      },
      "source": [
        "model = Sequential()\n",
        " \n",
        "model.add(Convolution2D(32, 3, 3, activation='relu', input_shape=(28,28,1))) # Output size = 26; Receptive Field = 3\n",
        "\n",
        "model.add(Convolution2D(64, 3, 3, activation='relu')) # 24; 5\n",
        "model.add(Convolution2D(128, 3, 3, activation='relu')) # 22; 7\n",
        "\n",
        "model.add(MaxPooling2D(pool_size=(2, 2))) # 11; 14\n",
        "model.add(Convolution2D(32, 1, 1, activation='relu')) # 11; 14\n",
        "\n",
        "model.add(Convolution2D(64, 3, 3, activation='relu')) # 9; 16\n",
        "model.add(Convolution2D(128, 3, 3, activation='relu')) # 7; 18\n",
        "\n",
        "model.add(Convolution2D(10, 1, activation='relu')) \n",
        "model.add(Convolution2D(10, 7))\n",
        "model.add(Flatten())\n",
        "model.add(Activation('softmax'))"
      ],
      "execution_count": 0,
      "outputs": [
        {
          "output_type": "stream",
          "text": [
            "WARNING:tensorflow:From /usr/local/lib/python3.6/dist-packages/tensorflow/python/framework/op_def_library.py:263: colocate_with (from tensorflow.python.framework.ops) is deprecated and will be removed in a future version.\n",
            "Instructions for updating:\n",
            "Colocations handled automatically by placer.\n"
          ],
          "name": "stdout"
        },
        {
          "output_type": "stream",
          "text": [
            "/usr/local/lib/python3.6/dist-packages/ipykernel_launcher.py:3: UserWarning: Update your `Conv2D` call to the Keras 2 API: `Conv2D(32, (3, 3), activation=\"relu\", input_shape=(28, 28, 1...)`\n",
            "  This is separate from the ipykernel package so we can avoid doing imports until\n",
            "/usr/local/lib/python3.6/dist-packages/ipykernel_launcher.py:5: UserWarning: Update your `Conv2D` call to the Keras 2 API: `Conv2D(64, (3, 3), activation=\"relu\")`\n",
            "  \"\"\"\n",
            "/usr/local/lib/python3.6/dist-packages/ipykernel_launcher.py:6: UserWarning: Update your `Conv2D` call to the Keras 2 API: `Conv2D(128, (3, 3), activation=\"relu\")`\n",
            "  \n",
            "/usr/local/lib/python3.6/dist-packages/ipykernel_launcher.py:9: UserWarning: Update your `Conv2D` call to the Keras 2 API: `Conv2D(32, (1, 1), activation=\"relu\")`\n",
            "  if __name__ == '__main__':\n",
            "/usr/local/lib/python3.6/dist-packages/ipykernel_launcher.py:11: UserWarning: Update your `Conv2D` call to the Keras 2 API: `Conv2D(64, (3, 3), activation=\"relu\")`\n",
            "  # This is added back by InteractiveShellApp.init_path()\n",
            "/usr/local/lib/python3.6/dist-packages/ipykernel_launcher.py:12: UserWarning: Update your `Conv2D` call to the Keras 2 API: `Conv2D(128, (3, 3), activation=\"relu\")`\n",
            "  if sys.path[0] == '':\n"
          ],
          "name": "stderr"
        }
      ]
    },
    {
      "cell_type": "markdown",
      "metadata": {
        "id": "3YsOCVEGtDcN",
        "colab_type": "text"
      },
      "source": [
        "Print the model summary"
      ]
    },
    {
      "cell_type": "code",
      "metadata": {
        "id": "TzdAYg1k9K7Z",
        "colab_type": "code",
        "outputId": "dd1f87e4-fada-4368-d039-7656b18da49f",
        "colab": {
          "base_uri": "https://localhost:8080/",
          "height": 520
        }
      },
      "source": [
        "model.summary()"
      ],
      "execution_count": 0,
      "outputs": [
        {
          "output_type": "stream",
          "text": [
            "_________________________________________________________________\n",
            "Layer (type)                 Output Shape              Param #   \n",
            "=================================================================\n",
            "conv2d_1 (Conv2D)            (None, 26, 26, 32)        320       \n",
            "_________________________________________________________________\n",
            "conv2d_2 (Conv2D)            (None, 24, 24, 64)        18496     \n",
            "_________________________________________________________________\n",
            "conv2d_3 (Conv2D)            (None, 22, 22, 128)       73856     \n",
            "_________________________________________________________________\n",
            "max_pooling2d_1 (MaxPooling2 (None, 11, 11, 128)       0         \n",
            "_________________________________________________________________\n",
            "conv2d_4 (Conv2D)            (None, 11, 11, 32)        4128      \n",
            "_________________________________________________________________\n",
            "conv2d_5 (Conv2D)            (None, 9, 9, 64)          18496     \n",
            "_________________________________________________________________\n",
            "conv2d_6 (Conv2D)            (None, 7, 7, 128)         73856     \n",
            "_________________________________________________________________\n",
            "conv2d_7 (Conv2D)            (None, 7, 7, 10)          1290      \n",
            "_________________________________________________________________\n",
            "conv2d_8 (Conv2D)            (None, 1, 1, 10)          4910      \n",
            "_________________________________________________________________\n",
            "flatten_1 (Flatten)          (None, 10)                0         \n",
            "_________________________________________________________________\n",
            "activation_1 (Activation)    (None, 10)                0         \n",
            "=================================================================\n",
            "Total params: 195,352\n",
            "Trainable params: 195,352\n",
            "Non-trainable params: 0\n",
            "_________________________________________________________________\n"
          ],
          "name": "stdout"
        }
      ]
    },
    {
      "cell_type": "markdown",
      "metadata": {
        "id": "F6EKlf6ptE_O",
        "colab_type": "text"
      },
      "source": [
        "Compile the model with the loss function, the optimizer and the metrics used"
      ]
    },
    {
      "cell_type": "code",
      "metadata": {
        "id": "Zp6SuGrL9M3h",
        "colab_type": "code",
        "colab": {}
      },
      "source": [
        "model.compile(loss='categorical_crossentropy',\n",
        "             optimizer='adam',\n",
        "             metrics=['accuracy'])"
      ],
      "execution_count": 0,
      "outputs": []
    },
    {
      "cell_type": "markdown",
      "metadata": {
        "id": "8YCwPhFVzwdD",
        "colab_type": "text"
      },
      "source": [
        "#Model Training"
      ]
    },
    {
      "cell_type": "markdown",
      "metadata": {
        "id": "cfeVPqhttK3u",
        "colab_type": "text"
      },
      "source": [
        "Fit the model on X_train and Y_train for 10 epochs with a batch size of 32"
      ]
    },
    {
      "cell_type": "code",
      "metadata": {
        "id": "f4BHAyTXg_7L",
        "colab_type": "code",
        "outputId": "7517e553-5747-426d-dd16-0dc22521a32f",
        "colab": {
          "base_uri": "https://localhost:8080/",
          "height": 471
        }
      },
      "source": [
        "model.fit(X_train, Y_train, validation_data=(X_test, Y_test), batch_size=32, epochs=10, verbose=1)"
      ],
      "execution_count": 0,
      "outputs": [
        {
          "output_type": "stream",
          "text": [
            "WARNING:tensorflow:From /usr/local/lib/python3.6/dist-packages/tensorflow/python/ops/math_ops.py:3066: to_int32 (from tensorflow.python.ops.math_ops) is deprecated and will be removed in a future version.\n",
            "Instructions for updating:\n",
            "Use tf.cast instead.\n",
            "Train on 60000 samples, validate on 10000 samples\n",
            "Epoch 1/10\n",
            "60000/60000 [==============================] - 19s 322us/step - loss: 0.1506 - acc: 0.9542 - val_loss: 0.0788 - val_acc: 0.9764\n",
            "Epoch 2/10\n",
            "60000/60000 [==============================] - 15s 253us/step - loss: 0.0520 - acc: 0.9845 - val_loss: 0.0394 - val_acc: 0.9875\n",
            "Epoch 3/10\n",
            "60000/60000 [==============================] - 15s 244us/step - loss: 0.0387 - acc: 0.9881 - val_loss: 0.0449 - val_acc: 0.9856\n",
            "Epoch 4/10\n",
            "60000/60000 [==============================] - 15s 245us/step - loss: 0.0308 - acc: 0.9902 - val_loss: 0.0334 - val_acc: 0.9890\n",
            "Epoch 5/10\n",
            "60000/60000 [==============================] - 15s 244us/step - loss: 0.0252 - acc: 0.9920 - val_loss: 0.0365 - val_acc: 0.9901\n",
            "Epoch 6/10\n",
            "60000/60000 [==============================] - 15s 242us/step - loss: 0.0208 - acc: 0.9937 - val_loss: 0.0341 - val_acc: 0.9905\n",
            "Epoch 7/10\n",
            "60000/60000 [==============================] - 15s 247us/step - loss: 0.0184 - acc: 0.9939 - val_loss: 0.0281 - val_acc: 0.9917\n",
            "Epoch 8/10\n",
            "60000/60000 [==============================] - 15s 252us/step - loss: 0.0147 - acc: 0.9953 - val_loss: 0.0321 - val_acc: 0.9908\n",
            "Epoch 9/10\n",
            "60000/60000 [==============================] - 15s 244us/step - loss: 0.0132 - acc: 0.9958 - val_loss: 0.0349 - val_acc: 0.9912\n",
            "Epoch 10/10\n",
            "60000/60000 [==============================] - 14s 241us/step - loss: 0.0129 - acc: 0.9958 - val_loss: 0.0324 - val_acc: 0.9908\n"
          ],
          "name": "stdout"
        },
        {
          "output_type": "execute_result",
          "data": {
            "text/plain": [
              "<keras.callbacks.History at 0x7f4e0fef1b38>"
            ]
          },
          "metadata": {
            "tags": []
          },
          "execution_count": 17
        }
      ]
    },
    {
      "cell_type": "markdown",
      "metadata": {
        "id": "kDsFQbCpzzhV",
        "colab_type": "text"
      },
      "source": [
        "#Model Evaluation"
      ]
    },
    {
      "cell_type": "markdown",
      "metadata": {
        "id": "r6mz9k6wtQCq",
        "colab_type": "text"
      },
      "source": [
        "Evaluate the model on the test set"
      ]
    },
    {
      "cell_type": "code",
      "metadata": {
        "id": "AtsH-lLk-eLb",
        "colab_type": "code",
        "colab": {}
      },
      "source": [
        "score = model.evaluate(X_test, Y_test, verbose=0)"
      ],
      "execution_count": 0,
      "outputs": []
    },
    {
      "cell_type": "markdown",
      "metadata": {
        "id": "AsPC3p8utTiq",
        "colab_type": "text"
      },
      "source": [
        "Print the evaluation score of the model"
      ]
    },
    {
      "cell_type": "code",
      "metadata": {
        "id": "mkX8JMv79q9r",
        "colab_type": "code",
        "outputId": "8dcf0682-9800-40b7-ea07-7379bbae66cb",
        "colab": {
          "base_uri": "https://localhost:8080/",
          "height": 35
        }
      },
      "source": [
        "print(score)"
      ],
      "execution_count": 0,
      "outputs": [
        {
          "output_type": "stream",
          "text": [
            "[0.03242373200838392, 0.9908]\n"
          ],
          "name": "stdout"
        }
      ]
    },
    {
      "cell_type": "markdown",
      "metadata": {
        "id": "RcaRgtkOz1x7",
        "colab_type": "text"
      },
      "source": [
        "#Model Prediction"
      ]
    },
    {
      "cell_type": "markdown",
      "metadata": {
        "id": "-omd0xUhtWBs",
        "colab_type": "text"
      },
      "source": [
        "Use the model to predict the class labels of test set"
      ]
    },
    {
      "cell_type": "code",
      "metadata": {
        "id": "OCWoJkwE9suh",
        "colab_type": "code",
        "colab": {}
      },
      "source": [
        "y_pred = model.predict(X_test)"
      ],
      "execution_count": 0,
      "outputs": []
    },
    {
      "cell_type": "markdown",
      "metadata": {
        "id": "qxQKMo9ntbOR",
        "colab_type": "text"
      },
      "source": [
        "Compare the predicted values and the actual values"
      ]
    },
    {
      "cell_type": "code",
      "metadata": {
        "id": "Ym7iCFBm9uBs",
        "colab_type": "code",
        "outputId": "3458eb0d-0359-4bf5-cc77-97fa49bb3fd5",
        "colab": {
          "base_uri": "https://localhost:8080/",
          "height": 503
        }
      },
      "source": [
        "print(y_pred[:9])\n",
        "print(y_test[:9])"
      ],
      "execution_count": 0,
      "outputs": [
        {
          "output_type": "stream",
          "text": [
            "[[8.64288068e-12 6.43996521e-13 1.40800029e-08 5.20406429e-09\n",
            "  6.72493804e-15 1.71365421e-14 1.51653032e-20 1.00000000e+00\n",
            "  1.10474156e-11 7.09427572e-10]\n",
            " [1.61437094e-14 7.84606668e-12 1.00000000e+00 7.78453602e-15\n",
            "  2.41748577e-16 8.14982930e-20 7.39757715e-14 2.87450350e-18\n",
            "  1.42564834e-13 2.61521400e-22]\n",
            " [1.44598528e-10 9.99994874e-01 2.72794338e-08 2.07822631e-11\n",
            "  5.90505422e-08 1.78524451e-09 1.10789005e-08 5.10842528e-06\n",
            "  5.45577521e-08 4.86555018e-09]\n",
            " [9.99999404e-01 3.87444157e-12 1.37254097e-10 1.17384436e-10\n",
            "  2.05150966e-11 1.95705852e-09 6.19751177e-07 1.57598967e-14\n",
            "  3.56579033e-09 2.03874473e-09]\n",
            " [5.29684760e-12 3.35104548e-11 2.46423537e-16 3.90452712e-15\n",
            "  9.99999881e-01 1.70313731e-12 2.35020536e-09 8.47415562e-13\n",
            "  1.52233639e-07 4.39778297e-10]\n",
            " [7.92412837e-12 9.99987364e-01 1.95874250e-08 4.77863062e-12\n",
            "  4.42188281e-07 9.06311692e-11 1.86953724e-08 1.20095256e-05\n",
            "  1.23831299e-07 7.07093717e-10]\n",
            " [7.46758624e-20 1.50232008e-12 6.16839303e-16 2.10097672e-20\n",
            "  1.00000000e+00 6.39038518e-13 1.52674783e-18 1.39253309e-09\n",
            "  4.15375334e-09 9.34556654e-10]\n",
            " [4.82577520e-11 5.22894065e-13 1.12722115e-11 3.57821758e-11\n",
            "  2.42820761e-07 4.56706395e-10 3.94863585e-14 2.93826963e-10\n",
            "  5.02151943e-06 9.99994755e-01]\n",
            " [2.48744225e-09 2.57876799e-16 5.51495275e-15 7.97452504e-09\n",
            "  4.38969743e-15 7.65444338e-01 2.33437657e-01 1.26914330e-17\n",
            "  1.11799431e-03 8.44197212e-11]]\n",
            "[7 2 1 0 4 1 4 9 5]\n"
          ],
          "name": "stdout"
        }
      ]
    },
    {
      "cell_type": "markdown",
      "metadata": {
        "id": "49wgsnzKRx7m",
        "colab_type": "text"
      },
      "source": [
        "###Results###\n",
        "1. Our model reaches 99.17 validation accuracy which is a good start. It is safe to say this architecture should work reasonably well.\n",
        "2. For the given input image size, we were able to 8 Convolution layers and 1 MaxPooling layer.\n",
        "3. We have increased the number of channels with each layer and then added a bottleneck with 1x1 layer.\n",
        "4. We got 195k parameters which is not a concern as of now. In the next model, we will aim to reduce this number to below 15k."
      ]
    }
  ]
}