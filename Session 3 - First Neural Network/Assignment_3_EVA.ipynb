{
  "nbformat": 4,
  "nbformat_minor": 0,
  "metadata": {
    "colab": {
      "name": "Copy of Assignment 3_EVA.ipynb",
      "version": "0.3.2",
      "provenance": [],
      "collapsed_sections": [],
      "include_colab_link": true
    },
    "kernelspec": {
      "name": "python3",
      "display_name": "Python 3"
    },
    "accelerator": "GPU"
  },
  "cells": [
    {
      "cell_type": "markdown",
      "metadata": {
        "id": "view-in-github",
        "colab_type": "text"
      },
      "source": [
        "<a href=\"https://colab.research.google.com/github/nrajmalwar/Project/blob/master/Session%203/Assignment_3_EVA.ipynb\" target=\"_parent\"><img src=\"https://colab.research.google.com/assets/colab-badge.svg\" alt=\"Open In Colab\"/></a>"
      ]
    },
    {
      "cell_type": "markdown",
      "metadata": {
        "id": "KLaS9qHarzVC",
        "colab_type": "text"
      },
      "source": [
        "Nishad Rajmalwar, Batch F6, nrajmalwar@gmail.com"
      ]
    },
    {
      "cell_type": "markdown",
      "metadata": {
        "id": "aNyZv-Ec52ot",
        "colab_type": "text"
      },
      "source": [
        "# **Import Libraries and modules**"
      ]
    },
    {
      "cell_type": "markdown",
      "metadata": {
        "id": "x2yrkAO1r4n5",
        "colab_type": "text"
      },
      "source": [
        "Install and import keras library"
      ]
    },
    {
      "cell_type": "code",
      "metadata": {
        "id": "3m3w1Cw49Zkt",
        "colab_type": "code",
        "colab": {}
      },
      "source": [
        "# https://keras.io/\n",
        "!pip install -q keras\n",
        "import keras"
      ],
      "execution_count": 0,
      "outputs": []
    },
    {
      "cell_type": "markdown",
      "metadata": {
        "id": "NZixXfX3r7PO",
        "colab_type": "text"
      },
      "source": [
        "Important important APIs, functions and libraries"
      ]
    },
    {
      "cell_type": "code",
      "metadata": {
        "id": "Eso6UHE080D4",
        "colab_type": "code",
        "colab": {}
      },
      "source": [
        "import numpy as np\n",
        "\n",
        "from keras.models import Sequential\n",
        "from keras.layers import Dense, Dropout, Activation, Flatten, Add\n",
        "from keras.layers import Convolution2D, MaxPooling2D, GlobalAveragePooling2D, BatchNormalization\n",
        "from keras.utils import np_utils\n",
        "from keras.preprocessing.image import ImageDataGenerator\n",
        "from keras.datasets import mnist\n",
        "from keras.models import load_model\n",
        "from keras.callbacks import ModelCheckpoint"
      ],
      "execution_count": 0,
      "outputs": []
    },
    {
      "cell_type": "markdown",
      "metadata": {
        "id": "zByEi95J86RD",
        "colab_type": "text"
      },
      "source": [
        "### Load pre-shuffled MNIST data into train and test sets"
      ]
    },
    {
      "cell_type": "markdown",
      "metadata": {
        "id": "kTflyJG_sBDu",
        "colab_type": "text"
      },
      "source": [
        "Load and split the data into training and test set"
      ]
    },
    {
      "cell_type": "code",
      "metadata": {
        "id": "7eRM0QWN83PV",
        "colab_type": "code",
        "colab": {}
      },
      "source": [
        "(X_train, y_train), (X_test, y_test) = mnist.load_data()"
      ],
      "execution_count": 0,
      "outputs": []
    },
    {
      "cell_type": "markdown",
      "metadata": {
        "id": "1Hvs3DaXsGzv",
        "colab_type": "text"
      },
      "source": [
        "Print the shape of X_train (examples of the dataset) and plot the first image"
      ]
    },
    {
      "cell_type": "code",
      "metadata": {
        "id": "4a4Be72j8-ZC",
        "colab_type": "code",
        "outputId": "98c2f5a9-ef04-4227-fe88-56db7a8651f8",
        "colab": {
          "base_uri": "https://localhost:8080/",
          "height": 304
        }
      },
      "source": [
        "print (X_train.shape)\n",
        "from matplotlib import pyplot as plt\n",
        "%matplotlib inline\n",
        "plt.imshow(X_train[0])"
      ],
      "execution_count": 23,
      "outputs": [
        {
          "output_type": "stream",
          "text": [
            "(60000, 28, 28)\n"
          ],
          "name": "stdout"
        },
        {
          "output_type": "execute_result",
          "data": {
            "text/plain": [
              "<matplotlib.image.AxesImage at 0x7f7afd1f0f60>"
            ]
          },
          "metadata": {
            "tags": []
          },
          "execution_count": 23
        },
        {
          "output_type": "display_data",
          "data": {
            "image/png": "[encoded data removed]",
            "text/plain": [
              "<Figure size 432x288 with 1 Axes>"
            ]
          },
          "metadata": {
            "tags": []
          }
        }
      ]
    },
    {
      "cell_type": "markdown",
      "metadata": {
        "id": "NfF0dCyfsSZ4",
        "colab_type": "text"
      },
      "source": [
        "Reshape the X_train and X_test to (m,  28, 28, 1) tensor"
      ]
    },
    {
      "cell_type": "code",
      "metadata": {
        "id": "dkmprriw9AnZ",
        "colab_type": "code",
        "colab": {}
      },
      "source": [
        "X_train = X_train.reshape(X_train.shape[0], 28, 28,1)\n",
        "X_test = X_test.reshape(X_test.shape[0], 28, 28,1)"
      ],
      "execution_count": 0,
      "outputs": []
    },
    {
      "cell_type": "markdown",
      "metadata": {
        "id": "gZBh78EBsZdX",
        "colab_type": "text"
      },
      "source": [
        "Change the values of X_train, X_test to float32 and normalize them between 0 and 255"
      ]
    },
    {
      "cell_type": "code",
      "metadata": {
        "id": "X2m4YS4E9CRh",
        "colab_type": "code",
        "colab": {}
      },
      "source": [
        "X_train = X_train.astype('float32')\n",
        "X_test = X_test.astype('float32')\n",
        "X_train /= 255\n",
        "X_test /= 255"
      ],
      "execution_count": 0,
      "outputs": []
    },
    {
      "cell_type": "markdown",
      "metadata": {
        "id": "Iawmitd5sftJ",
        "colab_type": "text"
      },
      "source": [
        "Print the first 10 elements of y_train which contains the class labels for X_train"
      ]
    },
    {
      "cell_type": "code",
      "metadata": {
        "id": "0Mn0vAYD9DvB",
        "colab_type": "code",
        "outputId": "1aec0983-cc5d-46af-8a90-031f7765ce08",
        "colab": {
          "base_uri": "https://localhost:8080/",
          "height": 35
        }
      },
      "source": [
        "y_train[:10]"
      ],
      "execution_count": 26,
      "outputs": [
        {
          "output_type": "execute_result",
          "data": {
            "text/plain": [
              "array([5, 0, 4, 1, 9, 2, 1, 3, 1, 4], dtype=uint8)"
            ]
          },
          "metadata": {
            "tags": []
          },
          "execution_count": 26
        }
      ]
    },
    {
      "cell_type": "markdown",
      "metadata": {
        "id": "khh_eB46szz2",
        "colab_type": "text"
      },
      "source": [
        "Convert the values of Y_train and Y_test to one-hot vectors"
      ]
    },
    {
      "cell_type": "code",
      "metadata": {
        "id": "ZG8JiXR39FHC",
        "colab_type": "code",
        "colab": {}
      },
      "source": [
        "# Convert 1-dimensional class arrays to 10-dimensional class matrices\n",
        "Y_train = np_utils.to_categorical(y_train, 10)\n",
        "Y_test = np_utils.to_categorical(y_test, 10)"
      ],
      "execution_count": 0,
      "outputs": []
    },
    {
      "cell_type": "code",
      "metadata": {
        "id": "fYlFRvKS9HMB",
        "colab_type": "code",
        "outputId": "1eb022e3-6ee0-491e-fbd1-7fe1b7ba4902",
        "colab": {
          "base_uri": "https://localhost:8080/",
          "height": 191
        }
      },
      "source": [
        "Y_train[:10]\n"
      ],
      "execution_count": 28,
      "outputs": [
        {
          "output_type": "execute_result",
          "data": {
            "text/plain": [
              "array([[0., 0., 0., 0., 0., 1., 0., 0., 0., 0.],\n",
              "       [1., 0., 0., 0., 0., 0., 0., 0., 0., 0.],\n",
              "       [0., 0., 0., 0., 1., 0., 0., 0., 0., 0.],\n",
              "       [0., 1., 0., 0., 0., 0., 0., 0., 0., 0.],\n",
              "       [0., 0., 0., 0., 0., 0., 0., 0., 0., 1.],\n",
              "       [0., 0., 1., 0., 0., 0., 0., 0., 0., 0.],\n",
              "       [0., 1., 0., 0., 0., 0., 0., 0., 0., 0.],\n",
              "       [0., 0., 0., 1., 0., 0., 0., 0., 0., 0.],\n",
              "       [0., 1., 0., 0., 0., 0., 0., 0., 0., 0.],\n",
              "       [0., 0., 0., 0., 1., 0., 0., 0., 0., 0.]], dtype=float32)"
            ]
          },
          "metadata": {
            "tags": []
          },
          "execution_count": 28
        }
      ]
    },
    {
      "cell_type": "markdown",
      "metadata": {
        "id": "KZAZ_CIXzqWQ",
        "colab_type": "text"
      },
      "source": [
        "#Model Building"
      ]
    },
    {
      "cell_type": "markdown",
      "metadata": {
        "id": "8bUW3bHFs4sw",
        "colab_type": "text"
      },
      "source": [
        "Build a simple convolution model"
      ]
    },
    {
      "cell_type": "code",
      "metadata": {
        "id": "osKqT73Q9JJB",
        "colab_type": "code",
        "outputId": "0bded520-b572-4175-b3a9-bcccbd05f805",
        "colab": {
          "base_uri": "https://localhost:8080/",
          "height": 176
        }
      },
      "source": [
        "model = Sequential()\n",
        "\n",
        "model.add(Convolution2D(16, 3, 3, activation='relu', input_shape=(28,28,1)))\n",
        "model.add(BatchNormalization())\n",
        "\n",
        "model.add(Convolution2D(32, 3, 3, activation='relu'))\n",
        "model.add(BatchNormalization())\n",
        "\n",
        "model.add(MaxPooling2D(pool_size=(2,2)))\n",
        "\n",
        "model.add(Convolution2D(16, 1, activation='relu'))\n",
        "model.add(BatchNormalization())\n",
        "\n",
        "model.add(Convolution2D(32, 3, 3, activation='relu'))\n",
        "model.add(BatchNormalization())\n",
        "\n",
        "model.add(Dropout(rate=0.3))\n",
        "\n",
        "model.add(MaxPooling2D(pool_size=(2,2)))\n",
        "\n",
        "model.add(Convolution2D(16, 1, activation='relu'))\n",
        "model.add(BatchNormalization())\n",
        "model.add(Dropout(rate=0.2))\n",
        "\n",
        "model.add(Convolution2D(32, 3, 3, activation='relu'))\n",
        "model.add(BatchNormalization())\n",
        "model.add(Dropout(rate=0.5))\n",
        "\n",
        "model.add(Convolution2D(10, 3, 3))\n",
        "\n",
        "model.add(Flatten())\n",
        "model.add(Activation('softmax'))"
      ],
      "execution_count": 43,
      "outputs": [
        {
          "output_type": "stream",
          "text": [
            "/usr/local/lib/python3.6/dist-packages/ipykernel_launcher.py:3: UserWarning: Update your `Conv2D` call to the Keras 2 API: `Conv2D(16, (3, 3), activation=\"relu\", input_shape=(28, 28, 1...)`\n",
            "  This is separate from the ipykernel package so we can avoid doing imports until\n",
            "/usr/local/lib/python3.6/dist-packages/ipykernel_launcher.py:6: UserWarning: Update your `Conv2D` call to the Keras 2 API: `Conv2D(32, (3, 3), activation=\"relu\")`\n",
            "  \n",
            "/usr/local/lib/python3.6/dist-packages/ipykernel_launcher.py:14: UserWarning: Update your `Conv2D` call to the Keras 2 API: `Conv2D(32, (3, 3), activation=\"relu\")`\n",
            "  \n",
            "/usr/local/lib/python3.6/dist-packages/ipykernel_launcher.py:25: UserWarning: Update your `Conv2D` call to the Keras 2 API: `Conv2D(32, (3, 3), activation=\"relu\")`\n",
            "/usr/local/lib/python3.6/dist-packages/ipykernel_launcher.py:29: UserWarning: Update your `Conv2D` call to the Keras 2 API: `Conv2D(10, (3, 3))`\n"
          ],
          "name": "stderr"
        }
      ]
    },
    {
      "cell_type": "markdown",
      "metadata": {
        "id": "3YsOCVEGtDcN",
        "colab_type": "text"
      },
      "source": [
        "Print the model summary"
      ]
    },
    {
      "cell_type": "code",
      "metadata": {
        "id": "TzdAYg1k9K7Z",
        "colab_type": "code",
        "outputId": "a08bcdbf-529b-4c8c-e787-805c62929c58",
        "colab": {
          "base_uri": "https://localhost:8080/",
          "height": 832
        }
      },
      "source": [
        "model.summary()"
      ],
      "execution_count": 44,
      "outputs": [
        {
          "output_type": "stream",
          "text": [
            "_________________________________________________________________\n",
            "Layer (type)                 Output Shape              Param #   \n",
            "=================================================================\n",
            "conv2d_15 (Conv2D)           (None, 26, 26, 16)        160       \n",
            "_________________________________________________________________\n",
            "batch_normalization_13 (Batc (None, 26, 26, 16)        64        \n",
            "_________________________________________________________________\n",
            "conv2d_16 (Conv2D)           (None, 24, 24, 32)        4640      \n",
            "_________________________________________________________________\n",
            "batch_normalization_14 (Batc (None, 24, 24, 32)        128       \n",
            "_________________________________________________________________\n",
            "max_pooling2d_5 (MaxPooling2 (None, 12, 12, 32)        0         \n",
            "_________________________________________________________________\n",
            "conv2d_17 (Conv2D)           (None, 12, 12, 16)        528       \n",
            "_________________________________________________________________\n",
            "batch_normalization_15 (Batc (None, 12, 12, 16)        64        \n",
            "_________________________________________________________________\n",
            "conv2d_18 (Conv2D)           (None, 10, 10, 32)        4640      \n",
            "_________________________________________________________________\n",
            "batch_normalization_16 (Batc (None, 10, 10, 32)        128       \n",
            "_________________________________________________________________\n",
            "dropout_7 (Dropout)          (None, 10, 10, 32)        0         \n",
            "_________________________________________________________________\n",
            "max_pooling2d_6 (MaxPooling2 (None, 5, 5, 32)          0         \n",
            "_________________________________________________________________\n",
            "conv2d_19 (Conv2D)           (None, 5, 5, 16)          528       \n",
            "_________________________________________________________________\n",
            "batch_normalization_17 (Batc (None, 5, 5, 16)          64        \n",
            "_________________________________________________________________\n",
            "dropout_8 (Dropout)          (None, 5, 5, 16)          0         \n",
            "_________________________________________________________________\n",
            "conv2d_20 (Conv2D)           (None, 3, 3, 32)          4640      \n",
            "_________________________________________________________________\n",
            "batch_normalization_18 (Batc (None, 3, 3, 32)          128       \n",
            "_________________________________________________________________\n",
            "dropout_9 (Dropout)          (None, 3, 3, 32)          0         \n",
            "_________________________________________________________________\n",
            "conv2d_21 (Conv2D)           (None, 1, 1, 10)          2890      \n",
            "_________________________________________________________________\n",
            "flatten_3 (Flatten)          (None, 10)                0         \n",
            "_________________________________________________________________\n",
            "activation_3 (Activation)    (None, 10)                0         \n",
            "=================================================================\n",
            "Total params: 18,602\n",
            "Trainable params: 18,314\n",
            "Non-trainable params: 288\n",
            "_________________________________________________________________\n"
          ],
          "name": "stdout"
        }
      ]
    },
    {
      "cell_type": "markdown",
      "metadata": {
        "id": "F6EKlf6ptE_O",
        "colab_type": "text"
      },
      "source": [
        "Compile the model with the loss function, the optimizer and the metrics used"
      ]
    },
    {
      "cell_type": "code",
      "metadata": {
        "id": "Zp6SuGrL9M3h",
        "colab_type": "code",
        "colab": {}
      },
      "source": [
        "model.compile(loss='categorical_crossentropy',\n",
        "             optimizer='adam',\n",
        "             metrics=['accuracy'])"
      ],
      "execution_count": 0,
      "outputs": []
    },
    {
      "cell_type": "markdown",
      "metadata": {
        "id": "8YCwPhFVzwdD",
        "colab_type": "text"
      },
      "source": [
        "#Model Training"
      ]
    },
    {
      "cell_type": "markdown",
      "metadata": {
        "id": "cfeVPqhttK3u",
        "colab_type": "text"
      },
      "source": [
        "Fit the model on X_train and Y_train for 50 epochs with a batch size of 32"
      ]
    },
    {
      "cell_type": "code",
      "metadata": {
        "id": "f4BHAyTXg_7L",
        "colab_type": "code",
        "outputId": "c307a91a-0073-4de8-d21c-4af9c65ab64f",
        "colab": {
          "base_uri": "https://localhost:8080/",
          "height": 1840
        }
      },
      "source": [
        "model.fit(X_train, Y_train, validation_data=(X_test, Y_test), batch_size=32, nb_epoch=50, verbose=1)"
      ],
      "execution_count": 47,
      "outputs": [
        {
          "output_type": "stream",
          "text": [
            "Train on 60000 samples, validate on 10000 samples\n",
            "Epoch 1/50\n",
            "  352/60000 [..............................] - ETA: 24s - loss: 0.0394 - acc: 0.9858"
          ],
          "name": "stdout"
        },
        {
          "output_type": "stream",
          "text": [
            "/usr/local/lib/python3.6/dist-packages/ipykernel_launcher.py:1: UserWarning: The `nb_epoch` argument in `fit` has been renamed `epochs`.\n",
            "  \"\"\"Entry point for launching an IPython kernel.\n"
          ],
          "name": "stderr"
        },
        {
          "output_type": "stream",
          "text": [
            "60000/60000 [==============================] - 23s 376us/step - loss: 0.0230 - acc: 0.9923 - val_loss: 0.0264 - val_acc: 0.9914\n",
            "Epoch 2/50\n",
            "60000/60000 [==============================] - 22s 361us/step - loss: 0.0222 - acc: 0.9924 - val_loss: 0.0248 - val_acc: 0.9919\n",
            "Epoch 3/50\n",
            "60000/60000 [==============================] - 22s 362us/step - loss: 0.0222 - acc: 0.9926 - val_loss: 0.0225 - val_acc: 0.9928\n",
            "Epoch 4/50\n",
            "60000/60000 [==============================] - 22s 372us/step - loss: 0.0225 - acc: 0.9927 - val_loss: 0.0224 - val_acc: 0.9933\n",
            "Epoch 5/50\n",
            "60000/60000 [==============================] - 22s 366us/step - loss: 0.0214 - acc: 0.9930 - val_loss: 0.0222 - val_acc: 0.9927\n",
            "Epoch 6/50\n",
            "60000/60000 [==============================] - 22s 359us/step - loss: 0.0224 - acc: 0.9924 - val_loss: 0.0216 - val_acc: 0.9931\n",
            "Epoch 7/50\n",
            "60000/60000 [==============================] - 22s 361us/step - loss: 0.0217 - acc: 0.9930 - val_loss: 0.0237 - val_acc: 0.9921\n",
            "Epoch 8/50\n",
            "60000/60000 [==============================] - 22s 374us/step - loss: 0.0211 - acc: 0.9929 - val_loss: 0.0226 - val_acc: 0.9930\n",
            "Epoch 9/50\n",
            "60000/60000 [==============================] - 21s 357us/step - loss: 0.0199 - acc: 0.9931 - val_loss: 0.0232 - val_acc: 0.9929\n",
            "Epoch 10/50\n",
            "60000/60000 [==============================] - 22s 361us/step - loss: 0.0208 - acc: 0.9930 - val_loss: 0.0208 - val_acc: 0.9939\n",
            "Epoch 11/50\n",
            "60000/60000 [==============================] - 23s 376us/step - loss: 0.0211 - acc: 0.9933 - val_loss: 0.0237 - val_acc: 0.9930\n",
            "Epoch 12/50\n",
            "60000/60000 [==============================] - 22s 373us/step - loss: 0.0208 - acc: 0.9933 - val_loss: 0.0218 - val_acc: 0.9940\n",
            "Epoch 13/50\n",
            "60000/60000 [==============================] - 21s 357us/step - loss: 0.0197 - acc: 0.9932 - val_loss: 0.0234 - val_acc: 0.9924\n",
            "Epoch 14/50\n",
            "60000/60000 [==============================] - 21s 356us/step - loss: 0.0189 - acc: 0.9936 - val_loss: 0.0240 - val_acc: 0.9924\n",
            "Epoch 15/50\n",
            "60000/60000 [==============================] - 22s 366us/step - loss: 0.0204 - acc: 0.9931 - val_loss: 0.0219 - val_acc: 0.9929\n",
            "Epoch 16/50\n",
            "60000/60000 [==============================] - 22s 363us/step - loss: 0.0194 - acc: 0.9936 - val_loss: 0.0238 - val_acc: 0.9928\n",
            "Epoch 17/50\n",
            "60000/60000 [==============================] - 21s 355us/step - loss: 0.0206 - acc: 0.9932 - val_loss: 0.0239 - val_acc: 0.9931\n",
            "Epoch 18/50\n",
            "60000/60000 [==============================] - 22s 366us/step - loss: 0.0209 - acc: 0.9931 - val_loss: 0.0224 - val_acc: 0.9925\n",
            "Epoch 19/50\n",
            "60000/60000 [==============================] - 22s 373us/step - loss: 0.0194 - acc: 0.9938 - val_loss: 0.0220 - val_acc: 0.9927\n",
            "Epoch 20/50\n",
            "60000/60000 [==============================] - 21s 353us/step - loss: 0.0197 - acc: 0.9934 - val_loss: 0.0235 - val_acc: 0.9931\n",
            "Epoch 21/50\n",
            "60000/60000 [==============================] - 21s 354us/step - loss: 0.0205 - acc: 0.9934 - val_loss: 0.0206 - val_acc: 0.9942\n",
            "Epoch 22/50\n",
            "60000/60000 [==============================] - 21s 353us/step - loss: 0.0187 - acc: 0.9938 - val_loss: 0.0199 - val_acc: 0.9934\n",
            "Epoch 23/50\n",
            "60000/60000 [==============================] - 22s 370us/step - loss: 0.0207 - acc: 0.9931 - val_loss: 0.0222 - val_acc: 0.9928\n",
            "Epoch 24/50\n",
            "60000/60000 [==============================] - 21s 352us/step - loss: 0.0193 - acc: 0.9937 - val_loss: 0.0220 - val_acc: 0.9931\n",
            "Epoch 25/50\n",
            "60000/60000 [==============================] - 23s 376us/step - loss: 0.0193 - acc: 0.9933 - val_loss: 0.0214 - val_acc: 0.9935\n",
            "Epoch 26/50\n",
            "60000/60000 [==============================] - 22s 358us/step - loss: 0.0185 - acc: 0.9938 - val_loss: 0.0231 - val_acc: 0.9930\n",
            "Epoch 27/50\n",
            "60000/60000 [==============================] - 22s 373us/step - loss: 0.0195 - acc: 0.9938 - val_loss: 0.0227 - val_acc: 0.9935\n",
            "Epoch 28/50\n",
            "60000/60000 [==============================] - 22s 359us/step - loss: 0.0181 - acc: 0.9940 - val_loss: 0.0250 - val_acc: 0.9928\n",
            "Epoch 29/50\n",
            "60000/60000 [==============================] - 21s 353us/step - loss: 0.0174 - acc: 0.9940 - val_loss: 0.0224 - val_acc: 0.9932\n",
            "Epoch 30/50\n",
            "60000/60000 [==============================] - 22s 372us/step - loss: 0.0183 - acc: 0.9937 - val_loss: 0.0213 - val_acc: 0.9933\n",
            "Epoch 31/50\n",
            "60000/60000 [==============================] - 21s 354us/step - loss: 0.0184 - acc: 0.9936 - val_loss: 0.0220 - val_acc: 0.9931\n",
            "Epoch 32/50\n",
            "60000/60000 [==============================] - 22s 360us/step - loss: 0.0181 - acc: 0.9937 - val_loss: 0.0214 - val_acc: 0.9930\n",
            "Epoch 33/50\n",
            "60000/60000 [==============================] - 21s 356us/step - loss: 0.0180 - acc: 0.9940 - val_loss: 0.0213 - val_acc: 0.9938\n",
            "Epoch 34/50\n",
            "60000/60000 [==============================] - 22s 371us/step - loss: 0.0175 - acc: 0.9936 - val_loss: 0.0205 - val_acc: 0.9937\n",
            "Epoch 35/50\n",
            "60000/60000 [==============================] - 21s 353us/step - loss: 0.0182 - acc: 0.9938 - val_loss: 0.0193 - val_acc: 0.9938\n",
            "Epoch 36/50\n",
            "60000/60000 [==============================] - 21s 354us/step - loss: 0.0188 - acc: 0.9935 - val_loss: 0.0222 - val_acc: 0.9934\n",
            "Epoch 37/50\n",
            "60000/60000 [==============================] - 21s 351us/step - loss: 0.0184 - acc: 0.9936 - val_loss: 0.0213 - val_acc: 0.9933\n",
            "Epoch 38/50\n",
            "60000/60000 [==============================] - 22s 370us/step - loss: 0.0173 - acc: 0.9940 - val_loss: 0.0254 - val_acc: 0.9928\n",
            "Epoch 39/50\n",
            "60000/60000 [==============================] - 22s 374us/step - loss: 0.0178 - acc: 0.9938 - val_loss: 0.0222 - val_acc: 0.9941\n",
            "Epoch 40/50\n",
            "60000/60000 [==============================] - 21s 350us/step - loss: 0.0182 - acc: 0.9940 - val_loss: 0.0231 - val_acc: 0.9920\n",
            "Epoch 41/50\n",
            "60000/60000 [==============================] - 22s 362us/step - loss: 0.0175 - acc: 0.9941 - val_loss: 0.0200 - val_acc: 0.9940\n",
            "Epoch 42/50\n",
            "60000/60000 [==============================] - 22s 359us/step - loss: 0.0168 - acc: 0.9941 - val_loss: 0.0269 - val_acc: 0.9920\n",
            "Epoch 43/50\n",
            "60000/60000 [==============================] - 21s 351us/step - loss: 0.0174 - acc: 0.9940 - val_loss: 0.0242 - val_acc: 0.9926\n",
            "Epoch 44/50\n",
            "60000/60000 [==============================] - 21s 349us/step - loss: 0.0155 - acc: 0.9946 - val_loss: 0.0245 - val_acc: 0.9931\n",
            "Epoch 45/50\n",
            "60000/60000 [==============================] - 22s 369us/step - loss: 0.0171 - acc: 0.9943 - val_loss: 0.0209 - val_acc: 0.9937\n",
            "Epoch 46/50\n",
            "60000/60000 [==============================] - 21s 349us/step - loss: 0.0153 - acc: 0.9953 - val_loss: 0.0206 - val_acc: 0.9944\n",
            "Epoch 47/50\n",
            "60000/60000 [==============================] - 22s 361us/step - loss: 0.0167 - acc: 0.9946 - val_loss: 0.0233 - val_acc: 0.9931\n",
            "Epoch 48/50\n",
            "60000/60000 [==============================] - 21s 353us/step - loss: 0.0174 - acc: 0.9941 - val_loss: 0.0255 - val_acc: 0.9925\n",
            "Epoch 49/50\n",
            "60000/60000 [==============================] - 22s 369us/step - loss: 0.0167 - acc: 0.9942 - val_loss: 0.0237 - val_acc: 0.9929\n",
            "Epoch 50/50\n",
            "60000/60000 [==============================] - 21s 349us/step - loss: 0.0166 - acc: 0.9946 - val_loss: 0.0247 - val_acc: 0.9932\n"
          ],
          "name": "stdout"
        },
        {
          "output_type": "execute_result",
          "data": {
            "text/plain": [
              "<keras.callbacks.History at 0x7f7ae695a8d0>"
            ]
          },
          "metadata": {
            "tags": []
          },
          "execution_count": 47
        }
      ]
    },
    {
      "cell_type": "code",
      "metadata": {
        "id": "QKwWeu-cpA_E",
        "colab_type": "code",
        "colab": {
          "base_uri": "https://localhost:8080/",
          "height": 780
        },
        "outputId": "38d46b2f-998c-478a-bd10-b8b29354c5fa"
      },
      "source": [
        "checkpoint = ModelCheckpoint('EVA_Asgn_3.hdf5', monitor='val_acc', verbose=1, save_best_only=True, save_weights_only=False, mode='auto', period=1)\n",
        "model.fit(X_train, Y_train, validation_data=(X_test, Y_test), batch_size=32, nb_epoch=10, verbose=1, callbacks=[checkpoint])"
      ],
      "execution_count": 58,
      "outputs": [
        {
          "output_type": "stream",
          "text": [
            "/usr/local/lib/python3.6/dist-packages/ipykernel_launcher.py:2: UserWarning: The `nb_epoch` argument in `fit` has been renamed `epochs`.\n",
            "  \n"
          ],
          "name": "stderr"
        },
        {
          "output_type": "stream",
          "text": [
            "Train on 60000 samples, validate on 10000 samples\n",
            "Epoch 1/10\n",
            "60000/60000 [==============================] - 23s 387us/step - loss: 0.0158 - acc: 0.9947 - val_loss: 0.0187 - val_acc: 0.9950\n",
            "\n",
            "Epoch 00001: val_acc improved from -inf to 0.99500, saving model to EVA_Asgn_3.hdf5\n",
            "Epoch 2/10\n",
            "60000/60000 [==============================] - 21s 356us/step - loss: 0.0163 - acc: 0.9945 - val_loss: 0.0231 - val_acc: 0.9937\n",
            "\n",
            "Epoch 00002: val_acc did not improve from 0.99500\n",
            "Epoch 3/10\n",
            "60000/60000 [==============================] - 21s 358us/step - loss: 0.0163 - acc: 0.9947 - val_loss: 0.0248 - val_acc: 0.9934\n",
            "\n",
            "Epoch 00003: val_acc did not improve from 0.99500\n",
            "Epoch 4/10\n",
            "60000/60000 [==============================] - 24s 397us/step - loss: 0.0159 - acc: 0.9948 - val_loss: 0.0246 - val_acc: 0.9932\n",
            "\n",
            "Epoch 00004: val_acc did not improve from 0.99500\n",
            "Epoch 5/10\n",
            "60000/60000 [==============================] - 21s 355us/step - loss: 0.0143 - acc: 0.9951 - val_loss: 0.0240 - val_acc: 0.9931\n",
            "\n",
            "Epoch 00005: val_acc did not improve from 0.99500\n",
            "Epoch 6/10\n",
            "60000/60000 [==============================] - 21s 355us/step - loss: 0.0146 - acc: 0.9952 - val_loss: 0.0213 - val_acc: 0.9935\n",
            "\n",
            "Epoch 00006: val_acc did not improve from 0.99500\n",
            "Epoch 7/10\n",
            "60000/60000 [==============================] - 21s 353us/step - loss: 0.0153 - acc: 0.9951 - val_loss: 0.0210 - val_acc: 0.9937\n",
            "\n",
            "Epoch 00007: val_acc did not improve from 0.99500\n",
            "Epoch 8/10\n",
            "60000/60000 [==============================] - 22s 373us/step - loss: 0.0154 - acc: 0.9949 - val_loss: 0.0230 - val_acc: 0.9935\n",
            "\n",
            "Epoch 00008: val_acc did not improve from 0.99500\n",
            "Epoch 9/10\n",
            "60000/60000 [==============================] - 21s 355us/step - loss: 0.0135 - acc: 0.9952 - val_loss: 0.0241 - val_acc: 0.9937\n",
            "\n",
            "Epoch 00009: val_acc did not improve from 0.99500\n",
            "Epoch 10/10\n",
            "60000/60000 [==============================] - 22s 366us/step - loss: 0.0154 - acc: 0.9950 - val_loss: 0.0252 - val_acc: 0.9933\n",
            "\n",
            "Epoch 00010: val_acc did not improve from 0.99500\n"
          ],
          "name": "stdout"
        },
        {
          "output_type": "execute_result",
          "data": {
            "text/plain": [
              "<keras.callbacks.History at 0x7f7ae67b5588>"
            ]
          },
          "metadata": {
            "tags": []
          },
          "execution_count": 58
        }
      ]
    },
    {
      "cell_type": "markdown",
      "metadata": {
        "id": "kDsFQbCpzzhV",
        "colab_type": "text"
      },
      "source": [
        "#Model Evaluation"
      ]
    },
    {
      "cell_type": "markdown",
      "metadata": {
        "id": "r6mz9k6wtQCq",
        "colab_type": "text"
      },
      "source": [
        "Evaluate the model on the test set"
      ]
    },
    {
      "cell_type": "code",
      "metadata": {
        "id": "k6KkyBYBpcgk",
        "colab_type": "code",
        "colab": {}
      },
      "source": [
        "model = load_model('EVA_Asgn_3.hdf5')"
      ],
      "execution_count": 0,
      "outputs": []
    },
    {
      "cell_type": "code",
      "metadata": {
        "id": "AtsH-lLk-eLb",
        "colab_type": "code",
        "colab": {}
      },
      "source": [
        "score = model.evaluate(X_test, Y_test, verbose=0)"
      ],
      "execution_count": 0,
      "outputs": []
    },
    {
      "cell_type": "markdown",
      "metadata": {
        "id": "AsPC3p8utTiq",
        "colab_type": "text"
      },
      "source": [
        "Print the evaluation score of the model"
      ]
    },
    {
      "cell_type": "code",
      "metadata": {
        "id": "mkX8JMv79q9r",
        "colab_type": "code",
        "outputId": "65876f58-d5ff-402d-e6bc-c5d2c0c4a521",
        "colab": {
          "base_uri": "https://localhost:8080/",
          "height": 35
        }
      },
      "source": [
        "print(score)"
      ],
      "execution_count": 61,
      "outputs": [
        {
          "output_type": "stream",
          "text": [
            "[0.018654734946789268, 0.995]\n"
          ],
          "name": "stdout"
        }
      ]
    },
    {
      "cell_type": "markdown",
      "metadata": {
        "id": "RcaRgtkOz1x7",
        "colab_type": "text"
      },
      "source": [
        "#Model Prediction"
      ]
    },
    {
      "cell_type": "markdown",
      "metadata": {
        "id": "-omd0xUhtWBs",
        "colab_type": "text"
      },
      "source": [
        "Use the model to predict the class labels of test set"
      ]
    },
    {
      "cell_type": "code",
      "metadata": {
        "id": "OCWoJkwE9suh",
        "colab_type": "code",
        "colab": {}
      },
      "source": [
        "y_pred = model.predict(X_test)"
      ],
      "execution_count": 0,
      "outputs": []
    },
    {
      "cell_type": "markdown",
      "metadata": {
        "id": "qxQKMo9ntbOR",
        "colab_type": "text"
      },
      "source": [
        "Compare the predicted values and the actual values"
      ]
    },
    {
      "cell_type": "code",
      "metadata": {
        "id": "Ym7iCFBm9uBs",
        "colab_type": "code",
        "outputId": "c6d59e4f-7d61-440a-c3cf-e8e14021d110",
        "colab": {
          "base_uri": "https://localhost:8080/",
          "height": 347
        }
      },
      "source": [
        "print(y_pred[:9])\n",
        "print(y_test[:9])"
      ],
      "execution_count": 63,
      "outputs": [
        {
          "output_type": "stream",
          "text": [
            "[[1.3938881e-13 3.2805868e-08 1.2575283e-09 1.6513794e-09 1.0992509e-12\n",
            "  5.1327063e-12 1.3785669e-16 1.0000000e+00 1.9311967e-12 8.0911999e-10]\n",
            " [2.1244016e-06 1.7004730e-06 9.9999619e-01 2.4682756e-09 3.4051074e-12\n",
            "  4.5700152e-14 3.7576047e-08 8.7569546e-10 9.3227558e-11 4.5405547e-13]\n",
            " [2.0235691e-09 9.9999917e-01 3.7524625e-10 2.1009878e-08 1.9489747e-07\n",
            "  3.3210324e-07 8.0033303e-08 2.2239297e-07 5.0332618e-09 3.8962638e-09]\n",
            " [9.9998105e-01 8.9114643e-10 1.6176716e-07 2.6985013e-08 2.1256320e-10\n",
            "  7.0233177e-08 1.8491966e-05 4.1854917e-10 1.2604353e-07 4.5777764e-08]\n",
            " [1.6581437e-14 9.4333187e-12 1.6870803e-12 1.7189436e-13 9.9999905e-01\n",
            "  2.2928946e-13 8.7677660e-12 7.9479557e-12 2.0790804e-10 9.3995146e-07]\n",
            " [5.3802240e-10 9.9999964e-01 4.7094462e-10 3.1427913e-10 1.1813990e-07\n",
            "  1.7574880e-09 1.4639428e-08 1.7711034e-07 4.9483262e-09 3.8749954e-09]\n",
            " [6.9813309e-14 3.4004280e-08 2.6587640e-11 2.9060321e-13 9.9999225e-01\n",
            "  3.3112421e-10 4.7572488e-11 1.3340268e-08 1.1719636e-06 6.6133362e-06]\n",
            " [3.2225028e-12 1.1700224e-11 7.7772128e-10 6.2064270e-10 1.5446803e-05\n",
            "  3.0297251e-10 4.6592413e-12 2.6590838e-08 1.2585601e-06 9.9998319e-01]\n",
            " [4.0092392e-09 1.5094475e-12 8.6119991e-09 1.3983920e-10 1.6584674e-09\n",
            "  9.9810302e-01 1.8624945e-03 2.3195765e-10 3.4504865e-05 2.8755244e-08]]\n",
            "[7 2 1 0 4 1 4 9 5]\n"
          ],
          "name": "stdout"
        }
      ]
    },
    {
      "cell_type": "code",
      "metadata": {
        "id": "CT--y98_dr2T",
        "colab_type": "code",
        "colab": {}
      },
      "source": [
        "layer_dict = dict([(layer.name, layer) for layer in model.layers])"
      ],
      "execution_count": 0,
      "outputs": []
    },
    {
      "cell_type": "code",
      "metadata": {
        "id": "2GY4Upv4dsUR",
        "colab_type": "code",
        "outputId": "f5ab954d-acb5-4b54-9c55-eb39bb19809c",
        "colab": {
          "base_uri": "https://localhost:8080/",
          "height": 322
        }
      },
      "source": [
        "import numpy as np\n",
        "from matplotlib import pyplot as plt\n",
        "from keras import backend as K\n",
        "%matplotlib inline\n",
        "# util function to convert a tensor into a valid image\n",
        "def deprocess_image(x):\n",
        "    # normalize tensor: center on 0., ensure std is 0.1\n",
        "    x -= x.mean()\n",
        "    x /= (x.std() + 1e-5)\n",
        "    x *= 0.1\n",
        "\n",
        "    # clip to [0, 1]\n",
        "    x += 0.5\n",
        "    x = np.clip(x, 0, 1)\n",
        "\n",
        "    # convert to RGB array\n",
        "    x *= 255\n",
        "    #x = x.transpose((1, 2, 0))\n",
        "    x = np.clip(x, 0, 255).astype('uint8')\n",
        "    return x\n",
        "\n",
        "def vis_img_in_filter(img = np.array(X_train[2]).reshape((1, 28, 28, 1)).astype(np.float64), \n",
        "                      layer_name = 'conv2d_25'):\n",
        "    layer_output = layer_dict[layer_name].output\n",
        "    img_ascs = list()\n",
        "    for filter_index in range(layer_output.shape[3]):\n",
        "        # build a loss function that maximizes the activation\n",
        "        # of the nth filter of the layer considered\n",
        "        loss = K.mean(layer_output[:, :, :, filter_index])\n",
        "\n",
        "        # compute the gradient of the input picture wrt this loss\n",
        "        grads = K.gradients(loss, model.input)[0]\n",
        "\n",
        "        # normalization trick: we normalize the gradient\n",
        "        grads /= (K.sqrt(K.mean(K.square(grads))) + 1e-5)\n",
        "\n",
        "        # this function returns the loss and grads given the input picture\n",
        "        iterate = K.function([model.input], [loss, grads])\n",
        "\n",
        "        # step size for gradient ascent\n",
        "        step = 5.\n",
        "\n",
        "        img_asc = np.array(img)\n",
        "        # run gradient ascent for 20 steps\n",
        "        for i in range(20):\n",
        "            loss_value, grads_value = iterate([img_asc])\n",
        "            img_asc += grads_value * step\n",
        "\n",
        "        img_asc = img_asc[0]\n",
        "        img_ascs.append(deprocess_image(img_asc).reshape((28, 28)))\n",
        "        \n",
        "    if layer_output.shape[3] >= 35:\n",
        "        plot_x, plot_y = 6, 6\n",
        "    elif layer_output.shape[3] >= 23:\n",
        "        plot_x, plot_y = 4, 6\n",
        "    elif layer_output.shape[3] >= 11:\n",
        "        plot_x, plot_y = 2, 6\n",
        "    else:\n",
        "        plot_x, plot_y = 1, 2\n",
        "    fig, ax = plt.subplots(plot_x, plot_y, figsize = (12, 12))\n",
        "    ax[0, 0].imshow(img.reshape((28, 28)), cmap = 'gray')\n",
        "    ax[0, 0].set_title('Input image')\n",
        "    fig.suptitle('Input image and %s filters' % (layer_name,))\n",
        "    fig.tight_layout(pad = 0.3, rect = [0, 0, 0.9, 0.9])\n",
        "    for (x, y) in [(i, j) for i in range(plot_x) for j in range(plot_y)]:\n",
        "        if x == 0 and y == 0:\n",
        "            continue\n",
        "        ax[x, y].imshow(img_ascs[x * plot_y + y - 1], cmap = 'gray')\n",
        "        ax[x, y].set_title('filter %d' % (x * plot_y + y - 1))\n",
        "\n",
        "vis_img_in_filter()"
      ],
      "execution_count": 38,
      "outputs": [
        {
          "output_type": "error",
          "ename": "KeyError",
          "evalue": "ignored",
          "traceback": [
            "\u001b[0;31m---------------------------------------------------------------------------\u001b[0m",
            "\u001b[0;31mKeyError\u001b[0m                                  Traceback (most recent call last)",
            "\u001b[0;32m<ipython-input-38-6cff47d8c435>\u001b[0m in \u001b[0;36m<module>\u001b[0;34m()\u001b[0m\n\u001b[1;32m     69\u001b[0m         \u001b[0max\u001b[0m\u001b[0;34m[\u001b[0m\u001b[0mx\u001b[0m\u001b[0;34m,\u001b[0m \u001b[0my\u001b[0m\u001b[0;34m]\u001b[0m\u001b[0;34m.\u001b[0m\u001b[0mset_title\u001b[0m\u001b[0;34m(\u001b[0m\u001b[0;34m'filter %d'\u001b[0m \u001b[0;34m%\u001b[0m \u001b[0;34m(\u001b[0m\u001b[0mx\u001b[0m \u001b[0;34m*\u001b[0m \u001b[0mplot_y\u001b[0m \u001b[0;34m+\u001b[0m \u001b[0my\u001b[0m \u001b[0;34m-\u001b[0m \u001b[0;36m1\u001b[0m\u001b[0;34m)\u001b[0m\u001b[0;34m)\u001b[0m\u001b[0;34m\u001b[0m\u001b[0;34m\u001b[0m\u001b[0m\n\u001b[1;32m     70\u001b[0m \u001b[0;34m\u001b[0m\u001b[0m\n\u001b[0;32m---> 71\u001b[0;31m \u001b[0mvis_img_in_filter\u001b[0m\u001b[0;34m(\u001b[0m\u001b[0;34m)\u001b[0m\u001b[0;34m\u001b[0m\u001b[0;34m\u001b[0m\u001b[0m\n\u001b[0m",
            "\u001b[0;32m<ipython-input-38-6cff47d8c435>\u001b[0m in \u001b[0;36mvis_img_in_filter\u001b[0;34m(img, layer_name)\u001b[0m\n\u001b[1;32m     22\u001b[0m def vis_img_in_filter(img = np.array(X_train[2]).reshape((1, 28, 28, 1)).astype(np.float64), \n\u001b[1;32m     23\u001b[0m                       layer_name = 'conv2d_25'):\n\u001b[0;32m---> 24\u001b[0;31m     \u001b[0mlayer_output\u001b[0m \u001b[0;34m=\u001b[0m \u001b[0mlayer_dict\u001b[0m\u001b[0;34m[\u001b[0m\u001b[0mlayer_name\u001b[0m\u001b[0;34m]\u001b[0m\u001b[0;34m.\u001b[0m\u001b[0moutput\u001b[0m\u001b[0;34m\u001b[0m\u001b[0;34m\u001b[0m\u001b[0m\n\u001b[0m\u001b[1;32m     25\u001b[0m     \u001b[0mimg_ascs\u001b[0m \u001b[0;34m=\u001b[0m \u001b[0mlist\u001b[0m\u001b[0;34m(\u001b[0m\u001b[0;34m)\u001b[0m\u001b[0;34m\u001b[0m\u001b[0;34m\u001b[0m\u001b[0m\n\u001b[1;32m     26\u001b[0m     \u001b[0;32mfor\u001b[0m \u001b[0mfilter_index\u001b[0m \u001b[0;32min\u001b[0m \u001b[0mrange\u001b[0m\u001b[0;34m(\u001b[0m\u001b[0mlayer_output\u001b[0m\u001b[0;34m.\u001b[0m\u001b[0mshape\u001b[0m\u001b[0;34m[\u001b[0m\u001b[0;36m3\u001b[0m\u001b[0;34m]\u001b[0m\u001b[0;34m)\u001b[0m\u001b[0;34m:\u001b[0m\u001b[0;34m\u001b[0m\u001b[0;34m\u001b[0m\u001b[0m\n",
            "\u001b[0;31mKeyError\u001b[0m: 'conv2d_25'"
          ]
        }
      ]
    }
  ]
}